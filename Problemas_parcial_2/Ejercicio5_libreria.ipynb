{
 "cells": [
  {
   "cell_type": "code",
   "execution_count": 412,
   "metadata": {},
   "outputs": [],
   "source": [
    "import numpy as np\n",
    "import sympy as sym\n",
    "import math"
   ]
  },
  {
   "cell_type": "code",
   "execution_count": 413,
   "metadata": {},
   "outputs": [],
   "source": [
    "x = sym.Symbol('x',real=True)"
   ]
  },
  {
   "cell_type": "code",
   "execution_count": 414,
   "metadata": {},
   "outputs": [],
   "source": [
    "def GetLaguerre(n,x):\n",
    "    \n",
    "    y = (sym.exp(-x))*(x**n)\n",
    "    \n",
    "    dy = y.diff(x,n)\n",
    "    \n",
    "    polinomio = (sym.exp(x)*dy)/np.math.factorial(n)\n",
    "    \n",
    "    return polinomio"
   ]
  },
  {
   "cell_type": "code",
   "execution_count": 415,
   "metadata": {},
   "outputs": [],
   "source": [
    "def nodos_pesos(n):\n",
    "    \n",
    "    raices,pesos = np.polynomial.laguerre.laggauss(n)\n",
    "    \n",
    "    return raices,pesos"
   ]
  },
  {
   "cell_type": "code",
   "execution_count": 416,
   "metadata": {},
   "outputs": [],
   "source": [
    "def polinomio(n):\n",
    "    \n",
    "    for i in range(1,n):\n",
    "        \n",
    "        resultado = nodos_pesos(i)\n",
    "        \n",
    "        print(\"Polinomio grado: \" +str(i), \"sus raices son: \" ,resultado[0])"
   ]
  },
  {
   "cell_type": "code",
   "execution_count": 418,
   "metadata": {},
   "outputs": [
    {
     "name": "stdout",
     "output_type": "stream",
     "text": [
      "Polinomio grado: 1 sus raices son:  [1.]\n",
      "Polinomio grado: 2 sus raices son:  [0.58578644 3.41421356]\n",
      "Polinomio grado: 3 sus raices son:  [0.41577456 2.29428036 6.28994508]\n",
      "Polinomio grado: 4 sus raices son:  [0.32254769 1.7457611  4.5366203  9.39507091]\n",
      "Polinomio grado: 5 sus raices son:  [ 0.26356032  1.41340306  3.59642577  7.08581001 12.64080084]\n",
      "Polinomio grado: 6 sus raices son:  [ 0.2228466   1.1889321   2.99273633  5.77514357  9.83746742 15.98287398]\n",
      "Polinomio grado: 7 sus raices son:  [ 0.19304368  1.0266649   2.56787674  4.90035308  8.18215344 12.73418029\n",
      " 19.39572786]\n",
      "Polinomio grado: 8 sus raices son:  [ 0.17027963  0.90370178  2.25108663  4.26670017  7.0459054  10.75851601\n",
      " 15.74067864 22.86313174]\n",
      "Polinomio grado: 9 sus raices son:  [ 0.15232223  0.80722002  2.00513516  3.78347397  6.20495678  9.37298525\n",
      " 13.46623691 18.83359779 26.37407189]\n",
      "Polinomio grado: 10 sus raices son:  [ 0.13779347  0.72945455  1.8083429   3.4014337   5.55249614  8.33015275\n",
      " 11.84378584 16.27925783 21.99658581 29.92069701]\n",
      "Polinomio grado: 11 sus raices son:  [ 0.12579644  0.66541826  1.64715055  3.09113814  5.0292844   7.50988786\n",
      " 10.605951   14.43161376 19.1788574  25.21770934 33.49719285]\n",
      "Polinomio grado: 12 sus raices son:  [ 0.11572212  0.61175748  1.51261027  2.83375134  4.59922764  6.84452545\n",
      "  9.62131684 13.00605499 17.11685519 22.15109038 28.48796725 37.09912104]\n",
      "Polinomio grado: 13 sus raices son:  [ 0.10714239  0.5661319   1.39856434  2.61659711  4.23884593  6.29225627\n",
      "  8.81500194 11.86140359 15.51076204 19.88463566 25.18526386 31.8003863\n",
      " 40.72300867]\n",
      "Polinomio grado: 14 sus raices son:  [ 0.09974751  0.52685765  1.30062912  2.43080108  3.93210282  5.82553622\n",
      "  8.14024014 10.91649951 14.21080501 18.10489222 22.72338163 28.27298172\n",
      " 35.14944366 44.36608171]\n",
      "Polinomio grado: 15 sus raices son:  [ 0.09330781  0.49269174  1.21559541  2.26994953  3.66762272  5.42533663\n",
      "  7.56591623 10.12022857 13.13028248 16.65440771 20.7764789  25.62389423\n",
      " 31.40751917 38.53068331 48.02608557]\n",
      "Polinomio grado: 16 sus raices son:  [ 0.08764941  0.46269633  1.14105777  2.12928365  3.43708663  5.07801861\n",
      "  7.07033854  9.43831434 12.21422337 15.44152737 19.18015686 23.51590569\n",
      " 28.57872974 34.5833987  41.94045265 51.70116034]\n",
      "Polinomio grado: 17 sus raices son:  [ 0.08263821  0.43615032  1.07517658  2.00519353  3.23425612  4.77351351\n",
      "  6.63782921  8.84668551 11.42552932 14.40782304 17.83828473 21.77826826\n",
      " 26.31531781 31.58177168 37.79609384 45.37571653 55.38975179]\n",
      "Polinomio grado: 18 sus raices son:  [ 0.07816917  0.41249009  1.01652018  1.89488851  3.05435311  4.50420554\n",
      "  6.25672507  8.32782516 10.73799005 13.51365621 16.68930628 20.31076763\n",
      " 24.44068136 29.16820866 34.62792707 41.04181677 48.83392272 59.09054644]\n",
      "Polinomio grado: 19 sus raices son:  [ 0.07415878  0.39126861  0.96395734  1.79617558  2.89365138  4.26421554\n",
      "  5.91814156  7.86861892 10.13242372 12.73088146 15.69127834 19.04899321\n",
      " 22.85084976 27.16066933 32.06912225 37.7129058  44.3173628  52.31290246\n",
      " 62.80242315]\n",
      "Polinomio grado: 20 sus raices son:  [ 0.07053989  0.37212682  0.9165821   1.70730653  2.74919926  4.04892531\n",
      "  5.61517497  7.45901745  9.59439287 12.03880255 14.81429344 17.94889552\n",
      " 21.47878824 25.45170279 29.93255463 35.01343424 40.83305706 47.61999405\n",
      " 55.81079575 66.52441653]\n"
     ]
    }
   ],
   "source": [
    "polinomio(21)"
   ]
  }
 ],
 "metadata": {
  "kernelspec": {
   "display_name": "base",
   "language": "python",
   "name": "python3"
  },
  "language_info": {
   "codemirror_mode": {
    "name": "ipython",
    "version": 3
   },
   "file_extension": ".py",
   "mimetype": "text/x-python",
   "name": "python",
   "nbconvert_exporter": "python",
   "pygments_lexer": "ipython3",
   "version": "3.11.4"
  },
  "orig_nbformat": 4
 },
 "nbformat": 4,
 "nbformat_minor": 2
}
