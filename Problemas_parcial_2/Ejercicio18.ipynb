{
 "cells": [
  {
   "cell_type": "code",
   "execution_count": 1,
   "metadata": {},
   "outputs": [],
   "source": [
    "import numpy as np\n",
    "import sympy as sym\n",
    "sym.init_printing(use_unicode=True)"
   ]
  },
  {
   "cell_type": "code",
   "execution_count": 2,
   "metadata": {},
   "outputs": [],
   "source": [
    "x = sym.Symbol('x',real=True)"
   ]
  },
  {
   "cell_type": "code",
   "execution_count": 3,
   "metadata": {},
   "outputs": [],
   "source": [
    "def GetHermite(n,x):\n",
    "      \n",
    "    y = sym.exp(-x**2)\n",
    "    \n",
    "    poly = (-1)**n*sym.exp(x**2)*sym.diff(y,x,n)\n",
    "    \n",
    "    return poly"
   ]
  },
  {
   "cell_type": "code",
   "execution_count": 4,
   "metadata": {},
   "outputs": [],
   "source": [
    "def GetDHermite(n,x):\n",
    "    Pn = GetHermite(n,x)\n",
    "    return sym.diff(Pn,x,1)"
   ]
  },
  {
   "cell_type": "code",
   "execution_count": 5,
   "metadata": {},
   "outputs": [],
   "source": [
    "def GetNewton(f,df,xn,itmax=10000,precision=1e-14):\n",
    "    \n",
    "    error = 1.\n",
    "    it = 0\n",
    "    \n",
    "    while error >= precision and it < itmax:\n",
    "        \n",
    "        try:\n",
    "            \n",
    "            xn1 = xn - f(xn)/df(xn)\n",
    "            \n",
    "            error = np.abs(f(xn)/df(xn))\n",
    "            \n",
    "        except ZeroDivisionError:\n",
    "            print('Zero Division')\n",
    "            \n",
    "        xn = xn1\n",
    "        it += 1\n",
    "        \n",
    "    if it == itmax:\n",
    "        return False\n",
    "    else:\n",
    "        return xn"
   ]
  },
  {
   "cell_type": "code",
   "execution_count": 6,
   "metadata": {},
   "outputs": [],
   "source": [
    "def GetRoots(f,df,x,tolerancia = 10):\n",
    "    \n",
    "    Roots = np.array([])\n",
    "    \n",
    "    for i in x:\n",
    "        \n",
    "        root = GetNewton(f,df,i)\n",
    "\n",
    "        if  type(root)!=bool:\n",
    "            croot = np.round( root, tolerancia )\n",
    "            \n",
    "            if croot not in Roots:\n",
    "                Roots = np.append(Roots, croot)\n",
    "                \n",
    "    Roots.sort()\n",
    "    \n",
    "    return Roots"
   ]
  },
  {
   "cell_type": "code",
   "execution_count": 7,
   "metadata": {},
   "outputs": [],
   "source": [
    "def GetAllRootsGHer(n):\n",
    "\n",
    "    xn = np.linspace(-np.sqrt(4+n+1),np.sqrt(4+n+1),100)\n",
    "    \n",
    "    Hermite = []\n",
    "    DHermite = []\n",
    "    \n",
    "    for i in range(n+1):\n",
    "        Hermite.append(GetHermite(i,x))\n",
    "        DHermite.append(GetDHermite(i,x))\n",
    "    \n",
    "    poly = sym.lambdify([x],Hermite[n],'numpy')\n",
    "    Dpoly = sym.lambdify([x],DHermite[n],'numpy')\n",
    "    Roots = GetRoots(poly,Dpoly,xn)\n",
    "\n",
    "    if len(Roots) != n:\n",
    "        ValueError('El número de raíces debe ser igual al n del polinomio.')\n",
    "    \n",
    "    return Roots"
   ]
  },
  {
   "cell_type": "code",
   "execution_count": 9,
   "metadata": {},
   "outputs": [],
   "source": [
    "raices = []\n",
    "\n",
    "for i in range(2,23):\n",
    "    \n",
    "    l = []\n",
    "    \n",
    "    r = GetAllRootsGHer(i)\n",
    "    \n",
    "    l.append(r)\n",
    "    \n",
    "    raices.append(l)"
   ]
  },
  {
   "cell_type": "code",
   "execution_count": 10,
   "metadata": {},
   "outputs": [
    {
     "name": "stdout",
     "output_type": "stream",
     "text": [
      "El polinomio de grado  2  tiene las siguientes raíces:  [array([-0.70710678,  0.70710678])]\n",
      "El polinomio de grado  3  tiene las siguientes raíces:  [array([-1.22474487,  0.        ,  1.22474487])]\n",
      "El polinomio de grado  4  tiene las siguientes raíces:  [array([-1.65068012, -0.52464762,  0.52464762,  1.65068012])]\n",
      "El polinomio de grado  5  tiene las siguientes raíces:  [array([-2.02018287, -0.95857246,  0.        ,  0.95857246,  2.02018287])]\n",
      "El polinomio de grado  6  tiene las siguientes raíces:  [array([-2.35060497, -1.33584907, -0.43607741,  0.43607741,  1.33584907,\n",
      "        2.35060497])]\n",
      "El polinomio de grado  7  tiene las siguientes raíces:  [array([-2.65196136, -1.67355163, -0.81628788,  0.        ,  0.81628788,\n",
      "        1.67355163,  2.65196136])]\n",
      "El polinomio de grado  8  tiene las siguientes raíces:  [array([-2.93063742, -1.98165676, -1.15719371, -0.38118699,  0.38118699,\n",
      "        1.15719371,  1.98165676,  2.93063742])]\n",
      "El polinomio de grado  9  tiene las siguientes raíces:  [array([-3.1909932 , -2.26658058, -1.46855329, -0.72355102,  0.        ,\n",
      "        0.72355102,  1.46855329,  2.26658058,  3.1909932 ])]\n",
      "El polinomio de grado  10  tiene las siguientes raíces:  [array([-3.43615912, -2.53273167, -1.75668365, -1.03661083, -0.34290133,\n",
      "        0.34290133,  1.03661083,  1.75668365,  2.53273167,  3.43615912])]\n",
      "El polinomio de grado  11  tiene las siguientes raíces:  [array([-3.66847085, -2.7832901 , -2.02594802, -1.32655708, -0.65680957,\n",
      "        0.        ,  0.65680957,  1.32655708,  2.02594802,  2.7832901 ,\n",
      "        3.66847085])]\n",
      "El polinomio de grado  12  tiene las siguientes raíces:  [array([-3.8897249 , -3.02063703, -2.27950708, -1.59768264, -0.94778839,\n",
      "       -0.31424038,  0.31424038,  0.94778839,  1.59768264,  2.27950708,\n",
      "        3.02063703,  3.8897249 ])]\n",
      "El polinomio de grado  13  tiene las siguientes raíces:  [array([-4.1013376 , -3.24660898, -2.51973569, -1.85310765, -1.22005504,\n",
      "       -0.60576388,  0.        ,  0.60576388,  1.22005504,  1.85310765,\n",
      "        2.51973569,  3.24660898,  4.1013376 ])]\n",
      "El polinomio de grado  14  tiene las siguientes raíces:  [array([-4.30444857, -3.46265693, -2.74847072, -2.09518326, -1.47668273,\n",
      "       -0.87871379, -0.29174551,  0.29174551,  0.87871379,  1.47668273,\n",
      "        2.09518326,  2.74847072,  3.46265693,  4.30444857])]\n",
      "El polinomio de grado  15  tiene las siguientes raíces:  [array([-4.49999071, -3.66995037, -2.96716693, -2.32573249, -1.71999258,\n",
      "       -1.13611559, -0.56506958,  0.        ,  0.56506958,  1.13611559,\n",
      "        1.71999258,  2.32573249,  2.96716693,  3.66995037,  4.49999071])]\n",
      "El polinomio de grado  16  tiene las siguientes raíces:  [array([-4.68873894, -3.8694479 , -3.17699916, -2.54620216, -1.95178799,\n",
      "       -1.38025854, -0.82295145, -0.27348105,  0.27348105,  0.82295145,\n",
      "        1.38025854,  1.95178799,  2.54620216,  3.17699916,  3.8694479 ,\n",
      "        4.68873894])]\n",
      "El polinomio de grado  17  tiene las siguientes raíces:  [array([-4.87134519, -4.06194668, -3.37893209, -2.75776292, -2.17350283,\n",
      "       -1.61292431, -1.06764873, -0.531633  ,  0.        ,  0.531633  ,\n",
      "        1.06764873,  1.61292431,  2.17350283,  2.75776292,  3.37893209,\n",
      "        4.06194668,  4.87134519])]\n",
      "El polinomio de grado  18  tiene las siguientes raíces:  [array([-5.04836401, -4.24811787, -3.57376907, -2.96137751, -2.38629909,\n",
      "       -1.8355316 , -1.30092086, -0.77668292, -0.25826775,  0.25826775,\n",
      "        0.77668292,  1.30092086,  1.8355316 ,  2.38629909,  2.96137751,\n",
      "        3.57376907,  4.24811787,  5.04836401])]\n",
      "El polinomio de grado  19  tiene las siguientes raíces:  [array([-4.42853281, -3.76218735, -3.15784882, -2.59113379, -2.04923171,\n",
      "       -1.52417062, -1.01036839, -0.50352016,  0.        ,  0.50352016,\n",
      "        1.01036839,  1.52417062,  2.04923171,  2.59113379,  3.15784882,\n",
      "        3.76218735,  4.42853281])]\n",
      "El polinomio de grado  20  tiene las siguientes raíces:  [array([-4.60368245, -3.94476404, -3.34785457, -2.78880606, -2.254974  ,\n",
      "       -1.73853771, -1.23407622, -0.73747373, -0.24534071,  0.24534071,\n",
      "        0.73747373,  1.23407622,  1.73853771,  2.254974  ,  2.78880606,\n",
      "        3.34785457,  3.94476404,  4.60368245])]\n",
      "El polinomio de grado  21  tiene las siguientes raíces:  [array([-4.77399234, -4.12199555, -3.53197288, -2.97999121, -2.45355212,\n",
      "       -1.94496295, -1.44893425, -0.96149963, -0.47945071,  0.        ,\n",
      "        0.47945071,  0.96149963,  1.44893425,  1.94496295,  2.45355212,\n",
      "        2.97999121,  3.53197288,  4.12199555,  4.77399234,  5.55035187])]\n",
      "El polinomio de grado  22  tiene las siguientes raíces:  [array([-5.70920135, -4.93983413, -4.29431248, -3.71070153, -3.16526591,\n",
      "       -2.64563744, -2.14423359, -1.65587437, -1.17671396, -0.7036861 ,\n",
      "       -0.23417914,  0.23417914,  0.7036861 ,  1.17671396,  1.65587437,\n",
      "        2.14423359,  3.16526591,  3.71070153,  4.29431248,  4.93983413,\n",
      "        5.70920135])]\n"
     ]
    }
   ],
   "source": [
    "for i,raiz in enumerate(raices):\n",
    "    \n",
    "    print(\"El polinomio de grado \", str(i+2), \" tiene las siguientes raíces: \", raiz)"
   ]
  },
  {
   "cell_type": "code",
   "execution_count": 13,
   "metadata": {},
   "outputs": [
    {
     "name": "stdout",
     "output_type": "stream",
     "text": [
      "Por si acaso el polinomio de grado 22 con sus ceros es:  [array([-5.70920135, -4.93983413, -4.29431248, -3.71070153, -3.16526591,\n",
      "       -2.64563744, -2.14423359, -1.65587437, -1.17671396, -0.7036861 ,\n",
      "       -0.23417914,  0.23417914,  0.7036861 ,  1.17671396,  1.65587437,\n",
      "        2.14423359,  3.16526591,  3.71070153,  4.29431248,  4.93983413,\n",
      "        5.70920135])]\n"
     ]
    }
   ],
   "source": [
    "print(\"Por si acaso el polinomio de grado 22 con sus ceros es: \", raices[20])"
   ]
  },
  {
   "cell_type": "code",
   "execution_count": 14,
   "metadata": {},
   "outputs": [],
   "source": [
    "def GetWeightsGHer(n):\n",
    "\n",
    "    Roots = GetAllRootsGHer(n)\n",
    "\n",
    "    Hermite = []\n",
    "    \n",
    "    for i in range(n):\n",
    "        Hermite.append(GetHermite(i,x))\n",
    "        \n",
    "    \n",
    "    poly = sym.lambdify([x],Hermite[n-1],'numpy')\n",
    "    Weights = (2**(n-1))*(np.math.factorial(n))*(np.sqrt(np.pi))/((n**2)*(poly(Roots))**2)\n",
    "    \n",
    "    return Weights"
   ]
  },
  {
   "cell_type": "code",
   "execution_count": 15,
   "metadata": {},
   "outputs": [],
   "source": [
    "pesos = []\n",
    "\n",
    "for i in range(2,23):\n",
    "    \n",
    "    l = []\n",
    "    \n",
    "    p = GetWeightsGHer(i)\n",
    "    \n",
    "    l.append(p)\n",
    "    \n",
    "    pesos.append(l)"
   ]
  },
  {
   "cell_type": "code",
   "execution_count": 16,
   "metadata": {},
   "outputs": [
    {
     "name": "stdout",
     "output_type": "stream",
     "text": [
      "El polinomio de grado  2  tiene las siguientes raíces:  [array([0.88622693, 0.88622693])]\n",
      "El polinomio de grado  3  tiene las siguientes raíces:  [array([0.29540898, 1.1816359 , 0.29540898])]\n",
      "El polinomio de grado  4  tiene las siguientes raíces:  [array([0.08131284, 0.80491409, 0.80491409, 0.08131284])]\n",
      "El polinomio de grado  5  tiene las siguientes raíces:  [array([0.01995324, 0.39361932, 0.94530872, 0.39361932, 0.01995324])]\n",
      "El polinomio de grado  6  tiene las siguientes raíces:  [array([0.00453001, 0.15706732, 0.7246296 , 0.7246296 , 0.15706732,\n",
      "       0.00453001])]\n",
      "El polinomio de grado  7  tiene las siguientes raíces:  [array([0.00097178, 0.05451558, 0.42560725, 0.81026462, 0.42560725,\n",
      "       0.05451558, 0.00097178])]\n",
      "El polinomio de grado  8  tiene las siguientes raíces:  [array([1.99604072e-04, 1.70779830e-02, 2.07802326e-01, 6.61147013e-01,\n",
      "       6.61147013e-01, 2.07802326e-01, 1.70779830e-02, 1.99604072e-04])]\n",
      "El polinomio de grado  9  tiene las siguientes raíces:  [array([3.96069773e-05, 4.94362428e-03, 8.84745274e-02, 4.32651559e-01,\n",
      "       7.20235216e-01, 4.32651559e-01, 8.84745274e-02, 4.94362428e-03,\n",
      "       3.96069773e-05])]\n",
      "El polinomio de grado  10  tiene las siguientes raíces:  [array([7.64043286e-06, 1.34364575e-03, 3.38743945e-02, 2.40138611e-01,\n",
      "       6.10862634e-01, 6.10862634e-01, 2.40138611e-01, 3.38743945e-02,\n",
      "       1.34364575e-03, 7.64043286e-06])]\n",
      "El polinomio de grado  11  tiene las siguientes raíces:  [array([1.43956039e-06, 3.46819466e-04, 1.19113954e-02, 1.17227875e-01,\n",
      "       4.29359752e-01, 6.54759287e-01, 4.29359752e-01, 1.17227875e-01,\n",
      "       1.19113954e-02, 3.46819466e-04, 1.43956039e-06])]\n",
      "El polinomio de grado  12  tiene las siguientes raíces:  [array([2.65855168e-07, 8.57368705e-05, 3.90539058e-03, 5.16079856e-02,\n",
      "       2.60492310e-01, 5.70135236e-01, 5.70135236e-01, 2.60492310e-01,\n",
      "       5.16079856e-02, 3.90539058e-03, 8.57368705e-05, 2.65855168e-07])]\n",
      "El polinomio de grado  13  tiene las siguientes raíces:  [array([4.82573185e-08, 2.04303604e-05, 1.20745999e-03, 2.08627753e-02,\n",
      "       1.40323321e-01, 4.21616297e-01, 6.04393188e-01, 4.21616297e-01,\n",
      "       1.40323321e-01, 2.08627753e-02, 1.20745999e-03, 2.04303604e-05,\n",
      "       4.82573185e-08])]\n",
      "El polinomio de grado  14  tiene las siguientes raíces:  [array([8.62859116e-09, 4.71648436e-06, 3.55092613e-04, 7.85005473e-03,\n",
      "       6.85055342e-02, 2.73105609e-01, 5.36405910e-01, 5.36405910e-01,\n",
      "       2.73105609e-01, 6.85055342e-02, 7.85005473e-03, 3.55092613e-04,\n",
      "       4.71648436e-06, 8.62859116e-09])]\n",
      "El polinomio de grado  15  tiene las siguientes raíces:  [array([1.52247580e-09, 1.05911555e-06, 1.00004441e-04, 2.77806884e-03,\n",
      "       3.07800339e-02, 1.58488916e-01, 4.12028687e-01, 5.64100309e-01,\n",
      "       4.12028687e-01, 1.58488916e-01, 3.07800339e-02, 2.77806884e-03,\n",
      "       1.00004441e-04, 1.05911555e-06, 1.52247580e-09])]\n",
      "El polinomio de grado  16  tiene las siguientes raíces:  [array([2.65480747e-10, 2.32098084e-07, 2.71186009e-05, 9.32284009e-04,\n",
      "       1.28803115e-02, 8.38100414e-02, 2.80647459e-01, 5.07929479e-01,\n",
      "       5.07929479e-01, 2.80647459e-01, 8.38100414e-02, 1.28803115e-02,\n",
      "       9.32284009e-04, 2.71186009e-05, 2.32098084e-07, 2.65480747e-10])]\n",
      "El polinomio de grado  17  tiene las siguientes raíces:  [array([4.58057893e-11, 4.97707898e-08, 7.11228914e-06, 2.98643287e-04,\n",
      "       5.06734996e-03, 4.09200342e-02, 1.72648298e-01, 4.01826470e-01,\n",
      "       5.30917938e-01, 4.01826470e-01, 1.72648298e-01, 4.09200342e-02,\n",
      "       5.06734996e-03, 2.98643287e-04, 7.11228914e-06, 4.97707898e-08,\n",
      "       4.58057893e-11])]\n",
      "El polinomio de grado  18  tiene las siguientes raíces:  [array([7.82819977e-12, 1.04672058e-08, 1.81065448e-06, 9.18112687e-05,\n",
      "       1.88852263e-03, 1.86400424e-02, 9.73017476e-02, 2.84807286e-01,\n",
      "       4.83495695e-01, 4.83495695e-01, 2.84807286e-01, 9.73017476e-02,\n",
      "       1.86400424e-02, 1.88852263e-03, 9.18112687e-05, 1.81065448e-06,\n",
      "       1.04672058e-08, 7.82819977e-12])]\n",
      "El polinomio de grado  19  tiene las siguientes raíces:  [array([2.16305101e-09, 4.48824314e-07, 2.72091978e-05, 6.70877521e-04,\n",
      "       7.98886677e-03, 5.08103869e-02, 1.83632701e-01, 3.91608989e-01,\n",
      "       5.02974888e-01, 3.91608989e-01, 1.83632701e-01, 5.08103869e-02,\n",
      "       7.98886677e-03, 6.70877521e-04, 2.72091978e-05, 4.48824314e-07,\n",
      "       2.16305101e-09])]\n",
      "El polinomio de grado  20  tiene las siguientes raíces:  [array([4.39934099e-10, 1.08606937e-07, 7.80255648e-06, 2.28338636e-04,\n",
      "       3.24377334e-03, 2.48105209e-02, 1.09017206e-01, 2.86675505e-01,\n",
      "       4.62243670e-01, 4.62243670e-01, 2.86675505e-01, 1.09017206e-01,\n",
      "       2.48105209e-02, 3.24377334e-03, 2.28338636e-04, 7.80255648e-06,\n",
      "       1.08606937e-07, 4.39934099e-10])]\n",
      "El polinomio de grado  21  tiene las siguientes raíces:  [array([8.81861124e-11, 2.57123018e-08, 2.17188490e-06, 7.47839887e-05,\n",
      "       1.25498204e-03, 1.14140658e-02, 6.01796466e-02, 1.92120324e-01,\n",
      "       3.81669074e-01, 4.79023703e-01, 3.81669074e-01, 1.92120324e-01,\n",
      "       6.01796466e-02, 1.14140658e-02, 1.25498204e-03, 7.47839887e-05,\n",
      "       2.17188490e-06, 2.57123018e-08, 8.81861124e-11, 3.72036507e-14])]\n",
      "El polinomio de grado  22  tiene las siguientes raíces:  [array([6.16718343e-15, 1.74433901e-11, 5.96699099e-09, 5.88428756e-07,\n",
      "       2.36551286e-05, 4.64885051e-04, 4.97839933e-03, 3.11403709e-02,\n",
      "       1.19102361e-01, 2.86971433e-01, 4.43545226e-01, 4.43545226e-01,\n",
      "       2.86971433e-01, 1.19102361e-01, 3.11403709e-02, 4.97839933e-03,\n",
      "       2.36551286e-05, 5.88428756e-07, 5.96699099e-09, 1.74433901e-11,\n",
      "       6.16718343e-15])]\n"
     ]
    }
   ],
   "source": [
    "for i,peso in enumerate(pesos):\n",
    "    \n",
    "    print(\"El polinomio de grado \", str(i+2), \" tiene las siguientes raíces: \", peso)"
   ]
  },
  {
   "cell_type": "code",
   "execution_count": 17,
   "metadata": {},
   "outputs": [
    {
     "name": "stdout",
     "output_type": "stream",
     "text": [
      "Por si acaso los pesos del polinomio 22 son:  [array([6.16718343e-15, 1.74433901e-11, 5.96699099e-09, 5.88428756e-07,\n",
      "       2.36551286e-05, 4.64885051e-04, 4.97839933e-03, 3.11403709e-02,\n",
      "       1.19102361e-01, 2.86971433e-01, 4.43545226e-01, 4.43545226e-01,\n",
      "       2.86971433e-01, 1.19102361e-01, 3.11403709e-02, 4.97839933e-03,\n",
      "       2.36551286e-05, 5.88428756e-07, 5.96699099e-09, 1.74433901e-11,\n",
      "       6.16718343e-15])]\n"
     ]
    }
   ],
   "source": [
    "print(\"Por si acaso los pesos del polinomio 22 son: \", pesos[20])"
   ]
  },
  {
   "cell_type": "code",
   "execution_count": 19,
   "metadata": {},
   "outputs": [
    {
     "name": "stdout",
     "output_type": "stream",
     "text": [
      "Parte_b\n"
     ]
    }
   ],
   "source": [
    "print(\"Parte_b\")"
   ]
  },
  {
   "cell_type": "code",
   "execution_count": 36,
   "metadata": {},
   "outputs": [],
   "source": [
    "f = lambda x: (2*(x**4))/np.sqrt(np.pi)\n",
    "\n",
    "raices_o = GetAllRootsGHer(21)\n",
    "\n",
    "pesos_o = GetWeightsGHer(21)\n",
    "\n",
    "I = np.sum(pesos_o*f(raices_o))"
   ]
  },
  {
   "cell_type": "code",
   "execution_count": 37,
   "metadata": {},
   "outputs": [
    {
     "data": {
      "image/png": "[encoded data removed]",
      "text/latex": [
       "$\\displaystyle 1.49999999985725$"
      ],
      "text/plain": [
       "1.4999999998572493"
      ]
     },
     "execution_count": 37,
     "metadata": {},
     "output_type": "execute_result"
    }
   ],
   "source": [
    "I"
   ]
  },
  {
   "cell_type": "code",
   "execution_count": 30,
   "metadata": {},
   "outputs": [
    {
     "name": "stdout",
     "output_type": "stream",
     "text": [
      "El valor cuadrático medio de la posición de la partícula en el primer estado excitado es:  1.5\n"
     ]
    }
   ],
   "source": [
    "print(\"El valor cuadrático medio de la posición de la partícula en el primer estado excitado es: \",str(round(I,2)))"
   ]
  }
 ],
 "metadata": {
  "kernelspec": {
   "display_name": "base",
   "language": "python",
   "name": "python3"
  },
  "language_info": {
   "codemirror_mode": {
    "name": "ipython",
    "version": 3
   },
   "file_extension": ".py",
   "mimetype": "text/x-python",
   "name": "python",
   "nbconvert_exporter": "python",
   "pygments_lexer": "ipython3",
   "version": "3.11.4"
  },
  "orig_nbformat": 4
 },
 "nbformat": 4,
 "nbformat_minor": 2
}
