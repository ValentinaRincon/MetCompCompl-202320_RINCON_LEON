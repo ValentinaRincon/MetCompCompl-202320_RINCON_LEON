{
 "cells": [
  {
   "cell_type": "code",
   "execution_count": 25,
   "metadata": {},
   "outputs": [],
   "source": [
    "import numpy as np\n",
    "import sympy as sym\n",
    "sym.init_printing(use_unicode=True)"
   ]
  },
  {
   "cell_type": "code",
   "execution_count": 26,
   "metadata": {},
   "outputs": [],
   "source": [
    "x = sym.Symbol('x',real=True)"
   ]
  },
  {
   "cell_type": "code",
   "execution_count": 27,
   "metadata": {},
   "outputs": [],
   "source": [
    "def GetHermite(n,x):\n",
    "\n",
    "    if n==0:\n",
    "        poly = sym.Number(1)\n",
    "    elif n==1:\n",
    "        poly = 2*x\n",
    "    else:\n",
    "        poly = (2*x*GetHermite(n-1,x))-(2)*(n-1)*GetHermite(n-2,x)\n",
    "   \n",
    "    return sym.expand(poly,x)"
   ]
  },
  {
   "cell_type": "code",
   "execution_count": 28,
   "metadata": {},
   "outputs": [],
   "source": [
    "def GetDHermite(n,x):\n",
    "    Pn = GetHermite(n,x)\n",
    "    return sym.diff(Pn,x,1)"
   ]
  },
  {
   "cell_type": "code",
   "execution_count": 29,
   "metadata": {},
   "outputs": [],
   "source": [
    "def GetNewton(f,df,xn,itmax=10000,precision=1e-14):\n",
    "    \n",
    "    error = 1.\n",
    "    it = 0\n",
    "    \n",
    "    while error >= precision and it < itmax:\n",
    "        \n",
    "        try:\n",
    "            \n",
    "            xn1 = xn - f(xn)/df(xn)\n",
    "            \n",
    "            error = np.abs(f(xn)/df(xn))\n",
    "            \n",
    "        except ZeroDivisionError:\n",
    "            print('Zero Division')\n",
    "            \n",
    "        xn = xn1\n",
    "        it += 1\n",
    "        \n",
    "    if it == itmax:\n",
    "        return False\n",
    "    else:\n",
    "        return xn"
   ]
  },
  {
   "cell_type": "code",
   "execution_count": 30,
   "metadata": {},
   "outputs": [],
   "source": [
    "def GetRoots(f,df,x,tolerancia = 10):\n",
    "    \n",
    "    Roots = np.array([])\n",
    "    \n",
    "    for i in x:\n",
    "        \n",
    "        root = GetNewton(f,df,i)\n",
    "\n",
    "        if  type(root)!=bool:\n",
    "            croot = np.round( root, tolerancia )\n",
    "            \n",
    "            if croot not in Roots:\n",
    "                Roots = np.append(Roots, croot)\n",
    "                \n",
    "    Roots.sort()\n",
    "    \n",
    "    return Roots"
   ]
  },
  {
   "cell_type": "code",
   "execution_count": 31,
   "metadata": {},
   "outputs": [],
   "source": [
    "def GetAllRootsGHer(n):\n",
    "\n",
    "    xn = np.linspace(-np.sqrt(4+n+1),np.sqrt(4+n+1),100)\n",
    "    \n",
    "    Hermite = []\n",
    "    DHermite = []\n",
    "    \n",
    "    for i in range(n+1):\n",
    "        Hermite.append(GetHermite(i,x))\n",
    "        DHermite.append(GetDHermite(i,x))\n",
    "    \n",
    "    poly = sym.lambdify([x],Hermite[n],'numpy')\n",
    "    Dpoly = sym.lambdify([x],DHermite[n],'numpy')\n",
    "    Roots = GetRoots(poly,Dpoly,xn)\n",
    "\n",
    "    if len(Roots) != n:\n",
    "        ValueError('El número de raíces debe ser igual al n del polinomio.')\n",
    "    \n",
    "    return Roots"
   ]
  },
  {
   "cell_type": "code",
   "execution_count": 50,
   "metadata": {},
   "outputs": [],
   "source": [
    "def GetWeightsGHer(n):\n",
    "\n",
    "    Roots = GetAllRootsGHer(n)\n",
    "\n",
    "    Hermite = []\n",
    "    \n",
    "    for i in range(n):\n",
    "        Hermite.append(GetHermite(i,x))\n",
    "        \n",
    "    \n",
    "    poly = sym.lambdify([x],Hermite[n-1],'numpy')\n",
    "    Weights = (2**(n-1))*(np.math.factorial(n))*(np.sqrt(np.pi))/((n**2)*(poly(Roots))**2)\n",
    "    \n",
    "    return Weights"
   ]
  },
  {
   "cell_type": "code",
   "execution_count": 76,
   "metadata": {},
   "outputs": [],
   "source": [
    "raiz_20_m = GetAllRootsGHer(21)\n",
    "pesos_20_m = GetWeightsGHer(21)"
   ]
  },
  {
   "cell_type": "code",
   "execution_count": 74,
   "metadata": {},
   "outputs": [
    {
     "name": "stdout",
     "output_type": "stream",
     "text": [
      "Las raices del polinomio 20 de manera manual son:  [-5.55035187 -4.77399234 -4.12199555 -3.53197288 -2.97999121 -1.94496295\n",
      " -1.44893425 -0.96149963 -0.47945071  0.          0.47945071  0.96149963\n",
      "  1.44893425  1.94496295  2.45355212  2.97999121  3.53197288  4.12199555\n",
      "  4.77399234  5.55035187]\n"
     ]
    }
   ],
   "source": [
    "print(\"Las raices del polinomio 20 de manera manual son: \", raiz_20_m)"
   ]
  },
  {
   "cell_type": "code",
   "execution_count": 75,
   "metadata": {},
   "outputs": [
    {
     "name": "stdout",
     "output_type": "stream",
     "text": [
      "Los pesos del polinomio 20 de manera manual son:  [3.72036507e-14 8.81861124e-11 2.57123018e-08 2.17188490e-06\n",
      " 7.47839887e-05 1.14140658e-02 6.01796466e-02 1.92120324e-01\n",
      " 3.81669074e-01 4.79023703e-01 3.81669074e-01 1.92120324e-01\n",
      " 6.01796466e-02 1.14140658e-02 1.25498204e-03 7.47839887e-05\n",
      " 2.17188490e-06 2.57123018e-08 8.81861124e-11 3.72036507e-14]\n"
     ]
    }
   ],
   "source": [
    "print(\"Los pesos del polinomio 20 de manera manual son: \", pesos_20_m)"
   ]
  },
  {
   "cell_type": "code",
   "execution_count": null,
   "metadata": {},
   "outputs": [],
   "source": [
    "\"\"\"\n",
    "Con la librería queda como\n",
    "\n",
    "\"\"\""
   ]
  },
  {
   "cell_type": "code",
   "execution_count": 77,
   "metadata": {},
   "outputs": [],
   "source": [
    "def nodos_pesos(n):\n",
    "    \n",
    "    raices,pesos = np.polynomial.hermite.hermgauss(n)\n",
    "    \n",
    "    return raices,pesos"
   ]
  },
  {
   "cell_type": "code",
   "execution_count": 79,
   "metadata": {},
   "outputs": [],
   "source": [
    "def polinomio(n):\n",
    "    \n",
    "    resultado = nodos_pesos(n)\n",
    "    \n",
    "    raiz = resultado[0]\n",
    "    \n",
    "    peso = resultado[1]\n",
    "    \n",
    "    return raiz,peso\n",
    "        \n"
   ]
  },
  {
   "cell_type": "code",
   "execution_count": 82,
   "metadata": {},
   "outputs": [],
   "source": [
    "lib = polinomio(20)"
   ]
  },
  {
   "cell_type": "code",
   "execution_count": 88,
   "metadata": {},
   "outputs": [
    {
     "name": "stdout",
     "output_type": "stream",
     "text": [
      "Las raíces del polinomio del grado 20 con la librería son:  [-5.38748089 -4.60368245 -3.94476404 -3.34785457 -2.78880606 -2.254974\n",
      " -1.73853771 -1.23407622 -0.73747373 -0.24534071  0.24534071  0.73747373\n",
      "  1.23407622  1.73853771  2.254974    2.78880606  3.34785457  3.94476404\n",
      "  4.60368245  5.38748089]  y sus pesos son:  [2.22939365e-13 4.39934099e-10 1.08606937e-07 7.80255648e-06\n",
      " 2.28338636e-04 3.24377334e-03 2.48105209e-02 1.09017206e-01\n",
      " 2.86675505e-01 4.62243670e-01 4.62243670e-01 2.86675505e-01\n",
      " 1.09017206e-01 2.48105209e-02 3.24377334e-03 2.28338636e-04\n",
      " 7.80255648e-06 1.08606937e-07 4.39934099e-10 2.22939365e-13]\n"
     ]
    }
   ],
   "source": [
    "print(\"Las raíces del polinomio del grado 20 con la librería son: \", lib[0],\" y sus pesos son: \", lib[1])"
   ]
  },
  {
   "cell_type": "code",
   "execution_count": 83,
   "metadata": {},
   "outputs": [
    {
     "name": "stdout",
     "output_type": "stream",
     "text": [
      "Parte_b\n"
     ]
    }
   ],
   "source": [
    "print(\"Parte_b\")"
   ]
  },
  {
   "cell_type": "code",
   "execution_count": 85,
   "metadata": {},
   "outputs": [],
   "source": [
    "f = lambda x: (2*(x**4))/np.sqrt(np.pi)\n",
    "\n",
    "I = np.sum(lib[1]*f(lib[0]))"
   ]
  },
  {
   "cell_type": "code",
   "execution_count": 86,
   "metadata": {},
   "outputs": [
    {
     "data": {
      "image/png": "[encoded data removed]",
      "text/latex": [
       "$\\displaystyle 1.5$"
      ],
      "text/plain": [
       "1.5000000000000002"
      ]
     },
     "execution_count": 86,
     "metadata": {},
     "output_type": "execute_result"
    }
   ],
   "source": [
    "I"
   ]
  },
  {
   "cell_type": "code",
   "execution_count": 87,
   "metadata": {},
   "outputs": [
    {
     "name": "stdout",
     "output_type": "stream",
     "text": [
      "El valor cuadrático medio de la posición de la partícula en el primer estado excitado es:  1.5000000000000002\n"
     ]
    }
   ],
   "source": [
    "print(\"El valor cuadrático medio de la posición de la partícula en el primer estado excitado es: \", I)"
   ]
  }
 ],
 "metadata": {
  "kernelspec": {
   "display_name": "base",
   "language": "python",
   "name": "python3"
  },
  "language_info": {
   "codemirror_mode": {
    "name": "ipython",
    "version": 3
   },
   "file_extension": ".py",
   "mimetype": "text/x-python",
   "name": "python",
   "nbconvert_exporter": "python",
   "pygments_lexer": "ipython3",
   "version": "3.11.4"
  },
  "orig_nbformat": 4
 },
 "nbformat": 4,
 "nbformat_minor": 2
}
