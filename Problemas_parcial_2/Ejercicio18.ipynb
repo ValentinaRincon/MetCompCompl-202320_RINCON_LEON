{
 "cells": [
  {
   "cell_type": "code",
   "execution_count": 1,
   "metadata": {},
   "outputs": [],
   "source": [
    "import numpy as np\n",
    "import sympy as sym\n",
    "sym.init_printing(use_unicode=True)"
   ]
  },
  {
   "cell_type": "code",
   "execution_count": 2,
   "metadata": {},
   "outputs": [],
   "source": [
    "x = sym.Symbol('x',real=True)"
   ]
  },
  {
   "cell_type": "code",
   "execution_count": 3,
   "metadata": {},
   "outputs": [],
   "source": [
    "def GetHermite(n,x):\n",
    "      \n",
    "    y = sym.exp(-x**2)\n",
    "    \n",
    "    poly = (-1)**n*sym.exp(x**2)*sym.diff(y,x,n)\n",
    "    \n",
    "    return poly"
   ]
  },
  {
   "cell_type": "code",
   "execution_count": 4,
   "metadata": {},
   "outputs": [],
   "source": [
    "def GetDHermite(n,x):\n",
    "    Pn = GetHermite(n,x)\n",
    "    return sym.diff(Pn,x,1)"
   ]
  },
  {
   "cell_type": "code",
   "execution_count": 5,
   "metadata": {},
   "outputs": [],
   "source": [
    "def GetNewton(f,df,xn,itmax=10000,precision=1e-14):\n",
    "    \n",
    "    error = 1.\n",
    "    it = 0\n",
    "    \n",
    "    while error >= precision and it < itmax:\n",
    "        \n",
    "        try:\n",
    "            \n",
    "            xn1 = xn - f(xn)/df(xn)\n",
    "            \n",
    "            error = np.abs(f(xn)/df(xn))\n",
    "            \n",
    "        except ZeroDivisionError:\n",
    "            print('Zero Division')\n",
    "            \n",
    "        xn = xn1\n",
    "        it += 1\n",
    "        \n",
    "    if it == itmax:\n",
    "        return False\n",
    "    else:\n",
    "        return xn"
   ]
  },
  {
   "cell_type": "code",
   "execution_count": 6,
   "metadata": {},
   "outputs": [],
   "source": [
    "def GetRoots(f,df,x,tolerancia = 10):\n",
    "    \n",
    "    Roots = np.array([])\n",
    "    \n",
    "    for i in x:\n",
    "        \n",
    "        root = GetNewton(f,df,i)\n",
    "\n",
    "        if  type(root)!=bool:\n",
    "            croot = np.round( root, tolerancia )\n",
    "            \n",
    "            if croot not in Roots:\n",
    "                Roots = np.append(Roots, croot)\n",
    "                \n",
    "    Roots.sort()\n",
    "    \n",
    "    return Roots"
   ]
  },
  {
   "cell_type": "code",
   "execution_count": 7,
   "metadata": {},
   "outputs": [],
   "source": [
    "def GetAllRootsGHer(n):\n",
    "\n",
    "    xn = np.linspace(-np.sqrt(4+n+1),np.sqrt(4+n+1),100)\n",
    "    \n",
    "    Hermite = []\n",
    "    DHermite = []\n",
    "    \n",
    "    for i in range(n+1):\n",
    "        Hermite.append(GetHermite(i,x))\n",
    "        DHermite.append(GetDHermite(i,x))\n",
    "    \n",
    "    poly = sym.lambdify([x],Hermite[n],'numpy')\n",
    "    Dpoly = sym.lambdify([x],DHermite[n],'numpy')\n",
    "    Roots = GetRoots(poly,Dpoly,xn)\n",
    "\n",
    "    if len(Roots) != n:\n",
    "        ValueError('El número de raíces debe ser igual al n del polinomio.')\n",
    "    \n",
    "    return Roots"
   ]
  },
  {
   "cell_type": "code",
   "execution_count": 9,
   "metadata": {},
   "outputs": [],
   "source": [
    "raices = []\n",
    "\n",
    "for i in range(2,23):\n",
    "    \n",
    "    l = []\n",
    "    \n",
    "    r = GetAllRootsGHer(i)\n",
    "    \n",
    "    l.append(r)\n",
    "    \n",
    "    raices.append(l)"
   ]
  },
  {
   "cell_type": "code",
   "execution_count": 10,
   "metadata": {},
   "outputs": [
    {
     "name": "stdout",
     "output_type": "stream",
     "text": [
      "El polinomio de grado  2  tiene las siguientes raíces:  [array([-0.70710678,  0.70710678])]\n",
      "El polinomio de grado  3  tiene las siguientes raíces:  [array([-1.22474487,  0.        ,  1.22474487])]\n",
      "El polinomio de grado  4  tiene las siguientes raíces:  [array([-1.65068012, -0.52464762,  0.52464762,  1.65068012])]\n",
      "El polinomio de grado  5  tiene las siguientes raíces:  [array([-2.02018287, -0.95857246,  0.        ,  0.95857246,  2.02018287])]\n",
      "El polinomio de grado  6  tiene las siguientes raíces:  [array([-2.35060497, -1.33584907, -0.43607741,  0.43607741,  1.33584907,\n",
      "        2.35060497])]\n",
      "El polinomio de grado  7  tiene las siguientes raíces:  [array([-2.65196136, -1.67355163, -0.81628788,  0.        ,  0.81628788,\n",
      "        1.67355163,  2.65196136])]\n",
      "El polinomio de grado  8  tiene las siguientes raíces:  [array([-2.93063742, -1.98165676, -1.15719371, -0.38118699,  0.38118699,\n",
      "        1.15719371,  1.98165676,  2.93063742])]\n",
      "El polinomio de grado  9  tiene las siguientes raíces:  [array([-3.1909932 , -2.26658058, -1.46855329, -0.72355102,  0.        ,\n",
      "        0.72355102,  1.46855329,  2.26658058,  3.1909932 ])]\n",
      "El polinomio de grado  10  tiene las siguientes raíces:  [array([-3.43615912, -2.53273167, -1.75668365, -1.03661083, -0.34290133,\n",
      "        0.34290133,  1.03661083,  1.75668365,  2.53273167,  3.43615912])]\n",
      "El polinomio de grado  11  tiene las siguientes raíces:  [array([-3.66847085, -2.7832901 , -2.02594802, -1.32655708, -0.65680957,\n",
      "        0.        ,  0.65680957,  1.32655708,  2.02594802,  2.7832901 ,\n",
      "        3.66847085])]\n",
      "El polinomio de grado  12  tiene las siguientes raíces:  [array([-3.8897249 , -3.02063703, -2.27950708, -1.59768264, -0.94778839,\n",
      "       -0.31424038,  0.31424038,  0.94778839,  1.59768264,  2.27950708,\n",
      "        3.02063703,  3.8897249 ])]\n",
      "El polinomio de grado  13  tiene las siguientes raíces:  [array([-4.1013376 , -3.24660898, -2.51973569, -1.85310765, -1.22005504,\n",
      "       -0.60576388,  0.        ,  0.60576388,  1.22005504,  1.85310765,\n",
      "        2.51973569,  3.24660898,  4.1013376 ])]\n",
      "El polinomio de grado  14  tiene las siguientes raíces:  [array([-4.30444857, -3.46265693, -2.74847072, -2.09518326, -1.47668273,\n",
      "       -0.87871379, -0.29174551,  0.29174551,  0.87871379,  1.47668273,\n",
      "        2.09518326,  2.74847072,  3.46265693,  4.30444857])]\n",
      "El polinomio de grado  15  tiene las siguientes raíces:  [array([-4.49999071, -3.66995037, -2.96716693, -2.32573249, -1.71999258,\n",
      "       -1.13611559, -0.56506958,  0.        ,  0.56506958,  1.13611559,\n",
      "        1.71999258,  2.32573249,  2.96716693,  3.66995037,  4.49999071])]\n",
      "El polinomio de grado  16  tiene las siguientes raíces:  [array([-4.68873894, -3.8694479 , -3.17699916, -2.54620216, -1.95178799,\n",
      "       -1.38025854, -0.82295145, -0.27348105,  0.27348105,  0.82295145,\n",
      "        1.38025854,  1.95178799,  2.54620216,  3.17699916,  3.8694479 ,\n",
      "        4.68873894])]\n",
      "El polinomio de grado  17  tiene las siguientes raíces:  [array([-4.87134519, -4.06194668, -3.37893209, -2.75776292, -2.17350283,\n",
      "       -1.61292431, -1.06764873, -0.531633  ,  0.        ,  0.531633  ,\n",
      "        1.06764873,  1.61292431,  2.17350283,  2.75776292,  3.37893209,\n",
      "        4.06194668,  4.87134519])]\n",
      "El polinomio de grado  18  tiene las siguientes raíces:  [array([-5.04836401, -4.24811787, -3.57376907, -2.96137751, -2.38629909,\n",
      "       -1.8355316 , -1.30092086, -0.77668292, -0.25826775,  0.25826775,\n",
      "        0.77668292,  1.30092086,  1.8355316 ,  2.38629909,  2.96137751,\n",
      "        3.57376907,  4.24811787,  5.04836401])]\n",
      "El polinomio de grado  19  tiene las siguientes raíces:  [array([-4.42853281, -3.76218735, -3.15784882, -2.59113379, -2.04923171,\n",
      "       -1.52417062, -1.01036839, -0.50352016,  0.        ,  0.50352016,\n",
      "        1.01036839,  1.52417062,  2.04923171,  2.59113379,  3.15784882,\n",
      "        3.76218735,  4.42853281])]\n",
      "El polinomio de grado  20  tiene las siguientes raíces:  [array([-4.60368245, -3.94476404, -3.34785457, -2.78880606, -2.254974  ,\n",
      "       -1.73853771, -1.23407622, -0.73747373, -0.24534071,  0.24534071,\n",
      "        0.73747373,  1.23407622,  1.73853771,  2.254974  ,  2.78880606,\n",
      "        3.34785457,  3.94476404,  4.60368245])]\n",
      "El polinomio de grado  21  tiene las siguientes raíces:  [array([-4.77399234, -4.12199555, -3.53197288, -2.97999121, -2.45355212,\n",
      "       -1.94496295, -1.44893425, -0.96149963, -0.47945071,  0.        ,\n",
      "        0.47945071,  0.96149963,  1.44893425,  1.94496295,  2.45355212,\n",
      "        2.97999121,  3.53197288,  4.12199555,  4.77399234,  5.55035187])]\n",
      "El polinomio de grado  22  tiene las siguientes raíces:  [array([-5.70920135, -4.93983413, -4.29431248, -3.71070153, -3.16526591,\n",
      "       -2.64563744, -2.14423359, -1.65587437, -1.17671396, -0.7036861 ,\n",
      "       -0.23417914,  0.23417914,  0.7036861 ,  1.17671396,  1.65587437,\n",
      "        2.14423359,  3.16526591,  3.71070153,  4.29431248,  4.93983413,\n",
      "        5.70920135])]\n"
     ]
    }
   ],
   "source": [
    "for i,raiz in enumerate(raices):\n",
    "    \n",
    "    print(\"El polinomio de grado \", str(i+2), \" tiene las siguientes raíces: \", raiz)"
   ]
  }
 ],
 "metadata": {
  "kernelspec": {
   "display_name": "base",
   "language": "python",
   "name": "python3"
  },
  "language_info": {
   "codemirror_mode": {
    "name": "ipython",
    "version": 3
   },
   "file_extension": ".py",
   "mimetype": "text/x-python",
   "name": "python",
   "nbconvert_exporter": "python",
   "pygments_lexer": "ipython3",
   "version": "3.11.4"
  },
  "orig_nbformat": 4
 },
 "nbformat": 4,
 "nbformat_minor": 2
}
