{
 "cells": [
  {
   "cell_type": "code",
   "execution_count": 173,
   "metadata": {},
   "outputs": [],
   "source": [
    "import numpy as np\n",
    "import sympy as sym\n",
    "sym.init_printing(use_unicode=True)"
   ]
  },
  {
   "cell_type": "code",
   "execution_count": 174,
   "metadata": {},
   "outputs": [],
   "source": [
    "x = sym.Symbol('x',real=True)"
   ]
  },
  {
   "cell_type": "code",
   "execution_count": 175,
   "metadata": {},
   "outputs": [],
   "source": [
    "def GetLaguerre(n,x):\n",
    "\n",
    "    y = sym.exp(-x)*x**n\n",
    "    \n",
    "    poly = sym.exp(x)*sym.diff(y,x,n)/( np.math.factorial(n) )\n",
    "    \n",
    "    return poly"
   ]
  },
  {
   "cell_type": "code",
   "execution_count": 176,
   "metadata": {},
   "outputs": [],
   "source": [
    "def derivadasLaguerre(n,x):\n",
    "    \n",
    "    derivadas = GetLaguerre(n,x)\n",
    "    \n",
    "    return sym.diff(derivadas,x)"
   ]
  },
  {
   "cell_type": "code",
   "execution_count": 177,
   "metadata": {},
   "outputs": [],
   "source": [
    "def GetNewton(f,df,xn,itmax=10000,precision=1e-9):\n",
    "    \n",
    "    error = 1.\n",
    "    it = 0\n",
    "    \n",
    "    while error >= precision and it < itmax:\n",
    "        \n",
    "        try:\n",
    "            \n",
    "            xn1 = xn - f(xn)/df(xn)\n",
    "            \n",
    "            error = np.abs(f(xn)/df(xn))\n",
    "            \n",
    "        except ZeroDivisionError:\n",
    "            print('Zero Division')\n",
    "            \n",
    "        xn = xn1\n",
    "        it += 1\n",
    "        \n",
    "    if it == itmax:\n",
    "        return False\n",
    "    else:\n",
    "        return xn"
   ]
  },
  {
   "cell_type": "code",
   "execution_count": 178,
   "metadata": {},
   "outputs": [],
   "source": [
    "def GetRoots(f,df,x,tolerancia = 5):\n",
    "    \n",
    "    Roots = np.array([])\n",
    "    \n",
    "    for i in x:\n",
    "        \n",
    "        root = GetNewton(f,df,i)\n",
    "\n",
    "        if  type(root)!=bool:\n",
    "            croot = np.round( root, tolerancia )\n",
    "            \n",
    "            if croot not in Roots:\n",
    "                Roots = np.append(Roots, croot)\n",
    "                \n",
    "    Roots.sort()\n",
    "    \n",
    "    return Roots"
   ]
  },
  {
   "cell_type": "code",
   "execution_count": 179,
   "metadata": {},
   "outputs": [],
   "source": [
    "def GetAllRootsGLag(n):\n",
    "    \n",
    "    vn = np.linspace(0,n+(n-1)*np.sqrt(n),round(50+((n+(n-1)*np.sqrt(n))**2)/2))\n",
    "    \n",
    "    Laguerre = []\n",
    "    D_Laguerre = []\n",
    "    \n",
    "    for i in range(n+1):\n",
    "        Laguerre.append(GetLaguerre(i,x))\n",
    "        D_Laguerre.append(derivadasLaguerre(i,x))\n",
    "    \n",
    "    poli = sym.lambdify([x],Laguerre[n],'numpy')\n",
    "    D_poli = sym.lambdify([x],D_Laguerre[n],'numpy')\n",
    "    Roots = GetRoots(poli,D_poli,vn)\n",
    "\n",
    "    if len(Roots) != n:\n",
    "        ValueError('El número de raíces debe ser igual al n del polinomio.')\n",
    "    \n",
    "    return Roots"
   ]
  },
  {
   "cell_type": "code",
   "execution_count": 180,
   "metadata": {},
   "outputs": [],
   "source": [
    "def GetWeightsGLag(n):\n",
    "\n",
    "    Roots = GetAllRootsGLag(n)\n",
    "\n",
    "    Laguerre = []\n",
    "    \n",
    "    for i in range(n+2):\n",
    "        Laguerre.append(GetLaguerre(i,x))\n",
    "    \n",
    "    poli = sym.lambdify([x],Laguerre[n+1],'numpy')\n",
    "    Weights = Roots/(((n+1)**2)*(poli(Roots)**2))\n",
    "    \n",
    "    return Weights"
   ]
  },
  {
   "cell_type": "code",
   "execution_count": 181,
   "metadata": {},
   "outputs": [],
   "source": [
    "raices_20 = GetAllRootsGLag(20)"
   ]
  },
  {
   "cell_type": "code",
   "execution_count": 182,
   "metadata": {},
   "outputs": [
    {
     "data": {
      "text/plain": [
       "array([ 0.07054,  0.37213,  0.91658,  1.70731,  2.7492 ,  4.04893,\n",
       "        5.61517,  7.45902,  9.59439, 12.0388 , 14.81429, 17.9489 ,\n",
       "       21.47879, 25.4517 , 29.93255, 35.01343, 40.83306, 47.61999,\n",
       "       55.8108 , 66.52442])"
      ]
     },
     "execution_count": 182,
     "metadata": {},
     "output_type": "execute_result"
    }
   ],
   "source": [
    "raices_20"
   ]
  },
  {
   "cell_type": "code",
   "execution_count": 184,
   "metadata": {},
   "outputs": [],
   "source": [
    "pesos_20 = GetWeightsGLag(20)"
   ]
  },
  {
   "cell_type": "code",
   "execution_count": 185,
   "metadata": {},
   "outputs": [
    {
     "data": {
      "text/plain": [
       "array([1.68735983e-01, 2.91152280e-01, 2.66711186e-01, 1.65988625e-01,\n",
       "       7.48252337e-02, 2.49632327e-02, 6.20277596e-03, 1.14494636e-03,\n",
       "       1.55743683e-04, 1.54015743e-05, 1.08649671e-06, 5.33006738e-08,\n",
       "       1.75797544e-09, 3.72551832e-11, 4.76756116e-13, 3.37286128e-15,\n",
       "       1.15501103e-17, 1.53952769e-20, 5.28642612e-24, 1.65645307e-28])"
      ]
     },
     "execution_count": 185,
     "metadata": {},
     "output_type": "execute_result"
    }
   ],
   "source": [
    "pesos_20"
   ]
  },
  {
   "cell_type": "code",
   "execution_count": null,
   "metadata": {},
   "outputs": [],
   "source": []
  }
 ],
 "metadata": {
  "kernelspec": {
   "display_name": "base",
   "language": "python",
   "name": "python3"
  },
  "language_info": {
   "codemirror_mode": {
    "name": "ipython",
    "version": 3
   },
   "file_extension": ".py",
   "mimetype": "text/x-python",
   "name": "python",
   "nbconvert_exporter": "python",
   "pygments_lexer": "ipython3",
   "version": "3.11.4"
  },
  "orig_nbformat": 4
 },
 "nbformat": 4,
 "nbformat_minor": 2
}
