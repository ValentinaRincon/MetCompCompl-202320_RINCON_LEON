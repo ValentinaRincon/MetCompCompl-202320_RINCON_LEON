{
 "cells": [
  {
   "cell_type": "code",
   "execution_count": 124,
   "metadata": {},
   "outputs": [],
   "source": [
    "import numpy as np\n",
    "import sympy as sym"
   ]
  },
  {
   "cell_type": "code",
   "execution_count": 125,
   "metadata": {},
   "outputs": [],
   "source": [
    "def funcion(x,T,dT):\n",
    "    \n",
    "    constante = np.sqrt((x**2)+(dT**2))\n",
    "    \n",
    "    variable = 300 /(2*T)\n",
    "    numerador_tan = np.tanh(constante*variable)\n",
    "    \n",
    "    respuesta = (numerador_tan/constante)\n",
    "    \n",
    "    return respuesta"
   ]
  },
  {
   "cell_type": "code",
   "execution_count": 126,
   "metadata": {},
   "outputs": [],
   "source": [
    "raices,pesos = np.polynomial.legendre.leggauss(50)"
   ]
  },
  {
   "cell_type": "code",
   "execution_count": 127,
   "metadata": {},
   "outputs": [
    {
     "name": "stdout",
     "output_type": "stream",
     "text": [
      "La temperatura critica es: 12.1198\n"
     ]
    }
   ],
   "source": [
    "t = 1\n",
    "tc= 0\n",
    "\n",
    "while t < 20:\n",
    "    \n",
    "    I = 0\n",
    "    \n",
    "    for i in range(50):\n",
    "        \n",
    "        I += (pesos[i]*funcion(raices[i],t,0))*0.5\n",
    "        \n",
    "        if np.abs(I-(1/0.3)) < 1e-4:\n",
    "            \n",
    "            tc = t\n",
    "        \n",
    "        t += 0.0001\n",
    "\n",
    "print(\"La temperatura critica es: \" +str(round(tc,5)))"
   ]
  }
 ],
 "metadata": {
  "kernelspec": {
   "display_name": "base",
   "language": "python",
   "name": "python3"
  },
  "language_info": {
   "codemirror_mode": {
    "name": "ipython",
    "version": 3
   },
   "file_extension": ".py",
   "mimetype": "text/x-python",
   "name": "python",
   "nbconvert_exporter": "python",
   "pygments_lexer": "ipython3",
   "version": "3.11.4"
  },
  "orig_nbformat": 4
 },
 "nbformat": 4,
 "nbformat_minor": 2
}
