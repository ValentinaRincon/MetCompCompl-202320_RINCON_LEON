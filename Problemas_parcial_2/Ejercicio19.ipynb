{
 "cells": [
  {
   "cell_type": "code",
   "execution_count": 49,
   "metadata": {},
   "outputs": [],
   "source": [
    "import numpy as np\n",
    "import sympy as sym"
   ]
  },
  {
   "cell_type": "code",
   "execution_count": 50,
   "metadata": {},
   "outputs": [],
   "source": [
    "def funcion(x,T,dT):\n",
    "    \n",
    "    constante = np.sqrt((x**2)+(dT**2))\n",
    "    \n",
    "    variable = 300 /(2*T)\n",
    "    numerador_tan = (np.tanh(constante*variable)*0.5)\n",
    "    \n",
    "    respuesta = (numerador_tan/constante)\n",
    "    \n",
    "    return respuesta"
   ]
  },
  {
   "cell_type": "code",
   "execution_count": 51,
   "metadata": {},
   "outputs": [],
   "source": [
    "raices,pesos = np.polynomial.legendre.leggauss(50)"
   ]
  },
  {
   "cell_type": "code",
   "execution_count": 52,
   "metadata": {},
   "outputs": [
    {
     "name": "stdout",
     "output_type": "stream",
     "text": [
      "La temperatura critica es: 12.1336\n"
     ]
    }
   ],
   "source": [
    "t = 1\n",
    "tc= 0\n",
    "\n",
    "while t < 20:\n",
    "        \n",
    "    I = np.sum(pesos*funcion(raices,t,0))\n",
    "        \n",
    "    if np.abs(I-(1/0.3)) < 1e-4:\n",
    "            \n",
    "        tc = t\n",
    "        break\n",
    "    \n",
    "    t += 1e-4\n",
    "\n",
    "print(\"La temperatura critica es: \" +str(round(tc,6)))"
   ]
  },
  {
   "cell_type": "code",
   "execution_count": null,
   "metadata": {},
   "outputs": [],
   "source": []
  }
 ],
 "metadata": {
  "kernelspec": {
   "display_name": "base",
   "language": "python",
   "name": "python3"
  },
  "language_info": {
   "codemirror_mode": {
    "name": "ipython",
    "version": 3
   },
   "file_extension": ".py",
   "mimetype": "text/x-python",
   "name": "python",
   "nbconvert_exporter": "python",
   "pygments_lexer": "ipython3",
   "version": "3.11.4"
  },
  "orig_nbformat": 4
 },
 "nbformat": 4,
 "nbformat_minor": 2
}
