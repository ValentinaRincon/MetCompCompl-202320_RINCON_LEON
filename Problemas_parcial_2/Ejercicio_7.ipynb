{
 "cells": [
  {
   "cell_type": "code",
   "execution_count": 26,
   "metadata": {},
   "outputs": [],
   "source": [
    "import numpy as np"
   ]
  },
  {
   "cell_type": "code",
   "execution_count": 27,
   "metadata": {},
   "outputs": [],
   "source": [
    "n = 200\n",
    "\n",
    "x = np.linspace(-1,1,n+1)\n",
    "y = np.linspace(-1,1,n+1)\n",
    "\n",
    "R = 1\n",
    "\n",
    "def funcion(x,y):\n",
    "    \n",
    "    z = R**2-x**2-y**2\n",
    "    \n",
    "    if z<= 0:\n",
    "        \n",
    "        respuesta = 0\n",
    "        \n",
    "    else:\n",
    "        respuesta = np.sqrt(z)\n",
    "        \n",
    "    return respuesta\n",
    "            "
   ]
  },
  {
   "cell_type": "code",
   "execution_count": 28,
   "metadata": {},
   "outputs": [],
   "source": [
    "suma = 0\n",
    "\n",
    "A = (x[1]-x[0])*(y[1]-y[0])\n",
    "V = 0\n",
    "\n",
    "for i in range(len(x)):\n",
    "    \n",
    "    for j in range(len(y)):\n",
    "        \n",
    "        if np.sqrt((x[i]**2)+(y[j]**2)) > R:\n",
    "            \n",
    "            suma += 0\n",
    "            \n",
    "        else:\n",
    "            \n",
    "            esquina_1 = funcion(x[i],y[j])\n",
    "        \n",
    "            suma = esquina_1\n",
    "        \n",
    "        if np.sqrt((x[i-1]**2)+(y[j]**2))> R:\n",
    "            \n",
    "            suma +=0\n",
    "            \n",
    "        else:\n",
    "            \n",
    "            esquina_2 = funcion(x[i-1],y[j])\n",
    "            \n",
    "            suma += esquina_2\n",
    "                \n",
    "        if np.sqrt((x[i-1]**2)+(y[j-1]**2)) > R:\n",
    "            \n",
    "            suma +=0\n",
    "            \n",
    "        else:\n",
    "            \n",
    "            esquina_3 = funcion(x[i-1],y[j-1])\n",
    "            \n",
    "            suma += esquina_3\n",
    "        \n",
    "        if np.sqrt((x[i]**2)+(y[j-1]**2)) > R:\n",
    "            \n",
    "            suma += 0\n",
    "        \n",
    "        else:\n",
    "            esquina_4 = funcion(x[i],y[i-1])\n",
    "            \n",
    "            suma += esquina_4\n",
    "        \n",
    "        V += (suma/4)*A\n",
    "        \n",
    "        suma = 0"
   ]
  },
  {
   "cell_type": "code",
   "execution_count": 32,
   "metadata": {},
   "outputs": [
    {
     "name": "stdout",
     "output_type": "stream",
     "text": [
      "El volumen encerrado en la semiesfera es aproximadamente 2.09\n"
     ]
    }
   ],
   "source": [
    "print(\"El volumen encerrado en la semiesfera es aproximadamente\",round(V,2))"
   ]
  }
 ],
 "metadata": {
  "kernelspec": {
   "display_name": "base",
   "language": "python",
   "name": "python3"
  },
  "language_info": {
   "codemirror_mode": {
    "name": "ipython",
    "version": 3
   },
   "file_extension": ".py",
   "mimetype": "text/x-python",
   "name": "python",
   "nbconvert_exporter": "python",
   "pygments_lexer": "ipython3",
   "version": "3.11.4"
  },
  "orig_nbformat": 4
 },
 "nbformat": 4,
 "nbformat_minor": 2
}
