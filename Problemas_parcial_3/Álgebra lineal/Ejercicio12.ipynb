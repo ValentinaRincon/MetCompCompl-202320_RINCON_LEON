{
 "cells": [
  {
   "cell_type": "code",
   "execution_count": 150,
   "metadata": {},
   "outputs": [
    {
     "data": {
      "text/html": [
       "<style>.container { width:100% !important; }</style>"
      ],
      "text/plain": [
       "<IPython.core.display.HTML object>"
      ]
     },
     "metadata": {},
     "output_type": "display_data"
    }
   ],
   "source": [
    "from IPython.display import display, HTML\n",
    "display(HTML(\"<style>.container { width:100% !important; }</style>\"))\n",
    "import numpy as np\n",
    "import matplotlib.pyplot as plt\n",
    "from IPython.display import clear_output\n",
    "import time"
   ]
  },
  {
   "cell_type": "markdown",
   "metadata": {},
   "source": [
    "Sistema no lineal 1"
   ]
  },
  {
   "cell_type": "code",
   "execution_count": 151,
   "metadata": {},
   "outputs": [],
   "source": [
    "G1=(lambda x,y: np.log((x**2)+(y**2)) - np.sin(x*y) - (np.log(2)) -np.log(np.pi), \\\n",
    "   lambda x,y: np.exp(x-y)+ np.cos(x*y))"
   ]
  },
  {
   "cell_type": "code",
   "execution_count": 152,
   "metadata": {},
   "outputs": [],
   "source": [
    "def GetF1(G,r):\n",
    "    \n",
    "    n = r.shape[0]\n",
    "    \n",
    "    v = np.zeros_like(r)\n",
    "    \n",
    "    for i in range(n):\n",
    "        v[i] = G[i](r[0],r[1])\n",
    "        \n",
    "    return v"
   ]
  },
  {
   "cell_type": "code",
   "execution_count": 153,
   "metadata": {},
   "outputs": [
    {
     "data": {
      "text/plain": [
       "array([0.99836697, 0.34635638])"
      ]
     },
     "execution_count": 153,
     "metadata": {},
     "output_type": "execute_result"
    }
   ],
   "source": [
    "GetF1(G1,np.array([2.,2.]))"
   ]
  },
  {
   "cell_type": "code",
   "execution_count": 154,
   "metadata": {},
   "outputs": [],
   "source": [
    "def Metric1(G,r):\n",
    "    return 0.5*np.linalg.norm(GetF1(G,r))**2"
   ]
  },
  {
   "cell_type": "code",
   "execution_count": 155,
   "metadata": {},
   "outputs": [],
   "source": [
    "def GetJacobian1(f,r,h=1e-6):\n",
    "    \n",
    "    n = r.shape[0]\n",
    "    \n",
    "    J = np.zeros((n,n))\n",
    "    \n",
    "    for i in range(n):\n",
    "        for j in range(n):\n",
    "            \n",
    "            rf = r.copy()\n",
    "            rb = r.copy()\n",
    "            \n",
    "            rf[j] = rf[j] + h\n",
    "            rb[j] = rb[j] - h\n",
    "            \n",
    "            J[i,j] = ( f[i](rf[0],rf[1]) - f[i](rb[0],rb[1]))/(2*h)\n",
    "            \n",
    "    \n",
    "    return J"
   ]
  },
  {
   "cell_type": "code",
   "execution_count": 156,
   "metadata": {},
   "outputs": [
    {
     "data": {
      "text/plain": [
       "array([[1.80728724, 1.80728724],\n",
       "       [2.51360499, 0.51360499]])"
      ]
     },
     "execution_count": 156,
     "metadata": {},
     "output_type": "execute_result"
    }
   ],
   "source": [
    "GetJacobian1(G1,np.array([2.,2.]))"
   ]
  },
  {
   "cell_type": "code",
   "execution_count": 157,
   "metadata": {},
   "outputs": [
    {
     "data": {
      "text/plain": [
       "'Newton Raphson'"
      ]
     },
     "execution_count": 157,
     "metadata": {},
     "output_type": "execute_result"
    }
   ],
   "source": [
    "\"Newton Raphson\""
   ]
  },
  {
   "cell_type": "code",
   "execution_count": 158,
   "metadata": {},
   "outputs": [],
   "source": [
    "def NewtonRaphson(G,r,itmax=1000,error=1e-9):\n",
    "    \n",
    "    it = 0\n",
    "    d = 1.\n",
    "    dvector = []\n",
    "    \n",
    "    while d > error and it < itmax:\n",
    "        \n",
    "        # Vector actual\n",
    "        rc = r\n",
    "        \n",
    "        F = GetF1(G,rc)\n",
    "        J = GetJacobian1(G,rc)\n",
    "        InvJ = np.linalg.inv(J)\n",
    "        \n",
    "        r = rc - np.dot(InvJ,F)\n",
    "        \n",
    "        diff = r - rc\n",
    "        \n",
    "        d = np.max( np.abs(diff) )\n",
    "        \n",
    "        dvector.append(d)\n",
    "        print(dvector)\n",
    "        \n",
    "        it += 1\n",
    "    \n",
    "    print(it)\n",
    "    return r,dvector"
   ]
  },
  {
   "cell_type": "code",
   "execution_count": 159,
   "metadata": {},
   "outputs": [
    {
     "name": "stdout",
     "output_type": "stream",
     "text": [
      "[0.5210944589431041]\n",
      "[0.5210944589431041, 0.23011830231864905]\n",
      "[0.5210944589431041, 0.23011830231864905, 0.05938786254984385]\n",
      "[0.5210944589431041, 0.23011830231864905, 0.05938786254984385, 0.004026892586169728]\n",
      "[0.5210944589431041, 0.23011830231864905, 0.05938786254984385, 0.004026892586169728, 1.5252177189450933e-05]\n",
      "[0.5210944589431041, 0.23011830231864905, 0.05938786254984385, 0.004026892586169728, 1.5252177189450933e-05, 2.167681589781978e-10]\n",
      "6\n"
     ]
    }
   ],
   "source": [
    "x1sol1 = NewtonRaphson(G1,np.array([2.,2.]))"
   ]
  },
  {
   "cell_type": "markdown",
   "metadata": {},
   "source": [
    "Descenso del gradiente"
   ]
  },
  {
   "cell_type": "code",
   "execution_count": 161,
   "metadata": {},
   "outputs": [],
   "source": [
    "def GetFig(R,M,it):\n",
    "    \n",
    "    fig = plt.figure(figsize=(6,3))\n",
    "    \n",
    "    ax = fig.add_subplot(1,2,1)\n",
    "    ax1 = fig.add_subplot(1,2,2)\n",
    "    \n",
    "    ax.plot(R[:it])\n",
    "    \n",
    "    ax1.plot(M[:it])\n",
    "   \n",
    "    plt.show()"
   ]
  },
  {
   "cell_type": "code",
   "execution_count": 162,
   "metadata": {},
   "outputs": [],
   "source": [
    "def Minimizer1(G,r,lr=1e-2,epochs=int(1e4),error=1e-7):\n",
    "    \n",
    "    metric = 1\n",
    "    it = 0\n",
    "    \n",
    "    M = np.array([])\n",
    "    R = np.array([r])\n",
    "    \n",
    "    while metric > error and it < epochs:\n",
    "        \n",
    "        M = np.append(M,Metric1(G,r))\n",
    "        \n",
    "        J = GetJacobian1(G,r)\n",
    "        Vector = GetF1(G,r)\n",
    "        \n",
    "        # Machine learning\n",
    "        r -= lr*np.dot(J,Vector)\n",
    "        \n",
    "        R = np.vstack((R,r))\n",
    "        \n",
    "        metric = Metric1(G,r)\n",
    "        \n",
    "        it += 1\n",
    "        \n",
    "        if it%50 == 0:\n",
    "            clear_output(wait=True)\n",
    "            GetFig(R,M,it)\n",
    "            print(r)\n",
    "            time.sleep(0.001)\n",
    "    \n",
    "    return r"
   ]
  },
  {
   "cell_type": "code",
   "execution_count": 163,
   "metadata": {},
   "outputs": [
    {
     "data": {
      "image/png": "[encoded data removed]",
      "text/plain": [
       "<Figure size 600x300 with 2 Axes>"
      ]
     },
     "metadata": {},
     "output_type": "display_data"
    },
    {
     "name": "stdout",
     "output_type": "stream",
     "text": [
      "[1.77214742 1.77296939]\n"
     ]
    }
   ],
   "source": [
    "x1sol2 = Minimizer1(G1,np.array([2.,2.]))"
   ]
  },
  {
   "cell_type": "markdown",
   "metadata": {},
   "source": [
    "Sistema no lineal 2"
   ]
  },
  {
   "cell_type": "code",
   "execution_count": 164,
   "metadata": {},
   "outputs": [],
   "source": [
    "G2=(lambda x,y,z: 6*x - 2*np.cos(y*z)-1, \\\n",
    "   lambda x,y,z: 9*y + np.sqrt((x**2)+np.sin(z)+1.06)+0.9,\\\n",
    "   lambda x,y,z: 60*z + (3*(1/np.exp(x*y))) + 10 * np.pi -3)"
   ]
  },
  {
   "cell_type": "code",
   "execution_count": 165,
   "metadata": {},
   "outputs": [],
   "source": [
    "def GetF2(G,r):\n",
    "    \n",
    "    n = r.shape[0]\n",
    "    \n",
    "    v = np.zeros_like(r)\n",
    "    \n",
    "    for i in range(n):\n",
    "        v[i] = G[i](r[0],r[1],r[2])   \n",
    "    return v"
   ]
  },
  {
   "cell_type": "code",
   "execution_count": 166,
   "metadata": {},
   "outputs": [
    {
     "data": {
      "text/plain": [
       "array([-3.        ,  1.92956301, 31.41592654])"
      ]
     },
     "execution_count": 166,
     "metadata": {},
     "output_type": "execute_result"
    }
   ],
   "source": [
    "GetF2(G2,np.array([0.,0.,0.]))"
   ]
  },
  {
   "cell_type": "code",
   "execution_count": 167,
   "metadata": {},
   "outputs": [],
   "source": [
    "def Metric2(G,r):\n",
    "    return 0.5*np.linalg.norm(GetF2(G,r))**2"
   ]
  },
  {
   "cell_type": "code",
   "execution_count": 168,
   "metadata": {},
   "outputs": [],
   "source": [
    "def GetJacobian2(f,r,h=1e-6):\n",
    "    \n",
    "    n = r.shape[0]\n",
    "    \n",
    "    J = np.zeros((n,n))\n",
    "    \n",
    "    for i in range(n):\n",
    "        for j in range(n):\n",
    "            \n",
    "            rf = r.copy()\n",
    "            rb = r.copy()\n",
    "            \n",
    "            rf[j] = rf[j] + h\n",
    "            rb[j] = rb[j] - h\n",
    "            \n",
    "            J[i,j] = ( f[i](rf[0],rf[1],rf[2]) - f[i](rb[0],rb[1],rb[2])  )/(2*h)\n",
    "            \n",
    "    \n",
    "    return J"
   ]
  },
  {
   "cell_type": "code",
   "execution_count": 169,
   "metadata": {},
   "outputs": [
    {
     "data": {
      "text/plain": [
       "array([[ 6.        ,  0.        ,  0.        ],\n",
       "       [ 0.        ,  9.        ,  0.48564293],\n",
       "       [ 0.        ,  0.        , 60.        ]])"
      ]
     },
     "execution_count": 169,
     "metadata": {},
     "output_type": "execute_result"
    }
   ],
   "source": [
    "GetJacobian2(G2,np.array([0.,0.,0.]))"
   ]
  },
  {
   "cell_type": "markdown",
   "metadata": {},
   "source": [
    "Newton Rapson"
   ]
  },
  {
   "cell_type": "code",
   "execution_count": 170,
   "metadata": {},
   "outputs": [],
   "source": [
    "def NewtonRaphson(G,r,itmax=1000,error=1e-9):\n",
    "    \n",
    "    it = 0\n",
    "    d = 1.\n",
    "    dvector = []\n",
    "    \n",
    "    while d > error and it < itmax:\n",
    "        \n",
    "        # Vector actual\n",
    "        rc = r\n",
    "        \n",
    "        F = GetF2(G,rc)\n",
    "        J = GetJacobian2(G,rc)\n",
    "        InvJ = np.linalg.inv(J)\n",
    "        \n",
    "        r = rc - np.dot(InvJ,F)\n",
    "        \n",
    "        diff = r - rc\n",
    "        \n",
    "        d = np.max( np.abs(diff) )\n",
    "        \n",
    "        dvector.append(d)\n",
    "        print(dvector)\n",
    "        \n",
    "        it += 1\n",
    "    \n",
    "    print(it)\n",
    "    return r,dvector"
   ]
  },
  {
   "cell_type": "code",
   "execution_count": 171,
   "metadata": {},
   "outputs": [
    {
     "name": "stdout",
     "output_type": "stream",
     "text": [
      "[0.5235987756181211]\n",
      "[0.5235987756181211, 0.013464494608999344]\n",
      "[0.5235987756181211, 0.013464494608999344, 1.3125552370152338e-05]\n",
      "[0.5235987756181211, 0.013464494608999344, 1.3125552370152338e-05, 7.48751061152575e-12]\n",
      "4\n"
     ]
    }
   ],
   "source": [
    "x2sol1 = NewtonRaphson(G2,np.array([0.,0.,0.]))"
   ]
  },
  {
   "cell_type": "markdown",
   "metadata": {},
   "source": [
    "Descenso del gradiente"
   ]
  },
  {
   "cell_type": "code",
   "execution_count": 172,
   "metadata": {},
   "outputs": [],
   "source": [
    "def Minimizer2(G,r,lr=1e-2,epochs=int(1e4),error=1e-7):\n",
    "    \n",
    "    metric = 1\n",
    "    it = 0\n",
    "    \n",
    "    M = np.array([])\n",
    "    R = np.array([r])\n",
    "    \n",
    "    while metric > error and it < epochs:\n",
    "        \n",
    "        M = np.append(M,Metric2(G,r))\n",
    "        \n",
    "        J = GetJacobian2(G,r)\n",
    "        Vector = GetF2(G,r)\n",
    "        \n",
    "        # Machine learning\n",
    "        r -= lr*np.dot(J,Vector)\n",
    "        \n",
    "        R = np.vstack((R,r))\n",
    "        \n",
    "        metric = Metric2(G,r)\n",
    "        \n",
    "        it += 1\n",
    "        \n",
    "        if it%50 == 0:\n",
    "            clear_output(wait=True)\n",
    "            GetFig(R,M,it)\n",
    "            print(r)\n",
    "            time.sleep(0.001)\n",
    "    \n",
    "    return r"
   ]
  },
  {
   "cell_type": "code",
   "execution_count": 173,
   "metadata": {},
   "outputs": [
    {
     "name": "stderr",
     "output_type": "stream",
     "text": [
      "C:\\Users\\jessi\\AppData\\Local\\Temp\\ipykernel_12292\\3510465113.py:3: RuntimeWarning: divide by zero encountered in scalar divide\n",
      "  lambda x,y,z: 60*z + (3*(1/np.exp(x*y))) + 10 * np.pi -3)\n",
      "C:\\Users\\jessi\\AppData\\Local\\Temp\\ipykernel_12292\\1074202749.py:16: RuntimeWarning: invalid value encountered in scalar subtract\n",
      "  J[i,j] = ( f[i](rf[0],rf[1],rf[2]) - f[i](rb[0],rb[1],rb[2])  )/(2*h)\n"
     ]
    }
   ],
   "source": [
    "x2sol2= Minimizer2(G2,np.array([0.,0.,0.]))"
   ]
  }
 ],
 "metadata": {
  "kernelspec": {
   "display_name": "base",
   "language": "python",
   "name": "python3"
  },
  "language_info": {
   "codemirror_mode": {
    "name": "ipython",
    "version": 3
   },
   "file_extension": ".py",
   "mimetype": "text/x-python",
   "name": "python",
   "nbconvert_exporter": "python",
   "pygments_lexer": "ipython3",
   "version": "3.11.4"
  }
 },
 "nbformat": 4,
 "nbformat_minor": 2
}
