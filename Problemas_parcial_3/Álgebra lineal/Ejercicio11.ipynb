{
 "cells": [
  {
   "cell_type": "code",
   "execution_count": 17,
   "metadata": {},
   "outputs": [],
   "source": [
    "import numpy as np"
   ]
  },
  {
   "cell_type": "code",
   "execution_count": 18,
   "metadata": {},
   "outputs": [],
   "source": [
    "H = np.array([[1,2,-1],[1,0,1],[4,-4,5]])\n",
    "\n",
    "HI = np.linalg.inv(H)\n",
    "\n",
    "V = np.random.rand(3)\n",
    "V_T = V.T"
   ]
  },
  {
   "cell_type": "code",
   "execution_count": 19,
   "metadata": {},
   "outputs": [],
   "source": [
    "def normalizar(vector,vector_t):\n",
    "    \n",
    "    producto = np.dot(vector,vector_t)\n",
    "    \n",
    "    vector_n = (vector_t)/(np.sqrt(producto))\n",
    "    \n",
    "    return vector_n"
   ]
  },
  {
   "cell_type": "code",
   "execution_count": 20,
   "metadata": {},
   "outputs": [],
   "source": [
    "def algoritmo_multiplicacion(vector,vector_T,matriz,k):\n",
    "    \n",
    "    vector_inicio = normalizar(vector,vector_T)\n",
    "    \n",
    "    for i in range(k):\n",
    "        \n",
    "        vectorr = np.dot(matriz,vector_inicio)\n",
    "        \n",
    "        vectorr = normalizar(vectorr,vectorr.T)\n",
    "        vector_inicio = vectorr\n",
    "        \n",
    "    return vector_inicio"
   ]
  },
  {
   "cell_type": "code",
   "execution_count": 21,
   "metadata": {},
   "outputs": [
    {
     "data": {
      "text/plain": [
       "array([-0.40820801,  0.40844489,  0.81641839])"
      ]
     },
     "execution_count": 21,
     "metadata": {},
     "output_type": "execute_result"
    }
   ],
   "source": [
    "algoritmo_multiplicacion(V,V_T,HI,10)"
   ]
  },
  {
   "cell_type": "markdown",
   "metadata": {},
   "source": [
    "Estado de energía\n"
   ]
  },
  {
   "cell_type": "code",
   "execution_count": 22,
   "metadata": {},
   "outputs": [],
   "source": [
    "E = algoritmo_multiplicacion(V,V_T,HI,10)\n",
    "E_T = E.T"
   ]
  },
  {
   "cell_type": "code",
   "execution_count": 23,
   "metadata": {},
   "outputs": [],
   "source": [
    "miu_2 = np.dot(E,HI)\n",
    "miu = np.dot(miu_2,E_T)"
   ]
  },
  {
   "cell_type": "code",
   "execution_count": 24,
   "metadata": {},
   "outputs": [
    {
     "data": {
      "text/plain": [
       "1.000528621132516"
      ]
     },
     "execution_count": 24,
     "metadata": {},
     "output_type": "execute_result"
    }
   ],
   "source": [
    "miu"
   ]
  },
  {
   "cell_type": "code",
   "execution_count": 25,
   "metadata": {},
   "outputs": [
    {
     "name": "stdout",
     "output_type": "stream",
     "text": [
      "El valor del estado base de Eo es: 1.000528621132516 y su vector propio es: [-0.40820801  0.40844489  0.81641839]\n"
     ]
    }
   ],
   "source": [
    "print(\"El valor del estado base de Eo es: \"+str((miu))+\" y su vector propio es: \" +str(E))"
   ]
  }
 ],
 "metadata": {
  "kernelspec": {
   "display_name": "base",
   "language": "python",
   "name": "python3"
  },
  "language_info": {
   "codemirror_mode": {
    "name": "ipython",
    "version": 3
   },
   "file_extension": ".py",
   "mimetype": "text/x-python",
   "name": "python",
   "nbconvert_exporter": "python",
   "pygments_lexer": "ipython3",
   "version": "3.11.4"
  }
 },
 "nbformat": 4,
 "nbformat_minor": 2
}
