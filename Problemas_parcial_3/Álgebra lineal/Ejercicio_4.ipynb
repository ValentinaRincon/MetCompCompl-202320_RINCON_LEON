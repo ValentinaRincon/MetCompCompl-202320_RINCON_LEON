{
 "cells": [
  {
   "cell_type": "code",
   "execution_count": 1,
   "metadata": {},
   "outputs": [],
   "source": [
    "import numpy as np"
   ]
  },
  {
   "cell_type": "code",
   "execution_count": 6,
   "metadata": {},
   "outputs": [],
   "source": [
    "A = np.array([[1,0,0],[5,1,0],[-2,3,1]])\n",
    "\n",
    "B = np.array([[4,-2,1],[0,3,7],[0,0,2]])\n",
    "\n",
    "filas_a = A.shape[0]\n",
    "columnas_a = A.shape[1]\n",
    "\n",
    "filas_b = B.shape[0]\n",
    "columnas_b = B.shape[1]"
   ]
  },
  {
   "cell_type": "code",
   "execution_count": 7,
   "metadata": {},
   "outputs": [],
   "source": [
    "def multiplicacion(A,B,filas_a,columnas_a,filas_b,columnas_b):\n",
    "    \n",
    "    respuesta = None\n",
    "    \n",
    "    if columnas_a != filas_b:\n",
    "        \n",
    "        respuesta = \"Las matrices no se pueden multiplicar porque el número de columnas de la matriz a no es el mismo número de filas de la matriz b\"\n",
    "        \n",
    "    else:\n",
    "        \n",
    "        matrizr = np.zeros((filas_a,columnas_b))\n",
    "        \n",
    "        for fila in range(filas_b):\n",
    "            \n",
    "            f = A[fila,:]\n",
    "            \n",
    "            for columna in range(columnas_a):\n",
    "                \n",
    "                c = B[:,columna]\n",
    "                \n",
    "                valor = np.dot(f,c)\n",
    "                \n",
    "                matrizr[fila,columna] = valor\n",
    "                \n",
    "                respuesta = matrizr\n",
    "        \n",
    "    return respuesta"
   ]
  },
  {
   "cell_type": "code",
   "execution_count": 9,
   "metadata": {},
   "outputs": [],
   "source": [
    "respuesta = multiplicacion(A,B,filas_a,columnas_a,filas_b,columnas_b)"
   ]
  },
  {
   "cell_type": "code",
   "execution_count": 13,
   "metadata": {},
   "outputs": [
    {
     "name": "stdout",
     "output_type": "stream",
     "text": [
      "El resultado de la multiplicación de las matrices A y B es: \n",
      "[[ 4. -2.  1.]\n",
      " [20. -7. 12.]\n",
      " [-8. 13. 21.]]\n"
     ]
    }
   ],
   "source": [
    "print(\"El resultado de la multiplicación de las matrices A y B es: \")\n",
    "print(respuesta)"
   ]
  }
 ],
 "metadata": {
  "kernelspec": {
   "display_name": "base",
   "language": "python",
   "name": "python3"
  },
  "language_info": {
   "codemirror_mode": {
    "name": "ipython",
    "version": 3
   },
   "file_extension": ".py",
   "mimetype": "text/x-python",
   "name": "python",
   "nbconvert_exporter": "python",
   "pygments_lexer": "ipython3",
   "version": "3.11.4"
  }
 },
 "nbformat": 4,
 "nbformat_minor": 2
}
