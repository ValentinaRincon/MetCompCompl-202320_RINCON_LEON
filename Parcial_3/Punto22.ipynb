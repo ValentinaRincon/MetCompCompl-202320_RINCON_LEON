{
 "cells": [
  {
   "cell_type": "code",
   "execution_count": 5,
   "metadata": {},
   "outputs": [
    {
     "data": {
      "text/html": [
       "<style>.container { width:90% !important; }</style>"
      ],
      "text/plain": [
       "<IPython.core.display.HTML object>"
      ]
     },
     "metadata": {},
     "output_type": "display_data"
    }
   ],
   "source": [
    "from IPython.display import display, HTML\n",
    "display(HTML(\"<style>.container { width:90% !important; }</style>\"))\n",
    "import numpy as np\n",
    "import sympy as sym\n",
    "import math"
   ]
  },
  {
   "cell_type": "markdown",
   "metadata": {},
   "source": [
    "Punto b. Encentre las 6 raíces que cumplen la ecuación."
   ]
  },
  {
   "cell_type": "code",
   "execution_count": 6,
   "metadata": {},
   "outputs": [],
   "source": [
    "c = 729/10000"
   ]
  },
  {
   "cell_type": "code",
   "execution_count": 7,
   "metadata": {},
   "outputs": [],
   "source": [
    "x = sym.Symbol('x',real=True)\n",
    "y = sym.Symbol('y',real=True)"
   ]
  },
  {
   "cell_type": "code",
   "execution_count": 8,
   "metadata": {},
   "outputs": [],
   "source": [
    "def f(x,y,c):\n",
    "    \n",
    "    z = x + sym.I*y\n",
    "    f = z**6 + (c*z**2)-c\n",
    "    f = f.expand()\n",
    "    return sym.re(f),sym.im(f)"
   ]
  },
  {
   "cell_type": "code",
   "execution_count": 10,
   "metadata": {},
   "outputs": [
    {
     "data": {
      "text/plain": [
       "[x**6 - 15*x**4*y**2 + 15*x**2*y**4 + 0.0729*x**2 - y**6 - 0.0729*y**2 - 0.0729,\n",
       " 6*x**5*y - 20*x**3*y**3 + 6*x*y**5 + 0.1458*x*y]"
      ]
     },
     "execution_count": 10,
     "metadata": {},
     "output_type": "execute_result"
    }
   ],
   "source": [
    "f0,f1 = f(x,y,c)\n",
    "F = [f0,f1]\n",
    "F"
   ]
  },
  {
   "cell_type": "code",
   "execution_count": 11,
   "metadata": {},
   "outputs": [],
   "source": [
    "J = sym.zeros(2,2)\n",
    "\n",
    "for i in range(2):\n",
    "    for j in range(2):\n",
    "        if j==0:\n",
    "            J[i,j] = sym.diff(F[i],x,1)\n",
    "        else:\n",
    "            J[i,j] = sym.diff(F[i],y,1)"
   ]
  },
  {
   "cell_type": "code",
   "execution_count": 12,
   "metadata": {},
   "outputs": [
    {
     "data": {
      "text/latex": [
       "$\\displaystyle \\left[\\begin{matrix}6 x^{5} - 60 x^{3} y^{2} + 30 x y^{4} + 0.1458 x & - 30 x^{4} y + 60 x^{2} y^{3} - 6 y^{5} - 0.1458 y\\\\30 x^{4} y - 60 x^{2} y^{3} + 6 y^{5} + 0.1458 y & 6 x^{5} - 60 x^{3} y^{2} + 30 x y^{4} + 0.1458 x\\end{matrix}\\right]$"
      ],
      "text/plain": [
       "Matrix([\n",
       "[6*x**5 - 60*x**3*y**2 + 30*x*y**4 + 0.1458*x, -30*x**4*y + 60*x**2*y**3 - 6*y**5 - 0.1458*y],\n",
       "[30*x**4*y - 60*x**2*y**3 + 6*y**5 + 0.1458*y,  6*x**5 - 60*x**3*y**2 + 30*x*y**4 + 0.1458*x]])"
      ]
     },
     "execution_count": 12,
     "metadata": {},
     "output_type": "execute_result"
    }
   ],
   "source": [
    "J"
   ]
  },
  {
   "cell_type": "code",
   "execution_count": 13,
   "metadata": {},
   "outputs": [
    {
     "data": {
      "text/latex": [
       "$\\displaystyle \\left[\\begin{matrix}\\frac{1 + \\frac{\\left(- 30 x^{4} y + 60 x^{2} y^{3} - 6 y^{5} - 0.1458 y\\right) \\left(30 x^{4} y - 60 x^{2} y^{3} + 6 y^{5} + 0.1458 y\\right)}{\\left(6 x^{5} - 60 x^{3} y^{2} + 30 x y^{4} + 0.1458 x\\right) \\left(6 x^{5} - 60 x^{3} y^{2} + 30 x y^{4} + 0.1458 x - \\frac{\\left(- 30 x^{4} y + 60 x^{2} y^{3} - 6 y^{5} - 0.1458 y\\right) \\left(30 x^{4} y - 60 x^{2} y^{3} + 6 y^{5} + 0.1458 y\\right)}{6 x^{5} - 60 x^{3} y^{2} + 30 x y^{4} + 0.1458 x}\\right)}}{6 x^{5} - 60 x^{3} y^{2} + 30 x y^{4} + 0.1458 x} & - \\frac{- 30 x^{4} y + 60 x^{2} y^{3} - 6 y^{5} - 0.1458 y}{\\left(6 x^{5} - 60 x^{3} y^{2} + 30 x y^{4} + 0.1458 x\\right) \\left(6 x^{5} - 60 x^{3} y^{2} + 30 x y^{4} + 0.1458 x - \\frac{\\left(- 30 x^{4} y + 60 x^{2} y^{3} - 6 y^{5} - 0.1458 y\\right) \\left(30 x^{4} y - 60 x^{2} y^{3} + 6 y^{5} + 0.1458 y\\right)}{6 x^{5} - 60 x^{3} y^{2} + 30 x y^{4} + 0.1458 x}\\right)}\\\\- \\frac{30 x^{4} y - 60 x^{2} y^{3} + 6 y^{5} + 0.1458 y}{\\left(6 x^{5} - 60 x^{3} y^{2} + 30 x y^{4} + 0.1458 x\\right) \\left(6 x^{5} - 60 x^{3} y^{2} + 30 x y^{4} + 0.1458 x - \\frac{\\left(- 30 x^{4} y + 60 x^{2} y^{3} - 6 y^{5} - 0.1458 y\\right) \\left(30 x^{4} y - 60 x^{2} y^{3} + 6 y^{5} + 0.1458 y\\right)}{6 x^{5} - 60 x^{3} y^{2} + 30 x y^{4} + 0.1458 x}\\right)} & \\frac{1}{6 x^{5} - 60 x^{3} y^{2} + 30 x y^{4} + 0.1458 x - \\frac{\\left(- 30 x^{4} y + 60 x^{2} y^{3} - 6 y^{5} - 0.1458 y\\right) \\left(30 x^{4} y - 60 x^{2} y^{3} + 6 y^{5} + 0.1458 y\\right)}{6 x^{5} - 60 x^{3} y^{2} + 30 x y^{4} + 0.1458 x}}\\end{matrix}\\right]$"
      ],
      "text/plain": [
       "Matrix([\n",
       "[(1 + (-30*x**4*y + 60*x**2*y**3 - 6*y**5 - 0.1458*y)*(30*x**4*y - 60*x**2*y**3 + 6*y**5 + 0.1458*y)/((6*x**5 - 60*x**3*y**2 + 30*x*y**4 + 0.1458*x)*(6*x**5 - 60*x**3*y**2 + 30*x*y**4 + 0.1458*x - (-30*x**4*y + 60*x**2*y**3 - 6*y**5 - 0.1458*y)*(30*x**4*y - 60*x**2*y**3 + 6*y**5 + 0.1458*y)/(6*x**5 - 60*x**3*y**2 + 30*x*y**4 + 0.1458*x))))/(6*x**5 - 60*x**3*y**2 + 30*x*y**4 + 0.1458*x), -(-30*x**4*y + 60*x**2*y**3 - 6*y**5 - 0.1458*y)/((6*x**5 - 60*x**3*y**2 + 30*x*y**4 + 0.1458*x)*(6*x**5 - 60*x**3*y**2 + 30*x*y**4 + 0.1458*x - (-30*x**4*y + 60*x**2*y**3 - 6*y**5 - 0.1458*y)*(30*x**4*y - 60*x**2*y**3 + 6*y**5 + 0.1458*y)/(6*x**5 - 60*x**3*y**2 + 30*x*y**4 + 0.1458*x)))],\n",
       "[                                                                                                    -(30*x**4*y - 60*x**2*y**3 + 6*y**5 + 0.1458*y)/((6*x**5 - 60*x**3*y**2 + 30*x*y**4 + 0.1458*x)*(6*x**5 - 60*x**3*y**2 + 30*x*y**4 + 0.1458*x - (-30*x**4*y + 60*x**2*y**3 - 6*y**5 - 0.1458*y)*(30*x**4*y - 60*x**2*y**3 + 6*y**5 + 0.1458*y)/(6*x**5 - 60*x**3*y**2 + 30*x*y**4 + 0.1458*x))),                                                                                                 1/(6*x**5 - 60*x**3*y**2 + 30*x*y**4 + 0.1458*x - (-30*x**4*y + 60*x**2*y**3 - 6*y**5 - 0.1458*y)*(30*x**4*y - 60*x**2*y**3 + 6*y**5 + 0.1458*y)/(6*x**5 - 60*x**3*y**2 + 30*x*y**4 + 0.1458*x))]])"
      ]
     },
     "execution_count": 13,
     "metadata": {},
     "output_type": "execute_result"
    }
   ],
   "source": [
    "InvJ = J.inv(method='LU')\n",
    "InvJ"
   ]
  },
  {
   "cell_type": "code",
   "execution_count": 14,
   "metadata": {},
   "outputs": [],
   "source": [
    "Fn = sym.lambdify([x,y],F,'numpy')\n",
    "IJn = sym.lambdify([x,y],InvJ,'numpy')"
   ]
  },
  {
   "cell_type": "code",
   "execution_count": 15,
   "metadata": {},
   "outputs": [],
   "source": [
    "def NewtonRaphson(z,Fn,Jn,itmax=100,precision=1e-20):\n",
    "    \n",
    "    error = 1\n",
    "    it = 0\n",
    "    \n",
    "    while error > precision and it < itmax:\n",
    "        \n",
    "        IFn = Fn(z[0],z[1])\n",
    "        IJn = Jn(z[0],z[1])\n",
    "        \n",
    "        z1 = z - np.dot(IJn,IFn)\n",
    "        \n",
    "        error = np.max( np.abs(z1-z) )\n",
    "        \n",
    "        z = z1\n",
    "        it +=1\n",
    "        \n",
    "    #print(it)\n",
    "    return z"
   ]
  },
  {
   "cell_type": "code",
   "execution_count": 16,
   "metadata": {},
   "outputs": [
    {
     "name": "stdout",
     "output_type": "stream",
     "text": [
      "[0.6 0. ]\n",
      "[0.36742346 0.56124861]\n",
      "[-0.36742346  0.56124861]\n",
      "[-0.36742346 -0.56124861]\n",
      "[-0.6  0. ]\n",
      "[ 0.36742346 -0.56124861]\n"
     ]
    }
   ],
   "source": [
    "z1 = np.array([1.,0.])\n",
    "z2=np.array([1.,1.])\n",
    "z3 = np.array([-1.,1.])\n",
    "z4=np.array([-1.,-1.])\n",
    "z5 = np.array([-2.,0.])\n",
    "z6=np.array([2.,-3])\n",
    "\n",
    "zsol_1 = NewtonRaphson(z1,Fn,IJn)\n",
    "zsol_2 = NewtonRaphson(z2,Fn,IJn)\n",
    "zsol_3 = NewtonRaphson(z3,Fn,IJn)\n",
    "zsol_4 = NewtonRaphson(z4,Fn,IJn)\n",
    "zsol_5 = NewtonRaphson(z5,Fn,IJn)\n",
    "zsol_6 = NewtonRaphson(z6,Fn,IJn)\n",
    "\n",
    "print(zsol_1)\n",
    "print(zsol_2)\n",
    "print(zsol_3)\n",
    "print(zsol_4)\n",
    "print(zsol_5)\n",
    "print(zsol_6)"
   ]
  },
  {
   "cell_type": "markdown",
   "metadata": {},
   "source": [
    "El seno del ángulo que cumple la función es"
   ]
  },
  {
   "cell_type": "code",
   "execution_count": 20,
   "metadata": {},
   "outputs": [
    {
     "data": {
      "text/plain": [
       "array([0.6, 0. ])"
      ]
     },
     "execution_count": 20,
     "metadata": {},
     "output_type": "execute_result"
    }
   ],
   "source": [
    "zsol_1"
   ]
  },
  {
   "cell_type": "markdown",
   "metadata": {},
   "source": [
    "Y el seno del ángulo es"
   ]
  },
  {
   "cell_type": "code",
   "execution_count": 18,
   "metadata": {},
   "outputs": [],
   "source": [
    "arcsin = math.asin((0.6))"
   ]
  },
  {
   "cell_type": "code",
   "execution_count": 19,
   "metadata": {},
   "outputs": [
    {
     "data": {
      "text/plain": [
       "36.86989764584402"
      ]
     },
     "execution_count": 19,
     "metadata": {},
     "output_type": "execute_result"
    }
   ],
   "source": [
    "(arcsin*180)/np.pi"
   ]
  }
 ],
 "metadata": {
  "kernelspec": {
   "display_name": "base",
   "language": "python",
   "name": "python3"
  },
  "language_info": {
   "codemirror_mode": {
    "name": "ipython",
    "version": 3
   },
   "file_extension": ".py",
   "mimetype": "text/x-python",
   "name": "python",
   "nbconvert_exporter": "python",
   "pygments_lexer": "ipython3",
   "version": "3.11.4"
  }
 },
 "nbformat": 4,
 "nbformat_minor": 2
}
