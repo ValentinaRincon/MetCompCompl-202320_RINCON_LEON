{
 "cells": [
  {
   "cell_type": "code",
   "execution_count": 2,
   "metadata": {},
   "outputs": [],
   "source": [
    "import numpy as np\n",
    "import sympy as sym"
   ]
  },
  {
   "cell_type": "markdown",
   "metadata": {},
   "source": [
    "Dada la función de probabilidad conjunta, encuentre analíticamente y a través de Sympy los siguientes valores:"
   ]
  },
  {
   "cell_type": "markdown",
   "metadata": {},
   "source": [
    "a.) Verifique que sea una función de densidad conjunta válida."
   ]
  },
  {
   "cell_type": "markdown",
   "metadata": {},
   "source": [
    "Para que una función a trozos sea una función de densidad continua debe cumplir dos condiciones: 1. La función debe ser positiva para todos los valores de x y y. 2. El área bajo el espacio debe ser igual a 1.\n"
   ]
  },
  {
   "cell_type": "markdown",
   "metadata": {},
   "source": [
    "Para verificar la primera función hay que analizar  si la primera parte de la función (2/3)*(x+2y) es positiva en el dominio de x y y. Para ello, se realiza el siguiente despeje (2/3)*(x+2y) >= 0. La constante e 2/3 se pasa al otro lado de la desigualdad. Por lo cual, queda (x+2y) >= 0. Al evaluar en el dominio [0,1] * [0,1] siempre la función será positiva. "
   ]
  },
  {
   "cell_type": "markdown",
   "metadata": {},
   "source": [
    "Posteriormente, para verificar que el área de la función es igual a 1 se debe integrar."
   ]
  },
  {
   "cell_type": "code",
   "execution_count": 4,
   "metadata": {},
   "outputs": [
    {
     "data": {
      "text/latex": [
       "$\\displaystyle 1.0$"
      ],
      "text/plain": [
       "1.00000000000000"
      ]
     },
     "execution_count": 4,
     "metadata": {},
     "output_type": "execute_result"
    }
   ],
   "source": [
    "x = sym.symbols('x')\n",
    "y = sym.symbols('y')\n",
    "\n",
    "f = (2/3) * (x+2*y)\n",
    "\n",
    "total = sym.integrate(f,(x,0,1),(y,0,1))\n",
    "total"
   ]
  },
  {
   "cell_type": "markdown",
   "metadata": {},
   "source": [
    "b.) Hallar las distribuciones marginales g(x) y h(y) ."
   ]
  },
  {
   "cell_type": "markdown",
   "metadata": {},
   "source": [
    "Ahora, para hallar las distribuciones marginales g(x) y  h(y) lo que se debe hacer es integrar la función f(x,y) con respecto a y para obtener g(x), e integrar la función f(x,y) con respecto a x para encontrar h(y)."
   ]
  },
  {
   "cell_type": "code",
   "execution_count": 7,
   "metadata": {},
   "outputs": [
    {
     "name": "stdout",
     "output_type": "stream",
     "text": [
      "La distribución marginal de g(x) es 0.666666666666667*x + 0.666666666666667\n"
     ]
    }
   ],
   "source": [
    "gx = sym.integrate(f,(y,0,1))\n",
    "print(\"La distribución marginal de g(x) es {}\".format(gx))"
   ]
  },
  {
   "cell_type": "code",
   "execution_count": 8,
   "metadata": {},
   "outputs": [
    {
     "name": "stdout",
     "output_type": "stream",
     "text": [
      "La distribución marginal de h(y) es 1.33333333333333*y + 0.333333333333333\n"
     ]
    }
   ],
   "source": [
    "hy = sym.integrate(f,(x,0,1))\n",
    "print(\"La distribución marginal de h(y) es {}\".format(hy))"
   ]
  },
  {
   "cell_type": "markdown",
   "metadata": {},
   "source": [
    "c.) E(x) = 10/18"
   ]
  },
  {
   "cell_type": "markdown",
   "metadata": {},
   "source": [
    "Para hallar la media del valor de X, se debe realizar la siguiente integral. E(x) integral desde 0 hasta 1 de x*g(x) dx"
   ]
  },
  {
   "cell_type": "code",
   "execution_count": 15,
   "metadata": {},
   "outputs": [
    {
     "name": "stdout",
     "output_type": "stream",
     "text": [
      "La media del valor esperado de X es 0.555555555555556\n"
     ]
    }
   ],
   "source": [
    "ex = sym.integrate((x*gx),(x,0,1))\n",
    "\n",
    "print(\"La media del valor esperado de X es {}\".format(ex))"
   ]
  },
  {
   "cell_type": "markdown",
   "metadata": {},
   "source": [
    "d.) E(y) = 11/18"
   ]
  },
  {
   "cell_type": "markdown",
   "metadata": {},
   "source": [
    "Para hallar la media del valor de Y, se debe realizar la integral de E(y) desde 0 hasta 1 de y * h(y) dy"
   ]
  },
  {
   "cell_type": "code",
   "execution_count": 16,
   "metadata": {},
   "outputs": [
    {
     "name": "stdout",
     "output_type": "stream",
     "text": [
      "La media del valor esperado de Y es 0.611111111111111\n"
     ]
    }
   ],
   "source": [
    "ey = sym.integrate((y*hy),(y,0,1))\n",
    "\n",
    "print(\"La media del valor esperado de Y es {}\".format(ey))"
   ]
  },
  {
   "cell_type": "markdown",
   "metadata": {},
   "source": [
    "e.) Calcular la covarianza usando: oxy = E(xy) - E(x)E(y) = -0.00617."
   ]
  },
  {
   "cell_type": "markdown",
   "metadata": {},
   "source": [
    "Para calcular la covarianza usando la fórmula del enunciado se debe primer calular E(x,y)."
   ]
  },
  {
   "cell_type": "code",
   "execution_count": 17,
   "metadata": {},
   "outputs": [],
   "source": [
    "exy = sym.integrate((f*x*y),(x,0,1),(y,0,1))"
   ]
  },
  {
   "cell_type": "code",
   "execution_count": 18,
   "metadata": {},
   "outputs": [
    {
     "name": "stdout",
     "output_type": "stream",
     "text": [
      "La covarianza es: -0.00617283950617281\n"
     ]
    }
   ],
   "source": [
    "covarianza_1 = exy - (ex*ey)\n",
    "\n",
    "print(\"La covarianza es: {}\".format(covarianza_1))"
   ]
  },
  {
   "cell_type": "markdown",
   "metadata": {},
   "source": [
    "f.) Calcular la covarianza usando : oxy = E((x-ux))(y-uy)=-0.00617"
   ]
  },
  {
   "cell_type": "markdown",
   "metadata": {},
   "source": [
    "Para calular es covarianza hay que volver a integrar pero esta vez la función se multiplica por las diferencias de las variables con sus medias esperadas."
   ]
  },
  {
   "cell_type": "code",
   "execution_count": 20,
   "metadata": {},
   "outputs": [
    {
     "name": "stdout",
     "output_type": "stream",
     "text": [
      "La covarianza es: -0.00617283950617284\n"
     ]
    }
   ],
   "source": [
    "covarianza_2 = sym.integrate(f*(x-ex)*(y-ey),(x,0,1),(y,0,1))\n",
    "\n",
    "print(\"La covarianza es: {}\".format(covarianza_2))"
   ]
  },
  {
   "cell_type": "markdown",
   "metadata": {},
   "source": [
    "Son las variables x e y independientes?"
   ]
  },
  {
   "cell_type": "markdown",
   "metadata": {},
   "source": [
    "No, las variables x e y son dependientes puesto que su covarianza es distinta de 0. De hecho, como esta es negativa significa que mientras una variable aumenta la otra disminuye."
   ]
  }
 ],
 "metadata": {
  "kernelspec": {
   "display_name": "base",
   "language": "python",
   "name": "python3"
  },
  "language_info": {
   "codemirror_mode": {
    "name": "ipython",
    "version": 3
   },
   "file_extension": ".py",
   "mimetype": "text/x-python",
   "name": "python",
   "nbconvert_exporter": "python",
   "pygments_lexer": "ipython3",
   "version": "3.11.4"
  }
 },
 "nbformat": 4,
 "nbformat_minor": 2
}
