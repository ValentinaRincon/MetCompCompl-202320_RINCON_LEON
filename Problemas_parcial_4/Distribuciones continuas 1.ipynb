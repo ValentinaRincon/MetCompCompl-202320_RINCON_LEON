{
 "cells": [
  {
   "cell_type": "code",
   "execution_count": 2,
   "metadata": {},
   "outputs": [],
   "source": [
    "import numpy as np\n",
    "import sympy as sym"
   ]
  },
  {
   "cell_type": "markdown",
   "metadata": {},
   "source": [
    "Dada la función de probabilidad conjunta, encuentre analíticamente y a través de Sympy los siguientes valores:"
   ]
  },
  {
   "cell_type": "markdown",
   "metadata": {},
   "source": [
    "a.) Verifique que sea una función de densidad conjunta válida."
   ]
  },
  {
   "cell_type": "markdown",
   "metadata": {},
   "source": [
    "Para que una función a trozos sea una función de densidad continua debe cumplir dos condiciones: 1. La función debe ser positiva para todos los valores de x y y. 2. El área bajo el espacio debe ser igual a 1.\n"
   ]
  },
  {
   "cell_type": "markdown",
   "metadata": {},
   "source": [
    "Para verificar la primera función hay que analizar  si la primera parte de la función (2/3)*(x+2y) es positiva en el dominio de x y y. Para ello, se realiza el siguiente despeje (2/3)*(x+2y) >= 0. La constante e 2/3 se pasa al otro lado de la desigualdad. Por lo cual, queda (x+2y) >= 0. Al evaluar en el dominio [0,1] * [0,1] siempre la función será positiva. "
   ]
  },
  {
   "cell_type": "markdown",
   "metadata": {},
   "source": [
    "Posteriormente, para verificar que el área de la función es igual a 1 se debe integrar."
   ]
  },
  {
   "cell_type": "code",
   "execution_count": 4,
   "metadata": {},
   "outputs": [
    {
     "data": {
      "text/latex": [
       "$\\displaystyle 1.0$"
      ],
      "text/plain": [
       "1.00000000000000"
      ]
     },
     "execution_count": 4,
     "metadata": {},
     "output_type": "execute_result"
    }
   ],
   "source": [
    "x = sym.symbols('x')\n",
    "y = sym.symbols('y')\n",
    "\n",
    "f = (2/3) * (x+2*y)\n",
    "\n",
    "total = sym.integrate(f,(x,0,1),(y,0,1))\n",
    "total"
   ]
  },
  {
   "cell_type": "markdown",
   "metadata": {},
   "source": [
    "b.) Hallar las distribuciones marginales g(x) y h(y) ."
   ]
  },
  {
   "cell_type": "markdown",
   "metadata": {},
   "source": [
    "c.) E(x) = 10/18"
   ]
  },
  {
   "cell_type": "markdown",
   "metadata": {},
   "source": [
    "e.) Calcular la covarianza usando: oxy = E(xy) - E(x)E(y) = -0.00617."
   ]
  },
  {
   "cell_type": "markdown",
   "metadata": {},
   "source": [
    "f.) Calcular la covarianza usando : oxy = E((x-ux))(y-uy)=-0.00617"
   ]
  },
  {
   "cell_type": "markdown",
   "metadata": {},
   "source": [
    "Son las variables x e y independientes?"
   ]
  }
 ],
 "metadata": {
  "kernelspec": {
   "display_name": "base",
   "language": "python",
   "name": "python3"
  },
  "language_info": {
   "codemirror_mode": {
    "name": "ipython",
    "version": 3
   },
   "file_extension": ".py",
   "mimetype": "text/x-python",
   "name": "python",
   "nbconvert_exporter": "python",
   "pygments_lexer": "ipython3",
   "version": "3.11.4"
  }
 },
 "nbformat": 4,
 "nbformat_minor": 2
}
