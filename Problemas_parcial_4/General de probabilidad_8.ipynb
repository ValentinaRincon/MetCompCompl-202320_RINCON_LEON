{
 "cells": [
  {
   "cell_type": "code",
   "execution_count": 1,
   "metadata": {},
   "outputs": [],
   "source": [
    "import numpy as np"
   ]
  },
  {
   "cell_type": "markdown",
   "metadata": {},
   "source": [
    "Se lanzan simultaneamente 4 monedas. Determine la probabilidad de obtener dos caras y dos sellos P(A) = 3/8. Realice el cálculo de esta probabilidad usando un experimento virtual de N = 10^{5} eventos, etiquetando los resultados con +1 y -1 para cara y sello respectivamente."
   ]
  },
  {
   "cell_type": "code",
   "execution_count": 2,
   "metadata": {},
   "outputs": [],
   "source": [
    "def GetSample(N = int(1e5), ncoins = 4, Weights=None):\n",
    "    \n",
    "    Sample = np.zeros((N,ncoins))\n",
    "    \n",
    "    Events = [-1,1]\n",
    "    \n",
    "    for i in range(N):\n",
    "        \n",
    "        if Weights == None:\n",
    "            Exp = np.random.choice(Events,ncoins)\n",
    "\n",
    "        Sample[i] = Exp\n",
    "        \n",
    "    return Sample"
   ]
  },
  {
   "cell_type": "code",
   "execution_count": 30,
   "metadata": {},
   "outputs": [],
   "source": [
    "Sample = GetSample()"
   ]
  },
  {
   "cell_type": "code",
   "execution_count": 35,
   "metadata": {},
   "outputs": [
    {
     "data": {
      "text/plain": [
       "100000"
      ]
     },
     "execution_count": 35,
     "metadata": {},
     "output_type": "execute_result"
    }
   ],
   "source": [
    "tamano = Sample.shape[0]\n",
    "tamano"
   ]
  },
  {
   "cell_type": "code",
   "execution_count": 46,
   "metadata": {},
   "outputs": [],
   "source": [
    "N = int(1e5)\n",
    "\n",
    "probabilidad = 0\n",
    "numero_eventos_favorables = 0\n",
    "\n",
    "for i in range(N):\n",
    "    \n",
    "    fila = Sample[i]\n",
    "    resultado = np.sum(fila)\n",
    "    \n",
    "    if resultado == 0:\n",
    "        \n",
    "        numero_eventos_favorables += 1\n",
    "        \n",
    "probabilidad = numero_eventos_favorables/N"
   ]
  },
  {
   "cell_type": "code",
   "execution_count": 49,
   "metadata": {},
   "outputs": [
    {
     "name": "stdout",
     "output_type": "stream",
     "text": [
      "La probabilidad de obtener dos caras y dos sellos es del 0.37525\n"
     ]
    }
   ],
   "source": [
    "print(\"La probabilidad de obtener dos caras y dos sellos es del {}\".format(probabilidad))"
   ]
  }
 ],
 "metadata": {
  "kernelspec": {
   "display_name": "base",
   "language": "python",
   "name": "python3"
  },
  "language_info": {
   "codemirror_mode": {
    "name": "ipython",
    "version": 3
   },
   "file_extension": ".py",
   "mimetype": "text/x-python",
   "name": "python",
   "nbconvert_exporter": "python",
   "pygments_lexer": "ipython3",
   "version": "3.11.4"
  }
 },
 "nbformat": 4,
 "nbformat_minor": 2
}
