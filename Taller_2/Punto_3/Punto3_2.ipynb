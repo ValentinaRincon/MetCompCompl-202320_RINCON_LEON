{
 "cells": [
  {
   "cell_type": "code",
   "execution_count": 1,
   "metadata": {},
   "outputs": [],
   "source": [
    "import numpy as np\n",
    "import sympy as sym"
   ]
  },
  {
   "cell_type": "code",
   "execution_count": 2,
   "metadata": {},
   "outputs": [],
   "source": [
    "x = sym.Symbol('x',real=True)\n",
    "y = sym.Symbol('y',real=True)"
   ]
  },
  {
   "cell_type": "code",
   "execution_count": 3,
   "metadata": {},
   "outputs": [],
   "source": [
    "def GetHermite(n,x):\n",
    "\n",
    "    if n==0:\n",
    "        poly = sym.Number(1)\n",
    "    elif n==1:\n",
    "        poly = 2*x\n",
    "    else:\n",
    "        poly = (2*x*GetHermite(n-1,x))-(2)*(n-1)*GetHermite(n-2,x)\n",
    "   \n",
    "    return sym.expand(poly,x)"
   ]
  },
  {
   "cell_type": "code",
   "execution_count": 4,
   "metadata": {},
   "outputs": [
    {
     "data": {
      "text/latex": [
       "$\\displaystyle 8 x^{3} - 12 x$"
      ],
      "text/plain": [
       "8*x**3 - 12*x"
      ]
     },
     "execution_count": 4,
     "metadata": {},
     "output_type": "execute_result"
    }
   ],
   "source": [
    "GetHermite(3,x)"
   ]
  },
  {
   "cell_type": "code",
   "execution_count": 5,
   "metadata": {},
   "outputs": [],
   "source": [
    "def GetDHermite(n,x):\n",
    "    Pn = GetHermite(n,x)\n",
    "    return sym.diff(Pn,x,1)"
   ]
  },
  {
   "cell_type": "code",
   "execution_count": 6,
   "metadata": {},
   "outputs": [],
   "source": [
    "def GetNewton(f,df,xn,itmax=10000,precision=1e-14):\n",
    "    \n",
    "    error = 1.\n",
    "    it = 0\n",
    "    \n",
    "    while error >= precision and it < itmax:\n",
    "        \n",
    "        try:\n",
    "            \n",
    "            xn1 = xn - f(xn)/df(xn)\n",
    "            \n",
    "            error = np.abs(f(xn)/df(xn))\n",
    "            \n",
    "        except ZeroDivisionError:\n",
    "            print('Zero Division')\n",
    "            \n",
    "        xn = xn1\n",
    "        it += 1\n",
    "        \n",
    "    if it == itmax:\n",
    "        return False\n",
    "    else:\n",
    "        return xn"
   ]
  },
  {
   "cell_type": "code",
   "execution_count": 7,
   "metadata": {},
   "outputs": [],
   "source": [
    "def GetRoots(f,df,x,tolerancia = 10):\n",
    "    \n",
    "    Roots = np.array([])\n",
    "    \n",
    "    for i in x:\n",
    "        \n",
    "        root = GetNewton(f,df,i)\n",
    "\n",
    "        if  type(root)!=bool:\n",
    "            croot = np.round( root, tolerancia )\n",
    "            \n",
    "            if croot not in Roots:\n",
    "                Roots = np.append(Roots, croot)\n",
    "                \n",
    "    Roots.sort()\n",
    "    \n",
    "    return Roots"
   ]
  },
  {
   "cell_type": "code",
   "execution_count": 8,
   "metadata": {},
   "outputs": [],
   "source": [
    "def GetAllRootsGHer(n):\n",
    "\n",
    "    xn = np.linspace(-np.sqrt(4+n+1),np.sqrt(4+n+1),100)\n",
    "    \n",
    "    Hermite = []\n",
    "    DHermite = []\n",
    "    \n",
    "    for i in range(n+1):\n",
    "        Hermite.append(GetHermite(i,x))\n",
    "        DHermite.append(GetDHermite(i,x))\n",
    "    \n",
    "    poly = sym.lambdify([x],Hermite[n],'numpy')\n",
    "    Dpoly = sym.lambdify([x],DHermite[n],'numpy')\n",
    "    Roots = GetRoots(poly,Dpoly,xn)\n",
    "\n",
    "    if len(Roots) != n:\n",
    "        ValueError('El número de raíces debe ser igual al n del polinomio.')\n",
    "    \n",
    "    return Roots"
   ]
  },
  {
   "cell_type": "code",
   "execution_count": 9,
   "metadata": {},
   "outputs": [
    {
     "data": {
      "text/plain": [
       "array([-1.22474487,  0.        ,  1.22474487])"
      ]
     },
     "execution_count": 9,
     "metadata": {},
     "output_type": "execute_result"
    }
   ],
   "source": [
    "GetAllRootsGHer(3)"
   ]
  },
  {
   "cell_type": "code",
   "execution_count": 10,
   "metadata": {},
   "outputs": [],
   "source": [
    "def GetWeightsGHer(n):\n",
    "\n",
    "    Roots = GetAllRootsGHer(n)\n",
    "\n",
    "    Hermite = []\n",
    "    \n",
    "    for i in range(n):\n",
    "        Hermite.append(GetHermite(i,x))\n",
    "        \n",
    "    \n",
    "    poly = sym.lambdify([x],Hermite[n-1],'numpy')\n",
    "    Weights = (2**(n-1))*(np.math.factorial(n))*(np.sqrt(np.pi))/((n**2)*(poly(Roots))**2)\n",
    "    \n",
    "    return Weights"
   ]
  },
  {
   "cell_type": "code",
   "execution_count": 11,
   "metadata": {},
   "outputs": [
    {
     "data": {
      "text/plain": [
       "array([0.29540898, 1.1816359 , 0.29540898])"
      ]
     },
     "execution_count": 11,
     "metadata": {},
     "output_type": "execute_result"
    }
   ],
   "source": [
    "GetWeightsGHer(3)"
   ]
  }
 ],
 "metadata": {
  "kernelspec": {
   "display_name": "base",
   "language": "python",
   "name": "python3"
  },
  "language_info": {
   "codemirror_mode": {
    "name": "ipython",
    "version": 3
   },
   "file_extension": ".py",
   "mimetype": "text/x-python",
   "name": "python",
   "nbconvert_exporter": "python",
   "pygments_lexer": "ipython3",
   "version": "3.11.4"
  },
  "orig_nbformat": 4
 },
 "nbformat": 4,
 "nbformat_minor": 2
}
