{
 "cells": [
  {
   "cell_type": "code",
   "execution_count": 33,
   "metadata": {},
   "outputs": [],
   "source": [
    "import numpy as np\n",
    "import sympy as sym\n",
    "sym.init_printing(use_unicode=True)"
   ]
  },
  {
   "cell_type": "code",
   "execution_count": 34,
   "metadata": {},
   "outputs": [],
   "source": [
    "x = sym.Symbol('x',real=True)\n",
    "y = sym.Symbol('y',real=True)"
   ]
  },
  {
   "cell_type": "code",
   "execution_count": 35,
   "metadata": {},
   "outputs": [],
   "source": [
    "def GetLaguerre(n,x):\n",
    "\n",
    "    y = sym.exp(-x)*x**n\n",
    "    \n",
    "    poly = sym.exp(x)*sym.diff(y,x,n)/( np.math.factorial(n) )\n",
    "    \n",
    "    return poly"
   ]
  },
  {
   "cell_type": "code",
   "execution_count": 37,
   "metadata": {},
   "outputs": [],
   "source": [
    "def derivadasLaguerre(n,x):\n",
    "    \n",
    "    derivadas = GetLaguerre(n,x)\n",
    "    \n",
    "    return sym.diff(derivadas,x)"
   ]
  },
  {
   "cell_type": "code",
   "execution_count": 40,
   "metadata": {},
   "outputs": [],
   "source": [
    "def GetNewton(f,df,xn,itmax=10000,precision=1e-14):\n",
    "    \n",
    "    error = 1.\n",
    "    it = 0\n",
    "    \n",
    "    while error >= precision and it < itmax:\n",
    "        \n",
    "        try:\n",
    "            \n",
    "            xn1 = xn - f(xn)/df(xn)\n",
    "            \n",
    "            error = np.abs(f(xn)/df(xn))\n",
    "            \n",
    "        except ZeroDivisionError:\n",
    "            print('Zero Division')\n",
    "            \n",
    "        xn = xn1\n",
    "        it += 1\n",
    "        \n",
    "    if it == itmax:\n",
    "        return False\n",
    "    else:\n",
    "        return xn"
   ]
  },
  {
   "cell_type": "code",
   "execution_count": 41,
   "metadata": {},
   "outputs": [],
   "source": [
    "def GetRoots(f,df,x,tolerancia = 10):\n",
    "    \n",
    "    Roots = np.array([])\n",
    "    \n",
    "    for i in x:\n",
    "        \n",
    "        root = GetNewton(f,df,i)\n",
    "\n",
    "        if  type(root)!=bool:\n",
    "            croot = np.round( root, tolerancia )\n",
    "            \n",
    "            if croot not in Roots:\n",
    "                Roots = np.append(Roots, croot)\n",
    "                \n",
    "    Roots.sort()\n",
    "    \n",
    "    return Roots"
   ]
  },
  {
   "cell_type": "code",
   "execution_count": 42,
   "metadata": {},
   "outputs": [],
   "source": [
    "def GetAllRootsGLag(n):\n",
    "    \n",
    "    vn = np.linspace(0,n+(n-1)*np.sqrt(n),100)\n",
    "    \n",
    "    Laguerre = []\n",
    "    D_Laguerre = []\n",
    "    \n",
    "    for i in range(n+1):\n",
    "        Laguerre.append(GetLaguerre(i,x))\n",
    "        D_Laguerre.append(derivadasLaguerre(i,x))\n",
    "    \n",
    "    poli = sym.lambdify([x],Laguerre[n],'numpy')\n",
    "    D_poli = sym.lambdify([x],D_Laguerre[n],'numpy')\n",
    "    Roots = GetRoots(poli,D_poli,vn)\n",
    "\n",
    "    if len(Roots) != n:\n",
    "        ValueError('El número de raíces debe ser igual al n del polinomio.')\n",
    "    \n",
    "    return Roots"
   ]
  },
  {
   "cell_type": "code",
   "execution_count": 66,
   "metadata": {},
   "outputs": [],
   "source": [
    "raices = []\n",
    "\n",
    "for i in range(1,22):\n",
    "    \n",
    "    l = []\n",
    "    \n",
    "    r = GetAllRootsGLag(i)\n",
    "    \n",
    "    l.append(r)\n",
    "    \n",
    "    raices.append(l)"
   ]
  },
  {
   "cell_type": "code",
   "execution_count": 67,
   "metadata": {},
   "outputs": [
    {
     "name": "stdout",
     "output_type": "stream",
     "text": [
      "El polinomio de grado  0  tiene las siguientes raíces:  [array([1.])]\n",
      "El polinomio de grado  1  tiene las siguientes raíces:  [array([0.58578644, 3.41421356])]\n",
      "El polinomio de grado  2  tiene las siguientes raíces:  [array([0.41577456, 2.29428036, 6.28994508])]\n",
      "El polinomio de grado  3  tiene las siguientes raíces:  [array([0.32254769, 1.7457611 , 4.5366203 , 9.39507091])]\n",
      "El polinomio de grado  4  tiene las siguientes raíces:  [array([ 0.26356032,  1.41340306,  3.59642577,  7.08581001, 12.64080084])]\n",
      "El polinomio de grado  5  tiene las siguientes raíces:  [array([ 0.2228466 ,  1.1889321 ,  2.99273633,  5.77514357,  9.83746742,\n",
      "       15.98287398])]\n",
      "El polinomio de grado  6  tiene las siguientes raíces:  [array([ 0.19304368,  1.0266649 ,  2.56787674,  4.90035308,  8.18215344,\n",
      "       12.73418029, 19.39572786])]\n",
      "El polinomio de grado  7  tiene las siguientes raíces:  [array([ 0.17027963,  0.90370178,  2.25108663,  7.0459054 , 10.75851601,\n",
      "       15.74067864, 22.86313174])]\n",
      "El polinomio de grado  8  tiene las siguientes raíces:  [array([ 0.15232223,  0.80722002,  2.00513516,  3.78347397,  6.20495678,\n",
      "        9.37298525, 13.46623691, 18.83359779, 26.37407189])]\n",
      "El polinomio de grado  9  tiene las siguientes raíces:  [array([ 0.13779347,  0.72945455,  1.8083429 ,  3.4014337 ,  5.55249614,\n",
      "        8.33015275, 21.99658581, 29.92069701])]\n",
      "El polinomio de grado  10  tiene las siguientes raíces:  [array([ 0.12579644,  0.66541826,  1.64715055,  3.09113814,  5.0292844 ,\n",
      "        7.50988786, 10.605951  , 19.1788574 , 25.21770934, 33.49719285])]\n",
      "El polinomio de grado  11  tiene las siguientes raíces:  [array([ 0.11572212,  0.61175748,  1.51261027,  4.59922764, 13.00605499,\n",
      "       22.15109038, 37.09912104])]\n",
      "El polinomio de grado  12  tiene las siguientes raíces:  [array([ 0.10714239,  0.5661319 ,  1.39856434,  4.23884593, 19.88463566,\n",
      "       40.72300867])]\n",
      "El polinomio de grado  13  tiene las siguientes raíces:  [array([0.09974751, 0.52685765, 1.30062912, 2.43080108])]\n",
      "El polinomio de grado  14  tiene las siguientes raíces:  [array([ 0.09330781,  0.49269174,  1.21559541,  2.26994953,  3.66762272,\n",
      "       48.02608557])]\n",
      "El polinomio de grado  15  tiene las siguientes raíces:  [array([ 0.08764941,  0.46269633,  2.12928365,  3.43708663,  5.07801861,\n",
      "       19.18015686])]\n",
      "El polinomio de grado  16  tiene las siguientes raíces:  [array([0.08263821, 1.07517658, 3.23425612, 4.77351351])]\n",
      "El polinomio de grado  17  tiene las siguientes raíces:  [array([ 0.07816917,  1.01652018,  3.05435311, 10.73799005])]\n",
      "El polinomio de grado  18  tiene las siguientes raíces:  [array([0.07415878, 0.96395734, 2.89365138])]\n",
      "El polinomio de grado  19  tiene las siguientes raíces:  [array([0.07053989, 0.37212682, 0.9165821 ])]\n",
      "El polinomio de grado  20  tiene las siguientes raíces:  [array([0.06725782, 3.85465214])]\n"
     ]
    }
   ],
   "source": [
    "for i,raiz in enumerate(raices):\n",
    "    \n",
    "    print(\"El polinomio de grado \", i, \" tiene las siguientes raíces: \", raiz)"
   ]
  }
 ],
 "metadata": {
  "kernelspec": {
   "display_name": "base",
   "language": "python",
   "name": "python3"
  },
  "language_info": {
   "codemirror_mode": {
    "name": "ipython",
    "version": 3
   },
   "file_extension": ".py",
   "mimetype": "text/x-python",
   "name": "python",
   "nbconvert_exporter": "python",
   "pygments_lexer": "ipython3",
   "version": "3.11.4"
  },
  "orig_nbformat": 4
 },
 "nbformat": 4,
 "nbformat_minor": 2
}
