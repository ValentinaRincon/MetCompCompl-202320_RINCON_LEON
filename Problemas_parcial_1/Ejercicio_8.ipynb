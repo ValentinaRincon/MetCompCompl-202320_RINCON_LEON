{
 "cells": [
  {
   "cell_type": "code",
   "execution_count": 20,
   "metadata": {},
   "outputs": [],
   "source": [
    "import matplotlib.pyplot as plt\n",
    "import numpy as np\n",
    "import sympy as sym"
   ]
  },
  {
   "cell_type": "code",
   "execution_count": 21,
   "metadata": {},
   "outputs": [],
   "source": [
    "def Function(x):\n",
    "    return np.sqrt(np.tan(x))"
   ]
  },
  {
   "cell_type": "code",
   "execution_count": 22,
   "metadata": {},
   "outputs": [
    {
     "name": "stdout",
     "output_type": "stream",
     "text": [
      "[0.31675649 0.34784114 0.37650303 0.40328165 0.42855192 0.45258766\n",
      " 0.47559676 0.49774198 0.5191541  0.53994052 0.56019115 0.57998252\n",
      " 0.59938079 0.61844395 0.63722354 0.65576589 0.67411317 0.69230419\n",
      " 0.71037508 0.72835981 0.74629068 0.76419868 0.78211387 0.80006569\n",
      " 0.81808319 0.83619536 0.85443131 0.87282058 0.89139332 0.91018057\n",
      " 0.92921452 0.94852873 0.96815846 0.98814097 1.00851585 1.0293254\n",
      " 1.05061507 1.07243392 1.09483521 1.11787698 1.14162286 1.16614284\n",
      " 1.19151436 1.21782347 1.24516626 1.27365054 1.30339795 1.33454642\n",
      " 1.36725324 1.40169885]\n"
     ]
    }
   ],
   "source": [
    "print(Function(x))"
   ]
  },
  {
   "cell_type": "code",
   "execution_count": 23,
   "metadata": {},
   "outputs": [],
   "source": [
    "x = np.linspace(0.1,1.1)\n",
    "h = 0.01"
   ]
  },
  {
   "cell_type": "code",
   "execution_count": 32,
   "metadata": {},
   "outputs": [],
   "source": [
    "def Derivada_progresiva(x,h):\n",
    "\n",
    "    \n",
    "    d = (((-3)*Function(x))+(4*(Function(x+h)))-((Function(x+(2*h)))))/(2*h)\n",
    "    return d\n",
    "    "
   ]
  },
  {
   "cell_type": "code",
   "execution_count": 33,
   "metadata": {},
   "outputs": [
    {
     "name": "stdout",
     "output_type": "stream",
     "text": [
      "[1.5910402  1.45630461 1.35318545 1.2715208  1.2052382  1.15045878\n",
      " 1.10457543 1.06576433 1.03270785 1.00442889 0.9801871  0.95941157\n",
      " 0.94165567 0.92656601 0.91386055 0.90331286 0.89474068 0.88799737\n",
      " 0.88296554 0.87955224 0.87768528 0.87731045 0.87838944 0.88089824\n",
      " 0.88482602 0.89017435 0.89695677 0.90519855 0.91493677 0.92622063\n",
      " 0.939112   0.95368617 0.97003296 0.98825803 1.00848461 1.03085551\n",
      " 1.05553572 1.08271538 1.11261357 1.1454827  1.18161405 1.22134434\n",
      " 1.26506385 1.31322641 1.36636172 1.42509067 1.49014459 1.56238945\n",
      " 1.64285679 1.73278338]\n"
     ]
    }
   ],
   "source": [
    "print(Derivada_progresiva(x,h))"
   ]
  },
  {
   "cell_type": "code",
   "execution_count": 34,
   "metadata": {},
   "outputs": [],
   "source": [
    "def derivada_central(x,h):\n",
    "    return (Function(x+h)-Function(x-h))/(2*h)\n"
   ]
  },
  {
   "cell_type": "code",
   "execution_count": 35,
   "metadata": {},
   "outputs": [
    {
     "name": "stdout",
     "output_type": "stream",
     "text": [
      "[1.59639318 1.45974366 1.35555364 1.27323751 1.20653315 1.1514673\n",
      " 1.10538191 1.06642386 1.03325782 1.00489547 0.98058914 0.95976297\n",
      " 0.94196691 0.92684515 0.91411389 0.90354543 0.89495655 0.88819991\n",
      " 0.88315756 0.87973614 0.87786316 0.87748417 0.87856067 0.88106854\n",
      " 0.88499686 0.89034717 0.89713296 0.90537955 0.91512404 0.92641572\n",
      " 0.93931654 0.95390195 0.97026193 0.98850236 1.00874671 1.03113814\n",
      " 1.05584199 1.0830489  1.11297849 1.14588388 1.18205716 1.22183609\n",
      " 1.26561222 1.31384093 1.36705388 1.4258744  1.4910369  1.56341132\n",
      " 1.64403429 1.73414918]\n"
     ]
    }
   ],
   "source": [
    "print(derivada_central(x,h))"
   ]
  }
 ],
 "metadata": {
  "kernelspec": {
   "display_name": "base",
   "language": "python",
   "name": "python3"
  },
  "language_info": {
   "codemirror_mode": {
    "name": "ipython",
    "version": 3
   },
   "file_extension": ".py",
   "mimetype": "text/x-python",
   "name": "python",
   "nbconvert_exporter": "python",
   "pygments_lexer": "ipython3",
   "version": "3.11.4"
  },
  "orig_nbformat": 4
 },
 "nbformat": 4,
 "nbformat_minor": 2
}
