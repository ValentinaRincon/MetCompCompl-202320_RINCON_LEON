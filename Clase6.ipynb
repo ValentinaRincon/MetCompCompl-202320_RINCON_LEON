{
 "cells": [
  {
   "cell_type": "code",
   "execution_count": null,
   "metadata": {},
   "outputs": [],
   "source": [
    "from IPython.display import display, HTML\n",
    "display(HTML(\"<style>.container { width:100% !important; }</style>\"))\n",
    "import numpy as np\n",
    "import matplotlib.pyplot as plt\n",
    "from scipy import integrate\n",
    "\n",
    "a = -2.0000000001\n",
    "b = 2.0000000001\n",
    "\n",
    "n = 1000\n",
    "\n",
    "h = b-a"
   ]
  },
  {
   "cell_type": "code",
   "execution_count": null,
   "metadata": {},
   "outputs": [],
   "source": [
    "def funcion(a,b,x):\n",
    "    \n",
    "    num = (a**2)+((((b**2)-1))/((a**2))*(x**2))\n",
    "    dem = (a**2)-(x**2)\n",
    "    \n",
    "    if np.any(dem == 0):\n",
    "        \n",
    "        fun = 0\n",
    "        \n",
    "    else:\n",
    "        \n",
    "        fun = np.sqrt(num/dem)\n",
    "    \n",
    "    return fun"
   ]
  },
  {
   "cell_type": "code",
   "execution_count": null,
   "metadata": {},
   "outputs": [],
   "source": [
    "class Integrator:\n",
    "    \n",
    "    def __init__(self,x,f):\n",
    "        \n",
    "        self.x = x\n",
    "        self.h = self.x[1] - self.x[0]\n",
    "        self.y = f(self.x)\n",
    "        \n",
    "        self.Integral = 0.\n",
    "        \n",
    "class Simpson(Integrator):\n",
    "    \n",
    "    def __init__(self,x,f):\n",
    "        Integrator.__init__(self,x,f)\n",
    "        \n",
    "    def GetIntegral(self):\n",
    "        \n",
    "        self.Integral = 0.\n",
    "        \n",
    "        self.Integral += self.y[0] + self.y[-1]\n",
    "        \n",
    "        for i in range( len(self.y[1:-1]) ):\n",
    "            \n",
    "            if i%2 == 0:\n",
    "                \n",
    "                self.Integral += 4*self.y[i+1]\n",
    "            else:\n",
    "                self.Integral += 2*self.y[i+1]\n",
    "          \n",
    "        return 2*(self.Integral*self.h/3)"
   ]
  },
  {
   "cell_type": "code",
   "execution_count": null,
   "metadata": {},
   "outputs": [],
   "source": [
    "x = np.linspace(-2,2, n-3)\n",
    "f = lambda x: np.sqrt((a**2)+((((b**2)-1))/((a**2))*(x**2))/(a**2)-(x**2))\n",
    "Integrador = Simpson(x,f)"
   ]
  },
  {
   "cell_type": "code",
   "execution_count": null,
   "metadata": {},
   "outputs": [],
   "source": [
    "Integrador.GetIntegral()"
   ]
  },
  {
   "cell_type": "code",
   "execution_count": null,
   "metadata": {},
   "outputs": [],
   "source": [
    "print(\" El perímetro de la elipse es: \" + str(Integrador.GetIntegral()))"
   ]
  },
  {
   "cell_type": "code",
   "execution_count": null,
   "metadata": {},
   "outputs": [],
   "source": [
    "area = []\n",
    "\n",
    "for i in range (len(x)):\n",
    "    \n",
    "    valor = (Integrador.GetIntegral())/2\n",
    "    \n",
    "    area.append(valor)\n",
    "    \n",
    "plt.plot(area,x, label = 'Área en función de la excentricidad')\n",
    "plt.xlabel('Área')\n",
    "plt.show()"
   ]
  }
 ],
 "metadata": {
  "kernelspec": {
   "display_name": "base",
   "language": "python",
   "name": "python3"
  },
  "language_info": {
   "name": "python",
   "version": "3.11.4"
  },
  "orig_nbformat": 4
 },
 "nbformat": 4,
 "nbformat_minor": 2
}
