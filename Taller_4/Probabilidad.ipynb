{
 "cells": [
  {
   "cell_type": "markdown",
   "metadata": {},
   "source": [
    "Cálculo de Probabilidad"
   ]
  },
  {
   "cell_type": "code",
   "execution_count": 14,
   "metadata": {},
   "outputs": [],
   "source": [
    "import numpy as np"
   ]
  },
  {
   "cell_type": "markdown",
   "metadata": {},
   "source": [
    "Ejercicio 1-Cartas\n"
   ]
  },
  {
   "cell_type": "code",
   "execution_count": 12,
   "metadata": {},
   "outputs": [],
   "source": [
    "N = 10000000"
   ]
  },
  {
   "cell_type": "markdown",
   "metadata": {},
   "source": [
    "Si las primeras dos cartas son espadas, ¿cuál es la probabilidad de qué las tres siguientes sean espadas?"
   ]
  },
  {
   "cell_type": "code",
   "execution_count": 44,
   "metadata": {},
   "outputs": [],
   "source": [
    "tres_espadas = 0\n",
    "pro_tres_espadas = 0\n",
    "\n",
    "for i in range(N):\n",
    "    cartas = np.zeros(52)\n",
    "    cartas[:13] =1\n",
    "    np.random.shuffle(cartas[2:])\n",
    "    \n",
    "    if sum(cartas[:5]) == 5:\n",
    "        \n",
    "        tres_espadas+=1"
   ]
  },
  {
   "cell_type": "code",
   "execution_count": 46,
   "metadata": {},
   "outputs": [
    {
     "data": {
      "text/plain": [
       "0.0084307"
      ]
     },
     "execution_count": 46,
     "metadata": {},
     "output_type": "execute_result"
    }
   ],
   "source": [
    "pro_tres_espadas= tres_espadas/N\n",
    "pro_tres_espadas"
   ]
  },
  {
   "cell_type": "markdown",
   "metadata": {},
   "source": [
    "Si las primeras 3 cartas son todas espadas,¿cuál es la probabilidad de que las cartas dos siguientes sean también espadas?"
   ]
  },
  {
   "cell_type": "code",
   "execution_count": 47,
   "metadata": {},
   "outputs": [],
   "source": [
    "dos_espadas = 0\n",
    "pro_dos_espadas = 0\n",
    "\n",
    "for i in range(N):\n",
    "    cartas = np.zeros(52)\n",
    "    cartas[:13] =1\n",
    "    np.random.shuffle(cartas[3:])\n",
    "    \n",
    "    if sum(cartas[:5]) == 5:\n",
    "        \n",
    "        dos_espadas+=1"
   ]
  },
  {
   "cell_type": "code",
   "execution_count": 48,
   "metadata": {},
   "outputs": [
    {
     "data": {
      "text/plain": [
       "0.0382385"
      ]
     },
     "execution_count": 48,
     "metadata": {},
     "output_type": "execute_result"
    }
   ],
   "source": [
    "pro_dos_espadas= dos_espadas/N\n",
    "pro_dos_espadas"
   ]
  },
  {
   "cell_type": "markdown",
   "metadata": {},
   "source": [
    "Si las primeras 4 cartas son todas espadas,¿cuál es la probabilidad de que la siguiente carta sea una espada?"
   ]
  },
  {
   "cell_type": "code",
   "execution_count": 49,
   "metadata": {},
   "outputs": [],
   "source": [
    "una_espada = 0\n",
    "pro_una_espada = 0\n",
    "\n",
    "for i in range(N):\n",
    "    cartas = np.zeros(52)\n",
    "    cartas[:13] =1\n",
    "    np.random.shuffle(cartas[4:])\n",
    "    \n",
    "    if sum(cartas[:5]) == 5:\n",
    "        \n",
    "        una_espada+=1"
   ]
  },
  {
   "cell_type": "code",
   "execution_count": 50,
   "metadata": {},
   "outputs": [
    {
     "data": {
      "text/plain": [
       "0.1875838"
      ]
     },
     "execution_count": 50,
     "metadata": {},
     "output_type": "execute_result"
    }
   ],
   "source": [
    "pro_una_espada = una_espada/N\n",
    "pro_una_espada"
   ]
  },
  {
   "cell_type": "markdown",
   "metadata": {},
   "source": [
    "Ejercicio 2-Personas enfermas"
   ]
  },
  {
   "cell_type": "markdown",
   "metadata": {},
   "source": [
    "Probabilidad de exposición: 0.6\n",
    "\n",
    "Probabilidad C vacuna: 0.2\n",
    "Probabilidad C sin vacuna: 0.9\n",
    "\n",
    "Probabilidad de NC con vacuna: 0.8\n",
    "Probabilidad NC sin vacuna: 0.1\n",
    "\n",
    "Los eventos son independientes entre sí"
   ]
  },
  {
   "cell_type": "code",
   "execution_count": 11,
   "metadata": {},
   "outputs": [
    {
     "data": {
      "text/plain": [
       "0.6312"
      ]
     },
     "execution_count": 11,
     "metadata": {},
     "output_type": "execute_result"
    }
   ],
   "source": [
    "p_e = 0.6\n",
    "\n",
    "p_c_v = 0.2\n",
    "p_c_nv = 0.9\n",
    "\n",
    "p_nc_v = 0.8\n",
    "p_nc_nv = 0.1\n",
    "\n",
    "#¿Cúal es la probabilidad de que al menos una se contagie?\n",
    "#Existen 4 casos. Uno donde ninguna persona se contagia; otro donde la vacunada se contagia, o la persona sin vacunar se contagia, o que ambos se contagien.\n",
    "#P(A U B) = P(A)+P(B)-(AyB)\n",
    "#Primer camino\n",
    "\n",
    "p_nc = (0.6*0.8) * (0.6*0.1)\n",
    "p_nc\n",
    "\n",
    "p_c_1 = 1-p_nc\n",
    "p_c_1\n",
    "\n",
    "#Segundo Camino\n",
    "\n",
    "p_pv_c = (0.6*0.2)\n",
    "p_pnv_c = (0.6*0.9)\n",
    "\n",
    "p_c_2 = p_pv_c + p_pnv_c - (p_pv_c*p_pnv_c)\n",
    "p_c_2\n",
    "\n",
    "#Tercer camino\n",
    "\n",
    "p_c_3 = p_pv_c + p_pnv_c -(p_nc)\n",
    "\n",
    "p_c_3"
   ]
  },
  {
   "cell_type": "markdown",
   "metadata": {},
   "source": [
    "Distribuciones de probabilidad discretas"
   ]
  },
  {
   "cell_type": "markdown",
   "metadata": {},
   "source": [
    "Ejercicio 1"
   ]
  },
  {
   "cell_type": "markdown",
   "metadata": {},
   "source": [
    "Ejercicio 2"
   ]
  },
  {
   "cell_type": "markdown",
   "metadata": {},
   "source": [
    "Distribuciones de probabilidad continuas"
   ]
  },
  {
   "cell_type": "markdown",
   "metadata": {},
   "source": [
    "Ejercicio 1"
   ]
  },
  {
   "cell_type": "markdown",
   "metadata": {},
   "source": [
    "Ejercicio 2"
   ]
  },
  {
   "cell_type": "markdown",
   "metadata": {},
   "source": [
    "Cadenas de Markov"
   ]
  }
 ],
 "metadata": {
  "kernelspec": {
   "display_name": "base",
   "language": "python",
   "name": "python3"
  },
  "language_info": {
   "codemirror_mode": {
    "name": "ipython",
    "version": 3
   },
   "file_extension": ".py",
   "mimetype": "text/x-python",
   "name": "python",
   "nbconvert_exporter": "python",
   "pygments_lexer": "ipython3",
   "version": "3.11.4"
  }
 },
 "nbformat": 4,
 "nbformat_minor": 2
}
