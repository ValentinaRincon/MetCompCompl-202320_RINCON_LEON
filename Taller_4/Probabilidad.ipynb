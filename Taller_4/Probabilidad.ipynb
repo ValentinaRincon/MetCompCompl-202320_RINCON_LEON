{
 "cells": [
  {
   "cell_type": "markdown",
   "metadata": {},
   "source": [
    "Cálculo de Probabilidad"
   ]
  },
  {
   "cell_type": "code",
   "execution_count": 2,
   "metadata": {},
   "outputs": [],
   "source": [
    "import numpy as np\n",
    "import scipy.stats as stats\n",
    "import matplotlib.pyplot as plt \n",
    "import sympy as sp "
   ]
  },
  {
   "cell_type": "markdown",
   "metadata": {},
   "source": [
    "Ejercicio 1-Cartas\n"
   ]
  },
  {
   "cell_type": "code",
   "execution_count": 3,
   "metadata": {},
   "outputs": [],
   "source": [
    "N = 10000000"
   ]
  },
  {
   "cell_type": "markdown",
   "metadata": {},
   "source": [
    "Si las primeras dos cartas son espadas, ¿cuál es la probabilidad de qué las tres siguientes sean espadas?"
   ]
  },
  {
   "cell_type": "code",
   "execution_count": 4,
   "metadata": {},
   "outputs": [],
   "source": [
    "tres_espadas = 0\n",
    "pro_tres_espadas = 0\n",
    "\n",
    "for i in range(N):\n",
    "    cartas = np.zeros(52)\n",
    "    cartas[:13] =1\n",
    "    np.random.shuffle(cartas[2:])\n",
    "    \n",
    "    if sum(cartas[:5]) == 5:\n",
    "        \n",
    "        tres_espadas+=1"
   ]
  },
  {
   "cell_type": "code",
   "execution_count": 5,
   "metadata": {},
   "outputs": [
    {
     "data": {
      "text/plain": [
       "0.0084037"
      ]
     },
     "execution_count": 5,
     "metadata": {},
     "output_type": "execute_result"
    }
   ],
   "source": [
    "pro_tres_espadas= tres_espadas/N\n",
    "pro_tres_espadas"
   ]
  },
  {
   "cell_type": "markdown",
   "metadata": {},
   "source": [
    "Si las primeras 3 cartas son todas espadas,¿cuál es la probabilidad de que las cartas dos siguientes sean también espadas?"
   ]
  },
  {
   "cell_type": "code",
   "execution_count": 6,
   "metadata": {},
   "outputs": [],
   "source": [
    "dos_espadas = 0\n",
    "pro_dos_espadas = 0\n",
    "\n",
    "for i in range(N):\n",
    "    cartas = np.zeros(52)\n",
    "    cartas[:13] =1\n",
    "    np.random.shuffle(cartas[3:])\n",
    "    \n",
    "    if sum(cartas[:5]) == 5:\n",
    "        \n",
    "        dos_espadas+=1"
   ]
  },
  {
   "cell_type": "code",
   "execution_count": 7,
   "metadata": {},
   "outputs": [
    {
     "data": {
      "text/plain": [
       "0.0382665"
      ]
     },
     "execution_count": 7,
     "metadata": {},
     "output_type": "execute_result"
    }
   ],
   "source": [
    "pro_dos_espadas= dos_espadas/N\n",
    "pro_dos_espadas"
   ]
  },
  {
   "cell_type": "markdown",
   "metadata": {},
   "source": [
    "Si las primeras 4 cartas son todas espadas,¿cuál es la probabilidad de que la siguiente carta sea una espada?"
   ]
  },
  {
   "cell_type": "code",
   "execution_count": 8,
   "metadata": {},
   "outputs": [],
   "source": [
    "una_espada = 0\n",
    "pro_una_espada = 0\n",
    "\n",
    "for i in range(N):\n",
    "    cartas = np.zeros(52)\n",
    "    cartas[:13] =1\n",
    "    np.random.shuffle(cartas[4:])\n",
    "    \n",
    "    if sum(cartas[:5]) == 5:\n",
    "        \n",
    "        una_espada+=1"
   ]
  },
  {
   "cell_type": "code",
   "execution_count": 9,
   "metadata": {},
   "outputs": [
    {
     "data": {
      "text/plain": [
       "0.187308"
      ]
     },
     "execution_count": 9,
     "metadata": {},
     "output_type": "execute_result"
    }
   ],
   "source": [
    "pro_una_espada = una_espada/N\n",
    "pro_una_espada"
   ]
  },
  {
   "cell_type": "markdown",
   "metadata": {},
   "source": [
    "Ejercicio 2-Personas enfermas"
   ]
  },
  {
   "cell_type": "markdown",
   "metadata": {},
   "source": [
    "Probabilidad de exposición: 0.6\n",
    "\n",
    "Probabilidad C vacuna: 0.2\n",
    "Probabilidad C sin vacuna: 0.9\n",
    "\n",
    "Probabilidad de NC con vacuna: 0.8\n",
    "Probabilidad NC sin vacuna: 0.1\n",
    "\n",
    "Los eventos son independientes entre sí"
   ]
  },
  {
   "cell_type": "code",
   "execution_count": 10,
   "metadata": {},
   "outputs": [
    {
     "data": {
      "text/plain": [
       "0.5952"
      ]
     },
     "execution_count": 10,
     "metadata": {},
     "output_type": "execute_result"
    }
   ],
   "source": [
    "p_e = 0.6\n",
    "\n",
    "p_c_v = 0.2\n",
    "p_c_nv = 0.9\n",
    "\n",
    "p_nc_v = 0.8\n",
    "p_nc_nv = 0.1\n",
    "\n",
    "#¿Cúal es la probabilidad de que al menos una se contagie?\n",
    "#Existen 4 casos. Uno donde ninguna persona se contagia; otro donde la vacunada se contagia, o la persona sin vacunar se contagia, o que ambos se contagien.\n",
    "\n",
    "p_nc = ((p_e * p_nc_v)+((1-p_e)*1)) * ((p_e * p_nc_nv)+(1-p_e))\n",
    "\n",
    "p_c_1 = 1-p_nc\n",
    "p_c_1\n"
   ]
  },
  {
   "cell_type": "markdown",
   "metadata": {},
   "source": [
    "Distribuciones de probabilidad discretas"
   ]
  },
  {
   "cell_type": "markdown",
   "metadata": {},
   "source": [
    "Ejercicio 1"
   ]
  },
  {
   "cell_type": "code",
   "execution_count": 15,
   "metadata": {},
   "outputs": [
    {
     "data": {
      "image/png": "[encoded data removed]",
      "text/plain": [
       "<Figure size 640x480 with 1 Axes>"
      ]
     },
     "metadata": {},
     "output_type": "display_data"
    }
   ],
   "source": [
    "def piezas_defectuosas(n,a,N):\n",
    "    \n",
    "    piezas = np.linspace(0,1,N)\n",
    "    prob = np.zeros(N)\n",
    "    tamaño = piezas.shape[0]\n",
    "    for i in range(tamaño):\n",
    "        arreglo = np.random.binomial(n,piezas[i],size=N)\n",
    "        prob[i] = np.mean(arreglo<=a)\n",
    "    plt.scatter (piezas,prob,s=10)\n",
    "    plt.title(\"Planes de muestreo de n = {0}, a = {1}\".format(n,a))\n",
    "    plt.axvline(x = 0.1, color='blue')\n",
    "    plt.axvline(x = 0.3, color='orange')\n",
    "    plt. show\n",
    "\n",
    "piezas_defectuosas(5,1,1000)\n",
    "piezas_defectuosas(25,5,1000)"
   ]
  },
  {
   "cell_type": "markdown",
   "metadata": {},
   "source": [
    "a) Teniendo en cuenta que p = 0 y a = 10, el plan de muestreo que mejor correspondería sería el de n=5 a=1, porque a partir de la gráfica que puede determinar que hay buenas piezas aceptadas para la cantidad en total que se analizan; en otras palabras, la mayoría que son sometidas, son aceptadas con un bajo rango de estar defectuosas.\n",
    "\n",
    "b) Si quisiera minimizar la probailidad de adquirir piezas defectuosas con un p $\\geq$ 30, el plan de muestreo que mejor correspondería sería el de n= 25 y a = 5. Porque a medida que se incrementan las piezas, la proporción de fichas defectuosas va bajando."
   ]
  },
  {
   "cell_type": "markdown",
   "metadata": {},
   "source": [
    "Ejercicio 2"
   ]
  },
  {
   "cell_type": "markdown",
   "metadata": {},
   "source": [
    "Distribuciones de probabilidad continuas"
   ]
  },
  {
   "cell_type": "markdown",
   "metadata": {},
   "source": [
    "Ejercicio 1"
   ]
  },
  {
   "cell_type": "markdown",
   "metadata": {},
   "source": [
    "Ejercicio 2-Calificaciones-Normal"
   ]
  },
  {
   "cell_type": "code",
   "execution_count": null,
   "metadata": {},
   "outputs": [],
   "source": [
    "calificaciones = np.random.normal(78,6,N)"
   ]
  },
  {
   "cell_type": "code",
   "execution_count": null,
   "metadata": {},
   "outputs": [
    {
     "data": {
      "text/plain": [
       "array([ 48.10985713,  48.3090998 ,  48.64642147, ..., 107.35556792,\n",
       "       107.53471475, 108.02195141])"
      ]
     },
     "execution_count": 17,
     "metadata": {},
     "output_type": "execute_result"
    }
   ],
   "source": [
    "calificaciones.sort()\n",
    "calificaciones"
   ]
  },
  {
   "cell_type": "markdown",
   "metadata": {},
   "source": [
    "¿Cuál es la probabilidad de que una persona que haga el examen alcance calificaciones mayores de 72?"
   ]
  },
  {
   "cell_type": "code",
   "execution_count": null,
   "metadata": {},
   "outputs": [
    {
     "data": {
      "text/plain": [
       "0.8412571"
      ]
     },
     "execution_count": 44,
     "metadata": {},
     "output_type": "execute_result"
    }
   ],
   "source": [
    "c_72 = 0\n",
    "\n",
    "l_calificaciones = []\n",
    "\n",
    "for calificacion in calificaciones:\n",
    "    \n",
    "    if calificacion > 72:\n",
    "        l_calificaciones.append(calificacion)\n",
    "        c_72 += 1\n",
    "        \n",
    "p_c72 = c_72/N\n",
    "p_c72"
   ]
  },
  {
   "cell_type": "code",
   "execution_count": null,
   "metadata": {},
   "outputs": [],
   "source": [
    "def percentil(v_percentil):\n",
    "    \n",
    "    p = (v_percentil/100) * (N+1)\n",
    "    \n",
    "    if p.is_integer():\n",
    "        \n",
    "        return calificaciones[int(p)-1]\n",
    "    \n",
    "    else:\n",
    "        n = int(p)\n",
    "        c = p - n \n",
    "        \n",
    "        return calificaciones[n-1] + c * (calificaciones[n] - calificaciones[n-1])\n",
    "    \n",
    "    "
   ]
  },
  {
   "cell_type": "markdown",
   "metadata": {},
   "source": [
    "Suponga que los estudiantes alcancen el 10% más alto de esta distribución reciben una calificación de A. ¿Cuál es la calificación mínima que un estudiante debe recibir para ganar una calificación de A?"
   ]
  },
  {
   "cell_type": "code",
   "execution_count": null,
   "metadata": {},
   "outputs": [
    {
     "data": {
      "text/plain": [
       "85.69059975940543"
      ]
     },
     "execution_count": 39,
     "metadata": {},
     "output_type": "execute_result"
    }
   ],
   "source": [
    "#Para resolver este problema hay que tener en cuenta que al calcular el percentil, se estima el porcentaje de notas más altas.\n",
    "calificacion_min = percentil(90)\n",
    "calificacion_min"
   ]
  },
  {
   "cell_type": "markdown",
   "metadata": {},
   "source": [
    "¿Cuál debe ser el punto límite para pasar el examen si el examinador desea pasar sólo al 28.1% más alto de todas las calificaciones?"
   ]
  },
  {
   "cell_type": "code",
   "execution_count": null,
   "metadata": {},
   "outputs": [
    {
     "data": {
      "text/plain": [
       "81.48139296914532"
      ]
     },
     "execution_count": 40,
     "metadata": {},
     "output_type": "execute_result"
    }
   ],
   "source": [
    "calificacion_pl = percentil(71.9)\n",
    "calificacion_pl"
   ]
  },
  {
   "cell_type": "markdown",
   "metadata": {},
   "source": [
    "Aproximadamente qué proporción de estudiantes tienen calificaciones de 5 o más puntos arriba de la calificación que corta al 25% más bajo?"
   ]
  },
  {
   "cell_type": "code",
   "execution_count": null,
   "metadata": {},
   "outputs": [
    {
     "data": {
      "text/plain": [
       "0.4370476"
      ]
     },
     "execution_count": 41,
     "metadata": {},
     "output_type": "execute_result"
    }
   ],
   "source": [
    "pro_mas_calificacion = 0\n",
    "calificacion_25 = percentil(25)\n",
    "\n",
    "calificacion_deseada = calificacion_25+5\n",
    "\n",
    "for calificacion in calificaciones:\n",
    "    \n",
    "    if calificacion > calificacion_deseada:\n",
    "        \n",
    "        pro_mas_calificacion += 1\n",
    "      \n",
    "p_c25 = pro_mas_calificacion/N\n",
    "p_c25\n"
   ]
  },
  {
   "cell_type": "markdown",
   "metadata": {},
   "source": [
    "Si se sabe que la calificación de una estudiante excede de 72, ¿cuál es la probabilidad de que su calificación excede de 84?"
   ]
  },
  {
   "cell_type": "code",
   "execution_count": null,
   "metadata": {},
   "outputs": [
    {
     "data": {
      "text/plain": [
       "0.1587752"
      ]
     },
     "execution_count": 45,
     "metadata": {},
     "output_type": "execute_result"
    }
   ],
   "source": [
    "c_84 = 0\n",
    "p_c_84 = 0\n",
    "\n",
    "for calificacion in l_calificaciones:\n",
    "    \n",
    "    if calificacion > 84:\n",
    "        c_84 += 1\n",
    "\n",
    "p_c84 = c_84/N\n",
    "p_c84"
   ]
  },
  {
   "cell_type": "code",
   "execution_count": null,
   "metadata": {},
   "outputs": [
    {
     "data": {
      "text/plain": [
       "0.18873564336039483"
      ]
     },
     "execution_count": 46,
     "metadata": {},
     "output_type": "execute_result"
    }
   ],
   "source": [
    "#Para hallar la probabilidad condicional se debe dividir el resultado de la probabilidad de calificaciones mayores que 84 entre calificaciones mayores a 72\n",
    "\n",
    "p_tcalificaciones = p_c84/p_c72\n",
    "p_tcalificaciones"
   ]
  },
  {
   "cell_type": "markdown",
   "metadata": {},
   "source": [
    "Cadenas de Markov"
   ]
  },
  {
   "cell_type": "markdown",
   "metadata": {},
   "source": [
    "Las bases nitrogenadas fundamentales que componen el ADN son : Adeninda (A), Citosina (C), Guanina (G) y Timina (T). Un gen se puede representar a través de una secuencia ordenada de dichas bases. Suponga la siguiente matriz de transiciones entre bases."
   ]
  },
  {
   "cell_type": "code",
   "execution_count": null,
   "metadata": {},
   "outputs": [],
   "source": [
    "T = np.array([[0.4,0.2,0.2,0.2],[0.25,0.25,0.25,0.25],[0.3,0.3,0.1,0.7],[0.1,0.1,0.1,0.7]])"
   ]
  },
  {
   "cell_type": "code",
   "execution_count": null,
   "metadata": {},
   "outputs": [
    {
     "data": {
      "text/plain": [
       "array([[0.4 , 0.25, 0.3 , 0.1 ],\n",
       "       [0.2 , 0.25, 0.3 , 0.1 ],\n",
       "       [0.2 , 0.25, 0.1 , 0.1 ],\n",
       "       [0.2 , 0.25, 0.7 , 0.7 ]])"
      ]
     },
     "execution_count": 6,
     "metadata": {},
     "output_type": "execute_result"
    }
   ],
   "source": [
    "T.T"
   ]
  },
  {
   "cell_type": "code",
   "execution_count": null,
   "metadata": {},
   "outputs": [],
   "source": [
    "a_priori = np.array([0.25,0.,0.5,0.25])"
   ]
  },
  {
   "cell_type": "code",
   "execution_count": null,
   "metadata": {},
   "outputs": [
    {
     "data": {
      "text/plain": [
       "7.500000000000001e-06"
      ]
     },
     "execution_count": 8,
     "metadata": {},
     "output_type": "execute_result"
    }
   ],
   "source": [
    "prob_cadenag = (a_priori[3])*(T[3,2])*(T[2,1])*(T[1,3])*(T[3,1])*(T[1,0])*(T[0,0])*(T[0,0])\n",
    "prob_cadenag\n",
    "\n"
   ]
  },
  {
   "cell_type": "markdown",
   "metadata": {},
   "source": [
    "Estas bases nitrogenadas pasarán un proceso por un traducción donde el objetivo es que traduzcan A-U, C-G, G-C,T-A según la siguiente matriz de emisión."
   ]
  },
  {
   "cell_type": "code",
   "execution_count": null,
   "metadata": {},
   "outputs": [
    {
     "data": {
      "text/plain": [
       "array([[0.8 , 0.  , 0.  , 0.2 ],\n",
       "       [0.05, 0.9 , 0.1 , 0.1 ],\n",
       "       [0.05, 0.1 , 0.9 , 0.  ],\n",
       "       [0.1 , 0.  , 0.  , 0.7 ]])"
      ]
     },
     "execution_count": 9,
     "metadata": {},
     "output_type": "execute_result"
    }
   ],
   "source": [
    "E = np.array([[0.8,0.,0.,0.2],[0.05, 0.9, 0.1, 0.1],[0.05, 0.1,0.9,0.],[0.1,0.,0.,0.7]])\n",
    "E"
   ]
  },
  {
   "cell_type": "markdown",
   "metadata": {},
   "source": [
    "Si un gen traducido está dado por gr = [A,C,G,A,G,U,U,U],¿Cuál es la probabilidad de que venga del gen anterior g?"
   ]
  },
  {
   "cell_type": "code",
   "execution_count": null,
   "metadata": {},
   "outputs": [
    {
     "data": {
      "text/plain": [
       "1.3716864000000001e-06"
      ]
     },
     "execution_count": 11,
     "metadata": {},
     "output_type": "execute_result"
    }
   ],
   "source": [
    "prob_cadena_gr = prob_cadenag * (E[3,3])*(E[2,2])*(E[1,1])*(E[3,3])*(E[1,1])*(E[0,0])*(E[0,0])*(E[0,0])\n",
    "\n",
    "prob_cadena_gr"
   ]
  }
 ],
 "metadata": {
  "kernelspec": {
   "display_name": "base",
   "language": "python",
   "name": "python3"
  },
  "language_info": {
   "codemirror_mode": {
    "name": "ipython",
    "version": 3
   },
   "file_extension": ".py",
   "mimetype": "text/x-python",
   "name": "python",
   "nbconvert_exporter": "python",
   "pygments_lexer": "ipython3",
   "version": "3.7.7"
  }
 },
 "nbformat": 4,
 "nbformat_minor": 2
}
