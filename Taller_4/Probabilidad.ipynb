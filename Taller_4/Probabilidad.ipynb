{
 "cells": [
  {
   "cell_type": "markdown",
   "metadata": {},
   "source": [
    "Cálculo de Probabilidad"
   ]
  },
  {
   "cell_type": "code",
   "execution_count": 2,
   "metadata": {},
   "outputs": [],
   "source": [
    "import numpy as np\n",
    "import scipy.stats as stats"
   ]
  },
  {
   "cell_type": "markdown",
   "metadata": {},
   "source": [
    "Ejercicio 1-Cartas\n"
   ]
  },
  {
   "cell_type": "code",
   "execution_count": 12,
   "metadata": {},
   "outputs": [],
   "source": [
    "N = 10000000"
   ]
  },
  {
   "cell_type": "markdown",
   "metadata": {},
   "source": [
    "Si las primeras dos cartas son espadas, ¿cuál es la probabilidad de qué las tres siguientes sean espadas?"
   ]
  },
  {
   "cell_type": "code",
   "execution_count": 44,
   "metadata": {},
   "outputs": [],
   "source": [
    "tres_espadas = 0\n",
    "pro_tres_espadas = 0\n",
    "\n",
    "for i in range(N):\n",
    "    cartas = np.zeros(52)\n",
    "    cartas[:13] =1\n",
    "    np.random.shuffle(cartas[2:])\n",
    "    \n",
    "    if sum(cartas[:5]) == 5:\n",
    "        \n",
    "        tres_espadas+=1"
   ]
  },
  {
   "cell_type": "code",
   "execution_count": 46,
   "metadata": {},
   "outputs": [
    {
     "data": {
      "text/plain": [
       "0.0084307"
      ]
     },
     "execution_count": 46,
     "metadata": {},
     "output_type": "execute_result"
    }
   ],
   "source": [
    "pro_tres_espadas= tres_espadas/N\n",
    "pro_tres_espadas"
   ]
  },
  {
   "cell_type": "markdown",
   "metadata": {},
   "source": [
    "Si las primeras 3 cartas son todas espadas,¿cuál es la probabilidad de que las cartas dos siguientes sean también espadas?"
   ]
  },
  {
   "cell_type": "code",
   "execution_count": 47,
   "metadata": {},
   "outputs": [],
   "source": [
    "dos_espadas = 0\n",
    "pro_dos_espadas = 0\n",
    "\n",
    "for i in range(N):\n",
    "    cartas = np.zeros(52)\n",
    "    cartas[:13] =1\n",
    "    np.random.shuffle(cartas[3:])\n",
    "    \n",
    "    if sum(cartas[:5]) == 5:\n",
    "        \n",
    "        dos_espadas+=1"
   ]
  },
  {
   "cell_type": "code",
   "execution_count": 48,
   "metadata": {},
   "outputs": [
    {
     "data": {
      "text/plain": [
       "0.0382385"
      ]
     },
     "execution_count": 48,
     "metadata": {},
     "output_type": "execute_result"
    }
   ],
   "source": [
    "pro_dos_espadas= dos_espadas/N\n",
    "pro_dos_espadas"
   ]
  },
  {
   "cell_type": "markdown",
   "metadata": {},
   "source": [
    "Si las primeras 4 cartas son todas espadas,¿cuál es la probabilidad de que la siguiente carta sea una espada?"
   ]
  },
  {
   "cell_type": "code",
   "execution_count": 49,
   "metadata": {},
   "outputs": [],
   "source": [
    "una_espada = 0\n",
    "pro_una_espada = 0\n",
    "\n",
    "for i in range(N):\n",
    "    cartas = np.zeros(52)\n",
    "    cartas[:13] =1\n",
    "    np.random.shuffle(cartas[4:])\n",
    "    \n",
    "    if sum(cartas[:5]) == 5:\n",
    "        \n",
    "        una_espada+=1"
   ]
  },
  {
   "cell_type": "code",
   "execution_count": 50,
   "metadata": {},
   "outputs": [
    {
     "data": {
      "text/plain": [
       "0.1875838"
      ]
     },
     "execution_count": 50,
     "metadata": {},
     "output_type": "execute_result"
    }
   ],
   "source": [
    "pro_una_espada = una_espada/N\n",
    "pro_una_espada"
   ]
  },
  {
   "cell_type": "markdown",
   "metadata": {},
   "source": [
    "Ejercicio 2-Personas enfermas"
   ]
  },
  {
   "cell_type": "markdown",
   "metadata": {},
   "source": [
    "Probabilidad de exposición: 0.6\n",
    "\n",
    "Probabilidad C vacuna: 0.2\n",
    "Probabilidad C sin vacuna: 0.9\n",
    "\n",
    "Probabilidad de NC con vacuna: 0.8\n",
    "Probabilidad NC sin vacuna: 0.1\n",
    "\n",
    "Los eventos son independientes entre sí"
   ]
  },
  {
   "cell_type": "code",
   "execution_count": 28,
   "metadata": {},
   "outputs": [
    {
     "data": {
      "text/plain": [
       "0.5952"
      ]
     },
     "execution_count": 28,
     "metadata": {},
     "output_type": "execute_result"
    }
   ],
   "source": [
    "p_e = 0.6\n",
    "\n",
    "p_c_v = 0.2\n",
    "p_c_nv = 0.9\n",
    "\n",
    "p_nc_v = 0.8\n",
    "p_nc_nv = 0.1\n",
    "\n",
    "#¿Cúal es la probabilidad de que al menos una se contagie?\n",
    "#Existen 4 casos. Uno donde ninguna persona se contagia; otro donde la vacunada se contagia, o la persona sin vacunar se contagia, o que ambos se contagien.\n",
    "\n",
    "#Primer camino\n",
    "\n",
    "p_nc = ((0.6*0.8)+(0.4*1)) * ((0.6*0.1)+(0.4))\n",
    "p_nc\n",
    "\n",
    "p_c_1 = 1-p_nc\n",
    "p_c_1\n"
   ]
  },
  {
   "cell_type": "code",
   "execution_count": 24,
   "metadata": {},
   "outputs": [
    {
     "data": {
      "text/plain": [
       "0.784"
      ]
     },
     "execution_count": 24,
     "metadata": {},
     "output_type": "execute_result"
    }
   ],
   "source": [
    "p_c_1"
   ]
  },
  {
   "cell_type": "markdown",
   "metadata": {},
   "source": [
    "Distribuciones de probabilidad discretas"
   ]
  },
  {
   "cell_type": "markdown",
   "metadata": {},
   "source": [
    "Ejercicio 1"
   ]
  },
  {
   "cell_type": "markdown",
   "metadata": {},
   "source": [
    "Ejercicio 2"
   ]
  },
  {
   "cell_type": "markdown",
   "metadata": {},
   "source": [
    "Distribuciones de probabilidad continuas"
   ]
  },
  {
   "cell_type": "markdown",
   "metadata": {},
   "source": [
    "Ejercicio 1"
   ]
  },
  {
   "cell_type": "markdown",
   "metadata": {},
   "source": [
    "Ejercicio 2-Calificaciones-Normal"
   ]
  },
  {
   "cell_type": "code",
   "execution_count": 58,
   "metadata": {},
   "outputs": [],
   "source": [
    "calificaciones = np.random.normal(78,6,N)"
   ]
  },
  {
   "cell_type": "markdown",
   "metadata": {},
   "source": [
    "¿Cuál es la probabilidad de que una persona que haga el examen alcance calificaciones mayores de 72?"
   ]
  },
  {
   "cell_type": "code",
   "execution_count": 93,
   "metadata": {},
   "outputs": [
    {
     "data": {
      "text/plain": [
       "0.8412768"
      ]
     },
     "execution_count": 93,
     "metadata": {},
     "output_type": "execute_result"
    }
   ],
   "source": [
    "c_72 = 0\n",
    "\n",
    "l_calificaciones = []\n",
    "\n",
    "for calificacion in calificaciones:\n",
    "    \n",
    "    if calificacion > 72:\n",
    "        l_calificaciones.append(calificacion)\n",
    "        c_72 += 1\n",
    "        \n",
    "p_c72 = c_72/N\n",
    "p_c72"
   ]
  },
  {
   "cell_type": "markdown",
   "metadata": {},
   "source": [
    "Suponga que los estudiantes alcancen el 10% más alto de esta distribución reciben una calificación de A. ¿Cuál es la calificación mínima que un estudiante debe recibir para ganar una calificación de A?"
   ]
  },
  {
   "cell_type": "code",
   "execution_count": 63,
   "metadata": {},
   "outputs": [
    {
     "data": {
      "text/plain": [
       "85.68880930760903"
      ]
     },
     "execution_count": 63,
     "metadata": {},
     "output_type": "execute_result"
    }
   ],
   "source": [
    "calificacion_min = np.percentile(calificaciones,90)\n",
    "calificacion_min"
   ]
  },
  {
   "cell_type": "markdown",
   "metadata": {},
   "source": [
    "¿Cuál debe ser el punto límite para pasar el examen si el examinador desea pasar sólo al 28.1% más alto de todas las calificaciones?"
   ]
  },
  {
   "cell_type": "code",
   "execution_count": 75,
   "metadata": {},
   "outputs": [
    {
     "data": {
      "text/plain": [
       "81.47952476427879"
      ]
     },
     "execution_count": 75,
     "metadata": {},
     "output_type": "execute_result"
    }
   ],
   "source": [
    "calificacion_pl = np.percentile(calificaciones,71.9)\n",
    "calificacion_pl\n"
   ]
  },
  {
   "cell_type": "code",
   "execution_count": 76,
   "metadata": {},
   "outputs": [],
   "source": [
    "#Cáluclo percentil con spicy es stats.norm.ppf(0.719,78,6)"
   ]
  },
  {
   "cell_type": "markdown",
   "metadata": {},
   "source": [
    "Aproximadamente qué proporción de estudiantes tienen calificaciones de 5 o más puntos arriba de la calificación que corta al 25% más bajo?"
   ]
  },
  {
   "cell_type": "code",
   "execution_count": 92,
   "metadata": {},
   "outputs": [
    {
     "data": {
      "text/plain": [
       "0.4369796"
      ]
     },
     "execution_count": 92,
     "metadata": {},
     "output_type": "execute_result"
    }
   ],
   "source": [
    "pro_mas_calificacion = 0\n",
    "calificacion_25 = np.percentile(calificaciones,25)\n",
    "\n",
    "calificacion_deseada = calificacion_25+5\n",
    "\n",
    "for calificacion in calificaciones:\n",
    "    \n",
    "    if calificacion > calificacion_deseada:\n",
    "        \n",
    "        pro_mas_calificacion += 1\n",
    "      \n",
    "p_c25 = pro_mas_calificacion/N\n",
    "p_c25\n"
   ]
  },
  {
   "cell_type": "markdown",
   "metadata": {},
   "source": [
    "Si se sabe que la calificación de una estudiante excede de 72, ¿cuál es la probabilidad de que su calificación excede de 84?"
   ]
  },
  {
   "cell_type": "code",
   "execution_count": 97,
   "metadata": {},
   "outputs": [
    {
     "data": {
      "text/plain": [
       "0.158558"
      ]
     },
     "execution_count": 97,
     "metadata": {},
     "output_type": "execute_result"
    }
   ],
   "source": [
    "c_84 = 0\n",
    "p_c_84 = 0\n",
    "\n",
    "for calificacion in l_calificaciones:\n",
    "    \n",
    "    if calificacion > 84:\n",
    "        c_84 += 1\n",
    "#Primera opción\n",
    "p_c84 = c_84/N\n",
    "p_c84"
   ]
  },
  {
   "cell_type": "code",
   "execution_count": 98,
   "metadata": {},
   "outputs": [
    {
     "data": {
      "text/plain": [
       "0.188473044781456"
      ]
     },
     "execution_count": 98,
     "metadata": {},
     "output_type": "execute_result"
    }
   ],
   "source": [
    "#Segunda opción\n",
    "\n",
    "pc84 = c_84/len(l_calificaciones)\n",
    "pc84"
   ]
  },
  {
   "cell_type": "markdown",
   "metadata": {},
   "source": [
    "Cadenas de Markov"
   ]
  },
  {
   "cell_type": "markdown",
   "metadata": {},
   "source": [
    "Las bases nitrogenadas fundamentales que componen el ADN son : Adeninda (A), Citosina (C), Guanina (G) y Timina (T). Un gen se puede representar a través de una secuencia ordenada de dichas bases. Suponga la siguiente matriz de transiciones entre bases."
   ]
  },
  {
   "cell_type": "code",
   "execution_count": 5,
   "metadata": {},
   "outputs": [],
   "source": [
    "T = np.array([[0.4,0.2,0.2,0.2],[0.25,0.25,0.25,0.25],[0.3,0.3,0.1,0.7],[0.1,0.1,0.1,0.7]])"
   ]
  },
  {
   "cell_type": "code",
   "execution_count": 44,
   "metadata": {},
   "outputs": [
    {
     "data": {
      "text/plain": [
       "array([[0.4 , 0.25, 0.3 , 0.1 ],\n",
       "       [0.2 , 0.25, 0.3 , 0.1 ],\n",
       "       [0.2 , 0.25, 0.1 , 0.1 ],\n",
       "       [0.2 , 0.25, 0.7 , 0.7 ]])"
      ]
     },
     "execution_count": 44,
     "metadata": {},
     "output_type": "execute_result"
    }
   ],
   "source": [
    "T.T"
   ]
  },
  {
   "cell_type": "code",
   "execution_count": 31,
   "metadata": {},
   "outputs": [
    {
     "data": {
      "text/plain": [
       "0.010000000000000002"
      ]
     },
     "execution_count": 31,
     "metadata": {},
     "output_type": "execute_result"
    }
   ],
   "source": [
    "(T[3,2])*(T[3,2])"
   ]
  },
  {
   "cell_type": "code",
   "execution_count": 7,
   "metadata": {},
   "outputs": [],
   "source": [
    "a_priori = np.array([0.25,0.,0.5,0.25])"
   ]
  },
  {
   "cell_type": "code",
   "execution_count": 49,
   "metadata": {},
   "outputs": [
    {
     "data": {
      "text/plain": [
       "7.500000000000001e-06"
      ]
     },
     "execution_count": 49,
     "metadata": {},
     "output_type": "execute_result"
    }
   ],
   "source": [
    "prob_cadenag = (a_priori[3])*(T[3,2])*(T[2,1])*(T[1,3])*(T[3,1])*(T[1,0])*(T[0,0])*(T[0,0])\n",
    "prob_cadenag\n",
    "\n"
   ]
  },
  {
   "cell_type": "code",
   "execution_count": null,
   "metadata": {},
   "outputs": [],
   "source": []
  }
 ],
 "metadata": {
  "kernelspec": {
   "display_name": "base",
   "language": "python",
   "name": "python3"
  },
  "language_info": {
   "codemirror_mode": {
    "name": "ipython",
    "version": 3
   },
   "file_extension": ".py",
   "mimetype": "text/x-python",
   "name": "python",
   "nbconvert_exporter": "python",
   "pygments_lexer": "ipython3",
   "version": "3.11.4"
  }
 },
 "nbformat": 4,
 "nbformat_minor": 2
}
