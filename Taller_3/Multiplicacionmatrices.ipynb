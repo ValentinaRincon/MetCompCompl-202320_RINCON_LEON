{
 "cells": [
  {
   "cell_type": "code",
   "execution_count": 44,
   "metadata": {},
   "outputs": [],
   "source": [
    "import numpy as np"
   ]
  },
  {
   "cell_type": "code",
   "execution_count": 87,
   "metadata": {},
   "outputs": [],
   "source": [
    "def multiplicacion(A,B):\n",
    "    \n",
    "    respuesta = None\n",
    "  \n",
    "    if len(B.shape) == 1:\n",
    "        \n",
    "        V = np.reshape(B,(3,1))\n",
    "        \n",
    "        \n",
    "        filas_a = A.shape[0]\n",
    "        columnas_a = A.shape[1]        \n",
    "        \n",
    "        columnas_V = len(V[0,:])\n",
    "        \n",
    "        filas_V = len(V[:,0])\n",
    "        \n",
    "        if columnas_a != filas_V:\n",
    "            \n",
    "            respuesta = \"Las matrices no se pueden multiplicar porque el número de columnas de la matriz a no es el mismo número de filas de la matriz b\"\n",
    "            \n",
    "        else:\n",
    "            \n",
    "            matrizr = np.zeros((filas_a,columnas_V))\n",
    "            \n",
    "            for fila in range(filas_a):\n",
    "                \n",
    "                f = A[fila,:]\n",
    "                \n",
    "                for columna in range(columnas_V):\n",
    "                    \n",
    "                    c = V[:,columna]\n",
    "                    \n",
    "                    valor = np.dot(f,c)\n",
    "                    \n",
    "                    matrizr[fila,columna] = valor\n",
    "                    \n",
    "                    respuesta = matrizr\n",
    "        \n",
    "    else: \n",
    "        \n",
    "        filas_a = A.shape[0]\n",
    "        columnas_a = A.shape[1]\n",
    "\n",
    "        filas_b = B.shape[0]\n",
    "        columnas_b = B.shape[1]\n",
    "        \n",
    "        if columnas_a != filas_b:\n",
    "            \n",
    "            respuesta = \"Las matrices no se pueden multiplicar porque el número de columnas de la matriz a no es el mismo número de filas de la matriz b\"\n",
    "            \n",
    "        else:\n",
    "            \n",
    "            matrizr = np.zeros((filas_a,columnas_b))\n",
    "            \n",
    "            for fila in range(filas_a):\n",
    "                \n",
    "                f = A[fila,:]\n",
    "                \n",
    "                for columna in range(columnas_b):\n",
    "                    \n",
    "                    c = B[:,columna]\n",
    "                    \n",
    "                    valor = np.dot(f,c)\n",
    "                    \n",
    "                    matrizr[fila,columna] = valor\n",
    "                    \n",
    "                    respuesta = matrizr\n",
    "        \n",
    "    return respuesta"
   ]
  },
  {
   "cell_type": "markdown",
   "metadata": {},
   "source": [
    "Problema 1"
   ]
  },
  {
   "cell_type": "code",
   "execution_count": 103,
   "metadata": {},
   "outputs": [
    {
     "data": {
      "text/plain": [
       "array([ 5, -4, -2])"
      ]
     },
     "execution_count": 103,
     "metadata": {},
     "output_type": "execute_result"
    }
   ],
   "source": [
    "A = np.array([[5,-4,-2],[5,-5,4],[2,5,-4],[-5,4,3],[3,-4,-3]])\n",
    "B = np.array([5,-2,-3])\n",
    "\n",
    "A[0,:]\n",
    "\n"
   ]
  },
  {
   "cell_type": "code",
   "execution_count": 104,
   "metadata": {},
   "outputs": [],
   "source": [
    "respuesta_1 = multiplicacion(A,B)"
   ]
  },
  {
   "cell_type": "code",
   "execution_count": 105,
   "metadata": {},
   "outputs": [
    {
     "data": {
      "text/plain": [
       "array([[ 39.],\n",
       "       [ 23.],\n",
       "       [ 12.],\n",
       "       [-42.],\n",
       "       [ 32.]])"
      ]
     },
     "execution_count": 105,
     "metadata": {},
     "output_type": "execute_result"
    }
   ],
   "source": [
    "respuesta_1"
   ]
  },
  {
   "cell_type": "markdown",
   "metadata": {},
   "source": [
    "Problema 2"
   ]
  },
  {
   "cell_type": "code",
   "execution_count": 90,
   "metadata": {},
   "outputs": [],
   "source": [
    "C = np.array([[0,-1,-1,3],[5,-5,-2,2],[1,0,4,5]])\n",
    "D = np.array([[0,-3],[-2,-1],[3,-3]])\n",
    "\n",
    "\n",
    "respuesta_2 = multiplicacion(C,D)"
   ]
  },
  {
   "cell_type": "code",
   "execution_count": 91,
   "metadata": {},
   "outputs": [
    {
     "data": {
      "text/plain": [
       "'Las matrices no se pueden multiplicar porque el número de columnas de la matriz a no es el mismo número de filas de la matriz b'"
      ]
     },
     "execution_count": 91,
     "metadata": {},
     "output_type": "execute_result"
    }
   ],
   "source": [
    "respuesta_2"
   ]
  },
  {
   "cell_type": "markdown",
   "metadata": {},
   "source": [
    "Problema 3"
   ]
  },
  {
   "cell_type": "code",
   "execution_count": 92,
   "metadata": {},
   "outputs": [],
   "source": [
    "E = np.array([[2,-5,5,1],[5,2,-7,-6],[-6,-1,7,-4],[5,4,1,-5]])\n",
    "F = np.array([[0,4,-7,1,-6],[-1,-6,-5,1,1],[2,-1,-6,5,-5],[-3,-6,6,3,5]])\n",
    "\n",
    "respuesta_3 = multiplicacion(E,F)"
   ]
  },
  {
   "cell_type": "code",
   "execution_count": 93,
   "metadata": {},
   "outputs": [
    {
     "data": {
      "text/plain": [
       "array([[ 12.,  27., -13.,  25., -37.],\n",
       "       [  2.,  51., -39., -46., -23.],\n",
       "       [ 27.,  -1., -19.,  16., -20.],\n",
       "       [ 13.,  25., -91.,  -1., -56.]])"
      ]
     },
     "execution_count": 93,
     "metadata": {},
     "output_type": "execute_result"
    }
   ],
   "source": [
    "respuesta_3"
   ]
  },
  {
   "cell_type": "markdown",
   "metadata": {},
   "source": [
    "Demostración de la no conmutatividad de la multiplicación de matrices\n"
   ]
  },
  {
   "cell_type": "code",
   "execution_count": 97,
   "metadata": {},
   "outputs": [],
   "source": [
    "G = np.array([[-2,2,3],[5,1,9],[3,6,7]])\n",
    "H = np.array([[-7,9,5],[-1,3,2],[-6,4,2]])\n",
    "\n",
    "respuesta_4 = multiplicacion(G,H)\n",
    "\n",
    "respuesta_5 = multiplicacion(H,G)"
   ]
  },
  {
   "cell_type": "code",
   "execution_count": 98,
   "metadata": {},
   "outputs": [
    {
     "data": {
      "text/plain": [
       "array([[ -6.,   0.,   0.],\n",
       "       [-90.,  84.,  45.],\n",
       "       [-69.,  73.,  41.]])"
      ]
     },
     "execution_count": 98,
     "metadata": {},
     "output_type": "execute_result"
    }
   ],
   "source": [
    "respuesta_4"
   ]
  },
  {
   "cell_type": "code",
   "execution_count": 99,
   "metadata": {},
   "outputs": [
    {
     "data": {
      "text/plain": [
       "array([[74., 25., 95.],\n",
       "       [23., 13., 38.],\n",
       "       [38.,  4., 32.]])"
      ]
     },
     "execution_count": 99,
     "metadata": {},
     "output_type": "execute_result"
    }
   ],
   "source": [
    "respuesta_5"
   ]
  }
 ],
 "metadata": {
  "kernelspec": {
   "display_name": "base",
   "language": "python",
   "name": "python3"
  },
  "language_info": {
   "codemirror_mode": {
    "name": "ipython",
    "version": 3
   },
   "file_extension": ".py",
   "mimetype": "text/x-python",
   "name": "python",
   "nbconvert_exporter": "python",
   "pygments_lexer": "ipython3",
   "version": "3.11.4"
  }
 },
 "nbformat": 4,
 "nbformat_minor": 2
}
