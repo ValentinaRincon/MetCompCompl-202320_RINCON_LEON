{
 "cells": [
  {
   "cell_type": "code",
   "execution_count": 40,
   "metadata": {},
   "outputs": [],
   "source": [
    "import numpy as np"
   ]
  },
  {
   "cell_type": "code",
   "execution_count": 41,
   "metadata": {},
   "outputs": [],
   "source": [
    "\"Problema 1\"\n",
    "\n",
    "A = np.array([[5,-4,-1],[5,-5,4],[2,5,-4],[-5,4,3],[3,-4,-3]])\n",
    "B = np.array([[5,-2,3]])\n",
    "\n",
    "A[0,:]\n",
    "\n",
    "filas_a = A.shape[0]\n",
    "columnas_a = A.shape[1]\n",
    "\n",
    "filas_b = B.shape[0]\n",
    "columnas_b = B.shape[1]"
   ]
  },
  {
   "cell_type": "code",
   "execution_count": 71,
   "metadata": {},
   "outputs": [
    {
     "data": {
      "text/plain": [
       "1"
      ]
     },
     "execution_count": 71,
     "metadata": {},
     "output_type": "execute_result"
    }
   ],
   "source": [
    "filas_b"
   ]
  },
  {
   "cell_type": "code",
   "execution_count": 42,
   "metadata": {},
   "outputs": [],
   "source": [
    "n = len(A[:,0])"
   ]
  },
  {
   "cell_type": "code",
   "execution_count": 43,
   "metadata": {},
   "outputs": [
    {
     "data": {
      "text/plain": [
       "5"
      ]
     },
     "execution_count": 43,
     "metadata": {},
     "output_type": "execute_result"
    }
   ],
   "source": [
    "n"
   ]
  },
  {
   "cell_type": "code",
   "execution_count": 83,
   "metadata": {},
   "outputs": [],
   "source": [
    "def multiplicacion(A,B,filas_a,columnas_a,filas_b,columnas_b):\n",
    "    \n",
    "    respuesta = None\n",
    "  \n",
    "    if len(B[:,0]) == 1:\n",
    "        \n",
    "        V = B.reshape(B.shape[1],1)\n",
    "        \n",
    "        columnas_V = len(V[0,:])\n",
    "        \n",
    "        filas_V = len(V[:,0])\n",
    "        \n",
    "        if columnas_a != filas_V:\n",
    "            \n",
    "            respuesta = \"Las matrices no se pueden multiplicar porque el número de columnas de la matriz a no es el mismo número de filas de la matriz b\"\n",
    "            \n",
    "        else:\n",
    "            \n",
    "            matrizr = np.zeros((filas_a,columnas_V))\n",
    "            \n",
    "            for fila in range(filas_V):\n",
    "                \n",
    "                f = A[fila,:]\n",
    "                \n",
    "                for columna in range(columnas_a):\n",
    "                    \n",
    "                    c = V[:,columna]\n",
    "                    \n",
    "                    valor = np.dot(f,c)\n",
    "                    \n",
    "                    matrizr[fila,columna] = valor\n",
    "                    \n",
    "                    respuesta = matrizr\n",
    "        \n",
    "    else: \n",
    "        if columnas_a != filas_b:\n",
    "            \n",
    "            respuesta = \"Las matrices no se pueden multiplicar porque el número de columnas de la matriz a no es el mismo número de filas de la matriz b\"\n",
    "            \n",
    "        else:\n",
    "            \n",
    "            matrizr = np.zeros((filas_a,columnas_b))\n",
    "            \n",
    "            for fila in range(filas_b):\n",
    "                \n",
    "                f = A[fila,:]\n",
    "                \n",
    "                for columna in range(columnas_a):\n",
    "                    \n",
    "                    c = B[:,columna]\n",
    "                    \n",
    "                    valor = np.dot(f,c)\n",
    "                    \n",
    "                    matrizr[fila,columna] = valor\n",
    "                    \n",
    "                    respuesta = matrizr\n",
    "        \n",
    "    return respuesta"
   ]
  },
  {
   "cell_type": "code",
   "execution_count": 90,
   "metadata": {},
   "outputs": [
    {
     "ename": "IndexError",
     "evalue": "index 1 is out of bounds for axis 1 with size 1",
     "output_type": "error",
     "traceback": [
      "\u001b[1;31m---------------------------------------------------------------------------\u001b[0m",
      "\u001b[1;31mIndexError\u001b[0m                                Traceback (most recent call last)",
      "\u001b[1;32mc:\\Users\\jessi\\Desktop\\MÉTODOS\\Por si acaso\\Metodos1-202320_ValentinaRincon_DanielaLeon\\Taller_3\\Multiplicacionmatrices.ipynb Cell 7\u001b[0m line \u001b[0;36m1\n\u001b[1;32m----> <a href='vscode-notebook-cell:/c%3A/Users/jessi/Desktop/M%C3%89TODOS/Por%20si%20acaso/Metodos1-202320_ValentinaRincon_DanielaLeon/Taller_3/Multiplicacionmatrices.ipynb#W6sZmlsZQ%3D%3D?line=0'>1</a>\u001b[0m respuesta \u001b[39m=\u001b[39m multiplicacion(A,B,filas_a,columnas_a,filas_b,columnas_b)\n",
      "\u001b[1;32mc:\\Users\\jessi\\Desktop\\MÉTODOS\\Por si acaso\\Metodos1-202320_ValentinaRincon_DanielaLeon\\Taller_3\\Multiplicacionmatrices.ipynb Cell 7\u001b[0m line \u001b[0;36m2\n\u001b[0;32m     <a href='vscode-notebook-cell:/c%3A/Users/jessi/Desktop/M%C3%89TODOS/Por%20si%20acaso/Metodos1-202320_ValentinaRincon_DanielaLeon/Taller_3/Multiplicacionmatrices.ipynb#W6sZmlsZQ%3D%3D?line=22'>23</a>\u001b[0m f \u001b[39m=\u001b[39m A[fila,:]\n\u001b[0;32m     <a href='vscode-notebook-cell:/c%3A/Users/jessi/Desktop/M%C3%89TODOS/Por%20si%20acaso/Metodos1-202320_ValentinaRincon_DanielaLeon/Taller_3/Multiplicacionmatrices.ipynb#W6sZmlsZQ%3D%3D?line=24'>25</a>\u001b[0m \u001b[39mfor\u001b[39;00m columna \u001b[39min\u001b[39;00m \u001b[39mrange\u001b[39m(columnas_a):\n\u001b[1;32m---> <a href='vscode-notebook-cell:/c%3A/Users/jessi/Desktop/M%C3%89TODOS/Por%20si%20acaso/Metodos1-202320_ValentinaRincon_DanielaLeon/Taller_3/Multiplicacionmatrices.ipynb#W6sZmlsZQ%3D%3D?line=26'>27</a>\u001b[0m     c \u001b[39m=\u001b[39m V[:,columna]\n\u001b[0;32m     <a href='vscode-notebook-cell:/c%3A/Users/jessi/Desktop/M%C3%89TODOS/Por%20si%20acaso/Metodos1-202320_ValentinaRincon_DanielaLeon/Taller_3/Multiplicacionmatrices.ipynb#W6sZmlsZQ%3D%3D?line=28'>29</a>\u001b[0m     valor \u001b[39m=\u001b[39m np\u001b[39m.\u001b[39mdot(f,c)\n\u001b[0;32m     <a href='vscode-notebook-cell:/c%3A/Users/jessi/Desktop/M%C3%89TODOS/Por%20si%20acaso/Metodos1-202320_ValentinaRincon_DanielaLeon/Taller_3/Multiplicacionmatrices.ipynb#W6sZmlsZQ%3D%3D?line=30'>31</a>\u001b[0m     matrizr[fila,columna] \u001b[39m=\u001b[39m valor\n",
      "\u001b[1;31mIndexError\u001b[0m: index 1 is out of bounds for axis 1 with size 1"
     ]
    }
   ],
   "source": [
    "respuesta = multiplicacion(A,B,filas_a,columnas_a,filas_b,columnas_b)"
   ]
  },
  {
   "cell_type": "code",
   "execution_count": 65,
   "metadata": {},
   "outputs": [
    {
     "data": {
      "text/plain": [
       "'Las matrices no se pueden multiplicar porque el número de columnas de la matriz a no es el mismo número de filas de la matriz b'"
      ]
     },
     "execution_count": 65,
     "metadata": {},
     "output_type": "execute_result"
    }
   ],
   "source": [
    "respuesta"
   ]
  },
  {
   "cell_type": "code",
   "execution_count": 66,
   "metadata": {},
   "outputs": [
    {
     "data": {
      "text/plain": [
       "'Problema 2'"
      ]
     },
     "execution_count": 66,
     "metadata": {},
     "output_type": "execute_result"
    }
   ],
   "source": [
    "\"Problema 2\""
   ]
  },
  {
   "cell_type": "code",
   "execution_count": 69,
   "metadata": {},
   "outputs": [],
   "source": [
    "C = np.array([[0,-1,-1,3],[5,-5,-2,2],[1,0,4,5]])\n",
    "D = np.array([[0,-3],[-2,-1],[3,-3]])\n",
    "\n",
    "filas_c = A.shape[0]\n",
    "columnas_c = A.shape[1]\n",
    "\n",
    "filas_d = B.shape[0]\n",
    "columnas_d = B.shape[1]\n",
    "\n",
    "respuesta_2 = multiplicacion(C,D,filas_c,columnas_c,filas_d,columnas_d)"
   ]
  },
  {
   "cell_type": "code",
   "execution_count": 70,
   "metadata": {},
   "outputs": [
    {
     "data": {
      "text/plain": [
       "'Las matrices no se pueden multiplicar porque el número de columnas de la matriz a no es el mismo número de filas de la matriz b'"
      ]
     },
     "execution_count": 70,
     "metadata": {},
     "output_type": "execute_result"
    }
   ],
   "source": [
    "respuesta_2"
   ]
  },
  {
   "cell_type": "code",
   "execution_count": 48,
   "metadata": {},
   "outputs": [
    {
     "data": {
      "text/plain": [
       "'Problema 3'"
      ]
     },
     "execution_count": 48,
     "metadata": {},
     "output_type": "execute_result"
    }
   ],
   "source": [
    "\"Problema 3\""
   ]
  },
  {
   "cell_type": "code",
   "execution_count": null,
   "metadata": {},
   "outputs": [],
   "source": [
    "E = np.array([[0,-1,-1,3],[5,-5,-2,2],[1,0,4,5]])\n",
    "F = np.array([[0,-3],[-2,-1],[3,-3]])\n",
    "\n",
    "filas_c = A.shape[0]\n",
    "columnas_c = A.shape[1]\n",
    "\n",
    "filas_d = B.shape[0]\n",
    "columnas_d = B.shape[1]"
   ]
  }
 ],
 "metadata": {
  "kernelspec": {
   "display_name": "base",
   "language": "python",
   "name": "python3"
  },
  "language_info": {
   "codemirror_mode": {
    "name": "ipython",
    "version": 3
   },
   "file_extension": ".py",
   "mimetype": "text/x-python",
   "name": "python",
   "nbconvert_exporter": "python",
   "pygments_lexer": "ipython3",
   "version": "3.11.4"
  }
 },
 "nbformat": 4,
 "nbformat_minor": 2
}
