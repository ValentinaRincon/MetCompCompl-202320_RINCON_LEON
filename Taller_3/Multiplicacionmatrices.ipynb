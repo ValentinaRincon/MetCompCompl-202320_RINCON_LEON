{
 "cells": [
  {
   "cell_type": "code",
   "execution_count": 2,
   "metadata": {},
   "outputs": [],
   "source": [
    "import numpy as np"
   ]
  },
  {
   "cell_type": "code",
   "execution_count": 10,
   "metadata": {},
   "outputs": [],
   "source": [
    "def multiplicacion(A,B,filas_a,columnas_a,filas_b,columnas_b):\n",
    "    \n",
    "    respuesta = None\n",
    "  \n",
    "    if len(B[:,0]) == 1:\n",
    "        \n",
    "        V = B.reshape(B.shape[1],1)\n",
    "        \n",
    "        columnas_V = len(V[0,:])\n",
    "        \n",
    "        filas_V = len(V[:,0])\n",
    "        \n",
    "        if columnas_a != filas_V:\n",
    "            \n",
    "            respuesta = \"Las matrices no se pueden multiplicar porque el número de columnas de la matriz a no es el mismo número de filas de la matriz b\"\n",
    "            \n",
    "        else:\n",
    "            \n",
    "            matrizr = np.zeros((filas_a,columnas_V))\n",
    "            \n",
    "            for fila in range(filas_V):\n",
    "                \n",
    "                f = A[fila,:]\n",
    "                \n",
    "                for columna in range(columnas_a):\n",
    "                    \n",
    "                    c = V[:,columna]\n",
    "                    \n",
    "                    valor = np.dot(f,c)\n",
    "                    \n",
    "                    matrizr[fila,columna] = valor\n",
    "                    \n",
    "                    respuesta = matrizr\n",
    "        \n",
    "    else: \n",
    "        if columnas_a != filas_b:\n",
    "            \n",
    "            respuesta = \"Las matrices no se pueden multiplicar porque el número de columnas de la matriz a no es el mismo número de filas de la matriz b\"\n",
    "            \n",
    "        else:\n",
    "            \n",
    "            matrizr = np.zeros((filas_a,columnas_b))\n",
    "            \n",
    "            for fila in range(filas_b):\n",
    "                \n",
    "                f = A[fila,:]\n",
    "                \n",
    "                for columna in range(columnas_a):\n",
    "                    \n",
    "                    c = B[:,columna]\n",
    "                    \n",
    "                    valor = np.dot(f,c)\n",
    "                    \n",
    "                    matrizr[fila,columna] = valor\n",
    "                    \n",
    "                    respuesta = matrizr\n",
    "        \n",
    "    return respuesta"
   ]
  },
  {
   "cell_type": "markdown",
   "metadata": {},
   "source": [
    "Problema 1"
   ]
  },
  {
   "cell_type": "code",
   "execution_count": 41,
   "metadata": {},
   "outputs": [],
   "source": [
    "A = np.array([[5,-4,-1],[5,-5,4],[2,5,-4],[-5,4,3],[3,-4,-3]])\n",
    "B = np.array([[5,-2,3]])\n",
    "\n",
    "A[0,:]\n",
    "\n",
    "filas_a = A.shape[0]\n",
    "columnas_a = A.shape[1]\n",
    "\n",
    "filas_b = B.shape[0]\n",
    "columnas_b = B.shape[1]"
   ]
  },
  {
   "cell_type": "code",
   "execution_count": 71,
   "metadata": {},
   "outputs": [
    {
     "data": {
      "text/plain": [
       "1"
      ]
     },
     "execution_count": 71,
     "metadata": {},
     "output_type": "execute_result"
    }
   ],
   "source": [
    "filas_b"
   ]
  },
  {
   "cell_type": "code",
   "execution_count": 42,
   "metadata": {},
   "outputs": [],
   "source": [
    "n = len(A[:,0])"
   ]
  },
  {
   "cell_type": "code",
   "execution_count": 43,
   "metadata": {},
   "outputs": [
    {
     "data": {
      "text/plain": [
       "5"
      ]
     },
     "execution_count": 43,
     "metadata": {},
     "output_type": "execute_result"
    }
   ],
   "source": [
    "n"
   ]
  },
  {
   "cell_type": "code",
   "execution_count": 90,
   "metadata": {},
   "outputs": [
    {
     "ename": "IndexError",
     "evalue": "index 1 is out of bounds for axis 1 with size 1",
     "output_type": "error",
     "traceback": [
      "\u001b[1;31m---------------------------------------------------------------------------\u001b[0m",
      "\u001b[1;31mIndexError\u001b[0m                                Traceback (most recent call last)",
      "\u001b[1;32mc:\\Users\\jessi\\Desktop\\MÉTODOS\\Por si acaso\\Metodos1-202320_ValentinaRincon_DanielaLeon\\Taller_3\\Multiplicacionmatrices.ipynb Cell 7\u001b[0m line \u001b[0;36m1\n\u001b[1;32m----> <a href='vscode-notebook-cell:/c%3A/Users/jessi/Desktop/M%C3%89TODOS/Por%20si%20acaso/Metodos1-202320_ValentinaRincon_DanielaLeon/Taller_3/Multiplicacionmatrices.ipynb#W6sZmlsZQ%3D%3D?line=0'>1</a>\u001b[0m respuesta \u001b[39m=\u001b[39m multiplicacion(A,B,filas_a,columnas_a,filas_b,columnas_b)\n",
      "\u001b[1;32mc:\\Users\\jessi\\Desktop\\MÉTODOS\\Por si acaso\\Metodos1-202320_ValentinaRincon_DanielaLeon\\Taller_3\\Multiplicacionmatrices.ipynb Cell 7\u001b[0m line \u001b[0;36m2\n\u001b[0;32m     <a href='vscode-notebook-cell:/c%3A/Users/jessi/Desktop/M%C3%89TODOS/Por%20si%20acaso/Metodos1-202320_ValentinaRincon_DanielaLeon/Taller_3/Multiplicacionmatrices.ipynb#W6sZmlsZQ%3D%3D?line=22'>23</a>\u001b[0m f \u001b[39m=\u001b[39m A[fila,:]\n\u001b[0;32m     <a href='vscode-notebook-cell:/c%3A/Users/jessi/Desktop/M%C3%89TODOS/Por%20si%20acaso/Metodos1-202320_ValentinaRincon_DanielaLeon/Taller_3/Multiplicacionmatrices.ipynb#W6sZmlsZQ%3D%3D?line=24'>25</a>\u001b[0m \u001b[39mfor\u001b[39;00m columna \u001b[39min\u001b[39;00m \u001b[39mrange\u001b[39m(columnas_a):\n\u001b[1;32m---> <a href='vscode-notebook-cell:/c%3A/Users/jessi/Desktop/M%C3%89TODOS/Por%20si%20acaso/Metodos1-202320_ValentinaRincon_DanielaLeon/Taller_3/Multiplicacionmatrices.ipynb#W6sZmlsZQ%3D%3D?line=26'>27</a>\u001b[0m     c \u001b[39m=\u001b[39m V[:,columna]\n\u001b[0;32m     <a href='vscode-notebook-cell:/c%3A/Users/jessi/Desktop/M%C3%89TODOS/Por%20si%20acaso/Metodos1-202320_ValentinaRincon_DanielaLeon/Taller_3/Multiplicacionmatrices.ipynb#W6sZmlsZQ%3D%3D?line=28'>29</a>\u001b[0m     valor \u001b[39m=\u001b[39m np\u001b[39m.\u001b[39mdot(f,c)\n\u001b[0;32m     <a href='vscode-notebook-cell:/c%3A/Users/jessi/Desktop/M%C3%89TODOS/Por%20si%20acaso/Metodos1-202320_ValentinaRincon_DanielaLeon/Taller_3/Multiplicacionmatrices.ipynb#W6sZmlsZQ%3D%3D?line=30'>31</a>\u001b[0m     matrizr[fila,columna] \u001b[39m=\u001b[39m valor\n",
      "\u001b[1;31mIndexError\u001b[0m: index 1 is out of bounds for axis 1 with size 1"
     ]
    }
   ],
   "source": [
    "respuesta_1 = multiplicacion(A,B,filas_a,columnas_a,filas_b,columnas_b)"
   ]
  },
  {
   "cell_type": "code",
   "execution_count": 65,
   "metadata": {},
   "outputs": [
    {
     "data": {
      "text/plain": [
       "'Las matrices no se pueden multiplicar porque el número de columnas de la matriz a no es el mismo número de filas de la matriz b'"
      ]
     },
     "execution_count": 65,
     "metadata": {},
     "output_type": "execute_result"
    }
   ],
   "source": [
    "respuesta"
   ]
  },
  {
   "cell_type": "markdown",
   "metadata": {},
   "source": [
    "Problema 2"
   ]
  },
  {
   "cell_type": "code",
   "execution_count": 69,
   "metadata": {},
   "outputs": [],
   "source": [
    "C = np.array([[0,-1,-1,3],[5,-5,-2,2],[1,0,4,5]])\n",
    "D = np.array([[0,-3],[-2,-1],[3,-3]])\n",
    "\n",
    "filas_c = A.shape[0]\n",
    "columnas_c = A.shape[1]\n",
    "\n",
    "filas_d = B.shape[0]\n",
    "columnas_d = B.shape[1]\n",
    "\n",
    "respuesta_2 = multiplicacion(C,D,filas_c,columnas_c,filas_d,columnas_d)"
   ]
  },
  {
   "cell_type": "code",
   "execution_count": 70,
   "metadata": {},
   "outputs": [
    {
     "data": {
      "text/plain": [
       "'Las matrices no se pueden multiplicar porque el número de columnas de la matriz a no es el mismo número de filas de la matriz b'"
      ]
     },
     "execution_count": 70,
     "metadata": {},
     "output_type": "execute_result"
    }
   ],
   "source": [
    "respuesta_2"
   ]
  },
  {
   "cell_type": "markdown",
   "metadata": {},
   "source": [
    "Problema 3"
   ]
  },
  {
   "cell_type": "code",
   "execution_count": 4,
   "metadata": {},
   "outputs": [],
   "source": [
    "E = np.array([[2,-5,5,1],[5,2,-7,-6],[-6,-1,7,-4],[5,4,1,-5]])\n",
    "F = np.array([[0,4,-7,1,-6],[-1,-6,-5,1,1],[2,-1,-6,5,-5],[-3,-6,6,3,5]])\n",
    "\n",
    "filas_e = E.shape[0]\n",
    "columnas_e = E.shape[1]\n",
    "\n",
    "filas_f = F.shape[0]\n",
    "columnas_f = F.shape[1]\n",
    "\n",
    "respuesta_3 = multiplicacion(E,F,filas_e,columnas_e,filas_f,columnas_f)"
   ]
  },
  {
   "cell_type": "code",
   "execution_count": 5,
   "metadata": {},
   "outputs": [
    {
     "data": {
      "text/plain": [
       "array([[ 12.,  27., -13.,  25.,   0.],\n",
       "       [  2.,  51., -39., -46.,   0.],\n",
       "       [ 27.,  -1., -19.,  16.,   0.],\n",
       "       [ 13.,  25., -91.,  -1.,   0.]])"
      ]
     },
     "execution_count": 5,
     "metadata": {},
     "output_type": "execute_result"
    }
   ],
   "source": [
    "respuesta_3"
   ]
  },
  {
   "cell_type": "markdown",
   "metadata": {},
   "source": [
    "Demostración de la no conmutatividad de la multiplicación de matrices\n"
   ]
  },
  {
   "cell_type": "code",
   "execution_count": 7,
   "metadata": {},
   "outputs": [],
   "source": [
    "G = np.array([[-2,2,3],[5,1,9],[3,6,7]])\n",
    "H = np.array([[-7,9,5],[-1,3,2],[-6,4,2]])\n",
    "\n",
    "filas_g = G.shape[0]\n",
    "columnas_g = G.shape[1]\n",
    "\n",
    "filas_h = H.shape[0]\n",
    "columnas_h = H.shape[1]\n",
    "\n",
    "respuesta_4 = multiplicacion(G,H,filas_g,columnas_g,filas_h,columnas_h)\n",
    "\n",
    "respuesta_5 = multiplicacion(H,G,filas_h,columnas_h,filas_g,columnas_g)"
   ]
  },
  {
   "cell_type": "code",
   "execution_count": 8,
   "metadata": {},
   "outputs": [
    {
     "data": {
      "text/plain": [
       "array([[ -6.,   0.,   0.],\n",
       "       [-90.,  84.,  45.],\n",
       "       [-69.,  73.,  41.]])"
      ]
     },
     "execution_count": 8,
     "metadata": {},
     "output_type": "execute_result"
    }
   ],
   "source": [
    "respuesta_4"
   ]
  },
  {
   "cell_type": "code",
   "execution_count": 9,
   "metadata": {},
   "outputs": [
    {
     "data": {
      "text/plain": [
       "array([[74., 25., 95.],\n",
       "       [23., 13., 38.],\n",
       "       [38.,  4., 32.]])"
      ]
     },
     "execution_count": 9,
     "metadata": {},
     "output_type": "execute_result"
    }
   ],
   "source": [
    "respuesta_5"
   ]
  }
 ],
 "metadata": {
  "kernelspec": {
   "display_name": "base",
   "language": "python",
   "name": "python3"
  },
  "language_info": {
   "codemirror_mode": {
    "name": "ipython",
    "version": 3
   },
   "file_extension": ".py",
   "mimetype": "text/x-python",
   "name": "python",
   "nbconvert_exporter": "python",
   "pygments_lexer": "ipython3",
   "version": "3.11.4"
  }
 },
 "nbformat": 4,
 "nbformat_minor": 2
}
