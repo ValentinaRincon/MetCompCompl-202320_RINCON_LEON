{
 "cells": [
  {
   "cell_type": "code",
   "execution_count": 44,
   "metadata": {},
   "outputs": [],
   "source": [
    "import numpy as np"
   ]
  },
  {
   "cell_type": "code",
   "execution_count": 75,
   "metadata": {},
   "outputs": [],
   "source": [
    "def multiplicacion(A,B):\n",
    "    \n",
    "    respuesta = None\n",
    "  \n",
    "    if len(B.shape) == 1:\n",
    "        \n",
    "        V = np.reshape(B,(3,1))\n",
    "        \n",
    "        \n",
    "        filas_a = A.shape[0]\n",
    "        columnas_a = A.shape[1]        \n",
    "        \n",
    "        columnas_V = len(V[0,:])\n",
    "        \n",
    "        filas_V = len(V[:,0])\n",
    "        \n",
    "        if columnas_a != filas_V:\n",
    "            \n",
    "            respuesta = \"Las matrices no se pueden multiplicar porque el número de columnas de la matriz a no es el mismo número de filas de la matriz b\"\n",
    "            \n",
    "        else:\n",
    "            \n",
    "            matrizr = np.zeros((filas_a,columnas_V))\n",
    "            \n",
    "            for fila in range(filas_a):\n",
    "                \n",
    "                f = A[fila,:]\n",
    "                \n",
    "                for columna in range(columnas_V):\n",
    "                    \n",
    "                    c = V[:,columna]\n",
    "                    \n",
    "                    valor = np.dot(f,c)\n",
    "                    \n",
    "                    matrizr[fila,columna] = valor\n",
    "                    \n",
    "                    respuesta = matrizr\n",
    "        \n",
    "    else: \n",
    "        \n",
    "        filas_a = A.shape[0]\n",
    "        columnas_a = A.shape[1]\n",
    "\n",
    "        filas_b = B.shape[0]\n",
    "        columnas_b = B.shape[1]\n",
    "        \n",
    "        if columnas_a != filas_b:\n",
    "            \n",
    "            respuesta = \"Las matrices no se pueden multiplicar porque el número de columnas de la matriz a no es el mismo número de filas de la matriz b\"\n",
    "            \n",
    "        else:\n",
    "            \n",
    "            matrizr = np.zeros((filas_a,columnas_b))\n",
    "            \n",
    "            for fila in range(filas_a):\n",
    "                \n",
    "                f = A[fila,:]\n",
    "                \n",
    "                for columna in range(columnas_b):\n",
    "                    \n",
    "                    c = B[:,columna]\n",
    "                    \n",
    "                    valor = np.dot(f,c)\n",
    "                    \n",
    "                    matrizr[fila,columna] = valor\n",
    "                    \n",
    "                    respuesta = matrizr\n",
    "        \n",
    "    return respuesta"
   ]
  },
  {
   "cell_type": "markdown",
   "metadata": {},
   "source": [
    "Problema 1"
   ]
  },
  {
   "cell_type": "code",
   "execution_count": 76,
   "metadata": {},
   "outputs": [
    {
     "data": {
      "text/plain": [
       "array([ 5, -4, -1])"
      ]
     },
     "execution_count": 76,
     "metadata": {},
     "output_type": "execute_result"
    }
   ],
   "source": [
    "A = np.array([[5,-4,-1],[5,-5,4],[2,5,-4],[-5,4,3],[3,-4,-3]])\n",
    "B = np.array([5,-2,3])\n",
    "\n",
    "A[0,:]\n",
    "\n"
   ]
  },
  {
   "cell_type": "code",
   "execution_count": 77,
   "metadata": {},
   "outputs": [
    {
     "data": {
      "text/plain": [
       "3"
      ]
     },
     "execution_count": 77,
     "metadata": {},
     "output_type": "execute_result"
    }
   ],
   "source": [
    "columnas_a"
   ]
  },
  {
   "cell_type": "code",
   "execution_count": 78,
   "metadata": {},
   "outputs": [
    {
     "data": {
      "text/plain": [
       "3"
      ]
     },
     "execution_count": 78,
     "metadata": {},
     "output_type": "execute_result"
    }
   ],
   "source": [
    "filas_b"
   ]
  },
  {
   "cell_type": "code",
   "execution_count": 79,
   "metadata": {},
   "outputs": [],
   "source": [
    "n = len(A[:,0])"
   ]
  },
  {
   "cell_type": "code",
   "execution_count": 80,
   "metadata": {},
   "outputs": [
    {
     "data": {
      "text/plain": [
       "5"
      ]
     },
     "execution_count": 80,
     "metadata": {},
     "output_type": "execute_result"
    }
   ],
   "source": [
    "n"
   ]
  },
  {
   "cell_type": "code",
   "execution_count": 81,
   "metadata": {},
   "outputs": [],
   "source": [
    "respuesta_1 = multiplicacion(A,B)"
   ]
  },
  {
   "cell_type": "code",
   "execution_count": 82,
   "metadata": {},
   "outputs": [
    {
     "data": {
      "text/plain": [
       "array([[ 30.],\n",
       "       [ 47.],\n",
       "       [-12.],\n",
       "       [-24.],\n",
       "       [ 14.]])"
      ]
     },
     "execution_count": 82,
     "metadata": {},
     "output_type": "execute_result"
    }
   ],
   "source": [
    "respuesta_1"
   ]
  },
  {
   "cell_type": "markdown",
   "metadata": {},
   "source": [
    "Problema 2"
   ]
  },
  {
   "cell_type": "code",
   "execution_count": 64,
   "metadata": {},
   "outputs": [
    {
     "ename": "IndexError",
     "evalue": "tuple index out of range",
     "output_type": "error",
     "traceback": [
      "\u001b[1;31m---------------------------------------------------------------------------\u001b[0m",
      "\u001b[1;31mIndexError\u001b[0m                                Traceback (most recent call last)",
      "\u001b[1;32mc:\\Users\\jessi\\Desktop\\MÉTODOS\\Por si acaso\\Metodos1-202320_ValentinaRincon_DanielaLeon\\Taller_3\\Multiplicacionmatrices.ipynb Cell 12\u001b[0m line \u001b[0;36m8\n\u001b[0;32m      <a href='vscode-notebook-cell:/c%3A/Users/jessi/Desktop/M%C3%89TODOS/Por%20si%20acaso/Metodos1-202320_ValentinaRincon_DanielaLeon/Taller_3/Multiplicacionmatrices.ipynb#X13sZmlsZQ%3D%3D?line=4'>5</a>\u001b[0m columnas_c \u001b[39m=\u001b[39m A\u001b[39m.\u001b[39mshape[\u001b[39m1\u001b[39m]\n\u001b[0;32m      <a href='vscode-notebook-cell:/c%3A/Users/jessi/Desktop/M%C3%89TODOS/Por%20si%20acaso/Metodos1-202320_ValentinaRincon_DanielaLeon/Taller_3/Multiplicacionmatrices.ipynb#X13sZmlsZQ%3D%3D?line=6'>7</a>\u001b[0m filas_d \u001b[39m=\u001b[39m B\u001b[39m.\u001b[39mshape[\u001b[39m0\u001b[39m]\n\u001b[1;32m----> <a href='vscode-notebook-cell:/c%3A/Users/jessi/Desktop/M%C3%89TODOS/Por%20si%20acaso/Metodos1-202320_ValentinaRincon_DanielaLeon/Taller_3/Multiplicacionmatrices.ipynb#X13sZmlsZQ%3D%3D?line=7'>8</a>\u001b[0m columnas_d \u001b[39m=\u001b[39m B\u001b[39m.\u001b[39mshape[\u001b[39m1\u001b[39m]\n\u001b[0;32m     <a href='vscode-notebook-cell:/c%3A/Users/jessi/Desktop/M%C3%89TODOS/Por%20si%20acaso/Metodos1-202320_ValentinaRincon_DanielaLeon/Taller_3/Multiplicacionmatrices.ipynb#X13sZmlsZQ%3D%3D?line=9'>10</a>\u001b[0m respuesta_2 \u001b[39m=\u001b[39m multiplicacion(C,D,filas_c,columnas_c,filas_d,columnas_d)\n",
      "\u001b[1;31mIndexError\u001b[0m: tuple index out of range"
     ]
    }
   ],
   "source": [
    "C = np.array([[0,-1,-1,3],[5,-5,-2,2],[1,0,4,5]])\n",
    "D = np.array([[0,-3],[-2,-1],[3,-3]])\n",
    "\n",
    "filas_c = A.shape[0]\n",
    "columnas_c = A.shape[1]\n",
    "\n",
    "filas_d = B.shape[0]\n",
    "columnas_d = B.shape[1]\n",
    "\n",
    "respuesta_2 = multiplicacion(C,D,filas_c,columnas_c,filas_d,columnas_d)"
   ]
  },
  {
   "cell_type": "code",
   "execution_count": 65,
   "metadata": {},
   "outputs": [
    {
     "ename": "NameError",
     "evalue": "name 'respuesta_2' is not defined",
     "output_type": "error",
     "traceback": [
      "\u001b[1;31m---------------------------------------------------------------------------\u001b[0m",
      "\u001b[1;31mNameError\u001b[0m                                 Traceback (most recent call last)",
      "\u001b[1;32mc:\\Users\\jessi\\Desktop\\MÉTODOS\\Por si acaso\\Metodos1-202320_ValentinaRincon_DanielaLeon\\Taller_3\\Multiplicacionmatrices.ipynb Cell 13\u001b[0m line \u001b[0;36m1\n\u001b[1;32m----> <a href='vscode-notebook-cell:/c%3A/Users/jessi/Desktop/M%C3%89TODOS/Por%20si%20acaso/Metodos1-202320_ValentinaRincon_DanielaLeon/Taller_3/Multiplicacionmatrices.ipynb#X14sZmlsZQ%3D%3D?line=0'>1</a>\u001b[0m respuesta_2\n",
      "\u001b[1;31mNameError\u001b[0m: name 'respuesta_2' is not defined"
     ]
    }
   ],
   "source": [
    "respuesta_2"
   ]
  },
  {
   "cell_type": "markdown",
   "metadata": {},
   "source": [
    "Problema 3"
   ]
  },
  {
   "cell_type": "code",
   "execution_count": null,
   "metadata": {},
   "outputs": [],
   "source": [
    "E = np.array([[2,-5,5,1],[5,2,-7,-6],[-6,-1,7,-4],[5,4,1,-5]])\n",
    "F = np.array([[0,4,-7,1,-6],[-1,-6,-5,1,1],[2,-1,-6,5,-5],[-3,-6,6,3,5]])\n",
    "\n",
    "filas_e = E.shape[0]\n",
    "columnas_e = E.shape[1]\n",
    "\n",
    "filas_f = F.shape[0]\n",
    "columnas_f = F.shape[1]\n",
    "\n",
    "respuesta_3 = multiplicacion(E,F,filas_e,columnas_e,filas_f,columnas_f)"
   ]
  },
  {
   "cell_type": "code",
   "execution_count": null,
   "metadata": {},
   "outputs": [
    {
     "data": {
      "text/plain": [
       "array([[ 12.,  27., -13.,  25.,   0.],\n",
       "       [  2.,  51., -39., -46.,   0.],\n",
       "       [ 27.,  -1., -19.,  16.,   0.],\n",
       "       [ 13.,  25., -91.,  -1.,   0.]])"
      ]
     },
     "execution_count": 5,
     "metadata": {},
     "output_type": "execute_result"
    }
   ],
   "source": [
    "respuesta_3"
   ]
  },
  {
   "cell_type": "markdown",
   "metadata": {},
   "source": [
    "Demostración de la no conmutatividad de la multiplicación de matrices\n"
   ]
  },
  {
   "cell_type": "code",
   "execution_count": null,
   "metadata": {},
   "outputs": [],
   "source": [
    "G = np.array([[-2,2,3],[5,1,9],[3,6,7]])\n",
    "H = np.array([[-7,9,5],[-1,3,2],[-6,4,2]])\n",
    "\n",
    "filas_g = G.shape[0]\n",
    "columnas_g = G.shape[1]\n",
    "\n",
    "filas_h = H.shape[0]\n",
    "columnas_h = H.shape[1]\n",
    "\n",
    "respuesta_4 = multiplicacion(G,H,filas_g,columnas_g,filas_h,columnas_h)\n",
    "\n",
    "respuesta_5 = multiplicacion(H,G,filas_h,columnas_h,filas_g,columnas_g)"
   ]
  },
  {
   "cell_type": "code",
   "execution_count": null,
   "metadata": {},
   "outputs": [
    {
     "data": {
      "text/plain": [
       "array([[ -6.,   0.,   0.],\n",
       "       [-90.,  84.,  45.],\n",
       "       [-69.,  73.,  41.]])"
      ]
     },
     "execution_count": 8,
     "metadata": {},
     "output_type": "execute_result"
    }
   ],
   "source": [
    "respuesta_4"
   ]
  },
  {
   "cell_type": "code",
   "execution_count": null,
   "metadata": {},
   "outputs": [
    {
     "data": {
      "text/plain": [
       "array([[74., 25., 95.],\n",
       "       [23., 13., 38.],\n",
       "       [38.,  4., 32.]])"
      ]
     },
     "execution_count": 9,
     "metadata": {},
     "output_type": "execute_result"
    }
   ],
   "source": [
    "respuesta_5"
   ]
  }
 ],
 "metadata": {
  "kernelspec": {
   "display_name": "base",
   "language": "python",
   "name": "python3"
  },
  "language_info": {
   "codemirror_mode": {
    "name": "ipython",
    "version": 3
   },
   "file_extension": ".py",
   "mimetype": "text/x-python",
   "name": "python",
   "nbconvert_exporter": "python",
   "pygments_lexer": "ipython3",
   "version": "3.11.4"
  }
 },
 "nbformat": 4,
 "nbformat_minor": 2
}
