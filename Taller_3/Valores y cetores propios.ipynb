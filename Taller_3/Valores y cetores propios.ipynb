{
 "cells": [
  {
   "cell_type": "code",
   "execution_count": 1,
   "metadata": {},
   "outputs": [],
   "source": [
    "import numpy as np"
   ]
  },
  {
   "cell_type": "markdown",
   "metadata": {},
   "source": [
    "Menor nivel de energía\n"
   ]
  },
  {
   "cell_type": "code",
   "execution_count": 3,
   "metadata": {},
   "outputs": [],
   "source": [
    "H = np.array([[-2,1,0],[1,-2,1],[0,1,-2]])\n",
    "\n",
    "HI = np.linalg.inv(H)\n",
    "\n",
    "V = np.random.rand(3)\n",
    "V_T = V.T"
   ]
  },
  {
   "cell_type": "code",
   "execution_count": 4,
   "metadata": {},
   "outputs": [],
   "source": [
    "def normalizar(vector,vector_t):\n",
    "    \n",
    "    producto = np.dot(vector,vector_t)\n",
    "    \n",
    "    vector_n = (vector_t)/(np.sqrt(producto))\n",
    "    \n",
    "    return vector_n"
   ]
  },
  {
   "cell_type": "code",
   "execution_count": 5,
   "metadata": {},
   "outputs": [],
   "source": [
    "def algoritmo_multiplicacion(vector,vector_T,matriz,k):\n",
    "    \n",
    "    vector_inicio = normalizar(vector,vector_T)\n",
    "    \n",
    "    for i in range(k):\n",
    "        \n",
    "        vectorr = np.dot(matriz,vector_inicio)\n",
    "        \n",
    "        vectorr = normalizar(vectorr,vectorr.T)\n",
    "        vector_inicio = vectorr\n",
    "        \n",
    "    return vector_inicio"
   ]
  },
  {
   "cell_type": "code",
   "execution_count": 6,
   "metadata": {},
   "outputs": [
    {
     "data": {
      "text/plain": [
       "array([0.50000131, 0.70710679, 0.49999869])"
      ]
     },
     "execution_count": 6,
     "metadata": {},
     "output_type": "execute_result"
    }
   ],
   "source": [
    "algoritmo_multiplicacion(V,V_T,HI,10)"
   ]
  },
  {
   "cell_type": "code",
   "execution_count": 7,
   "metadata": {},
   "outputs": [],
   "source": [
    "E = algoritmo_multiplicacion(V,V_T,HI,10)\n",
    "E_T = E.T"
   ]
  },
  {
   "cell_type": "code",
   "execution_count": 13,
   "metadata": {},
   "outputs": [],
   "source": [
    "miu_2 = np.dot(E,HI)\n",
    "miu = 1/(np.dot(miu_2,E_T))"
   ]
  },
  {
   "cell_type": "code",
   "execution_count": 14,
   "metadata": {},
   "outputs": [
    {
     "data": {
      "text/plain": [
       "-0.5857864376283234"
      ]
     },
     "execution_count": 14,
     "metadata": {},
     "output_type": "execute_result"
    }
   ],
   "source": [
    "miu"
   ]
  },
  {
   "cell_type": "code",
   "execution_count": 15,
   "metadata": {},
   "outputs": [
    {
     "name": "stdout",
     "output_type": "stream",
     "text": [
      "El valor del estado base de Eo es: -0.5857864376283234 y su vector propio es: [0.50000131 0.70710679 0.49999869]\n"
     ]
    }
   ],
   "source": [
    "print(\"El valor del estado base de Eo es: \"+str((miu))+\" y su vector propio es: \" +str(E))"
   ]
  },
  {
   "cell_type": "markdown",
   "metadata": {},
   "source": [
    "Mayor"
   ]
  },
  {
   "cell_type": "code",
   "execution_count": 16,
   "metadata": {},
   "outputs": [
    {
     "data": {
      "text/plain": [
       "array([-0.49514576,  0.70709026, -0.50483071])"
      ]
     },
     "execution_count": 16,
     "metadata": {},
     "output_type": "execute_result"
    }
   ],
   "source": [
    "algoritmo_multiplicacion(V,V_T,H,10)"
   ]
  },
  {
   "cell_type": "code",
   "execution_count": 17,
   "metadata": {},
   "outputs": [],
   "source": [
    "Ef = algoritmo_multiplicacion(V,V_T,H,10)\n",
    "Ef_T = Ef.T"
   ]
  },
  {
   "cell_type": "code",
   "execution_count": 20,
   "metadata": {},
   "outputs": [],
   "source": [
    "miu_3 = np.dot(Ef,H)\n",
    "miu_4 = np.dot(miu_3,Ef_T)"
   ]
  },
  {
   "cell_type": "code",
   "execution_count": 21,
   "metadata": {},
   "outputs": [
    {
     "data": {
      "text/plain": [
       "-3.414147236958957"
      ]
     },
     "execution_count": 21,
     "metadata": {},
     "output_type": "execute_result"
    }
   ],
   "source": [
    "miu_4"
   ]
  },
  {
   "cell_type": "code",
   "execution_count": 23,
   "metadata": {},
   "outputs": [
    {
     "name": "stdout",
     "output_type": "stream",
     "text": [
      "El valor del estado base de Eo es: -3.414147236958957 y su vector propio es: [-0.49514576  0.70709026 -0.50483071]\n"
     ]
    }
   ],
   "source": [
    "print(\"El valor del estado base de Eo es: \"+str((miu_4))+\" y su vector propio es: \" +str(Ef))"
   ]
  }
 ],
 "metadata": {
  "kernelspec": {
   "display_name": "base",
   "language": "python",
   "name": "python3"
  },
  "language_info": {
   "codemirror_mode": {
    "name": "ipython",
    "version": 3
   },
   "file_extension": ".py",
   "mimetype": "text/x-python",
   "name": "python",
   "nbconvert_exporter": "python",
   "pygments_lexer": "ipython3",
   "version": "3.11.4"
  }
 },
 "nbformat": 4,
 "nbformat_minor": 2
}
